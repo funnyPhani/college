{
 "cells": [
  {
   "cell_type": "code",
   "execution_count": 1,
   "metadata": {},
   "outputs": [],
   "source": [
    "from pprint import pprint\n",
    "import requests\n",
    "from bs4 import BeautifulSoup\n",
    "import time\n",
    "import tkinter\n",
    "from tkinter import messagebox\n",
    "url='https://www.flipkart.com/google-pixel-4a-just-black-128-gb/p/itm023b9677aa45d?pid=MOBFUSBNAZGY7HQU&lid=LSTMOBFUSBNAZGY7HQUWHTF0C&marketplace=FLIPKART&srno=s_1_1&otracker=AS_QueryStore_OrganicAutoSuggest_1_2_na_na_na&otracker1=AS_QueryStore_OrganicAutoSuggest_1_2_na_na_na&fm=SEARCH&iid=19bc0f45-4a41-4877-8a37-c927a7fe5c7b.MOBFUSBNAZGY7HQU.SEARCH&ppt=sp&ppn=sp&ssid=dv2odpj7wg0000001604305782431&qH=614b192c242ae032'\n"
   ]
  },
  {
   "cell_type": "code",
   "execution_count": 2,
   "metadata": {},
   "outputs": [],
   "source": [
    "req=requests.get(url)"
   ]
  },
  {
   "cell_type": "code",
   "execution_count": 3,
   "metadata": {},
   "outputs": [],
   "source": [
    "soup=BeautifulSoup(req.content,'html.parser')"
   ]
  },
  {
   "cell_type": "code",
   "execution_count": 4,
   "metadata": {},
   "outputs": [],
   "source": [
    "#pprint(soup)"
   ]
  },
  {
   "cell_type": "code",
   "execution_count": 5,
   "metadata": {},
   "outputs": [],
   "source": [
    "title=soup.find('span',class_='_35KyD6')"
   ]
  },
  {
   "cell_type": "code",
   "execution_count": 6,
   "metadata": {},
   "outputs": [
    {
     "data": {
      "text/plain": [
       "['Google', 'Pixel', '4a', '(Just', 'Black,', '128', 'GB)', '(6', 'GB', 'RAM)']"
      ]
     },
     "execution_count": 6,
     "metadata": {},
     "output_type": "execute_result"
    }
   ],
   "source": [
    "title.text.strip().split()"
   ]
  },
  {
   "cell_type": "code",
   "execution_count": 7,
   "metadata": {},
   "outputs": [],
   "source": [
    "price=soup.find('div',class_='_1vC4OE _3qQ9m1')"
   ]
  },
  {
   "cell_type": "code",
   "execution_count": 8,
   "metadata": {},
   "outputs": [
    {
     "data": {
      "text/plain": [
       "31999"
      ]
     },
     "execution_count": 8,
     "metadata": {},
     "output_type": "execute_result"
    }
   ],
   "source": [
    "int(price.text.replace('₹','').replace(',',''))"
   ]
  },
  {
   "cell_type": "code",
   "execution_count": null,
   "metadata": {},
   "outputs": [],
   "source": []
  },
  {
   "cell_type": "code",
   "execution_count": null,
   "metadata": {},
   "outputs": [
    {
     "name": "stdout",
     "output_type": "stream",
     "text": [
      "Title : Google Pixel 4a (Just Black, 128 GB)  (6 GB RAM)\n",
      "Price : 31999\n",
      "Rating : 4.7\n",
      "reviews : 3,787 Ratings & 842 Reviews\n",
      "--------------------\n"
     ]
    }
   ],
   "source": [
    "from pprint import pprint\n",
    "import requests\n",
    "from bs4 import BeautifulSoup\n",
    "import time\n",
    "import tkinter\n",
    "from tkinter import messagebox\n",
    "\n",
    "\n",
    "while True:\n",
    "    url='https://www.flipkart.com/google-pixel-4a-just-black-128-gb/p/itm023b9677aa45d?pid=MOBFUSBNAZGY7HQU&lid=LSTMOBFUSBNAZGY7HQUWHTF0C&marketplace=FLIPKART&srno=s_1_1&otracker=AS_QueryStore_OrganicAutoSuggest_1_2_na_na_na&otracker1=AS_QueryStore_OrganicAutoSuggest_1_2_na_na_na&fm=SEARCH&iid=19bc0f45-4a41-4877-8a37-c927a7fe5c7b.MOBFUSBNAZGY7HQU.SEARCH&ppt=sp&ppn=sp&ssid=dv2odpj7wg0000001604305782431&qH=614b192c242ae032'\n",
    "    req=requests.get(url)\n",
    "    soup=BeautifulSoup(req.content,'html.parser')\n",
    "    title=soup.find('span',class_='_35KyD6')\n",
    "    print(\"Title :\",title.text)\n",
    "    price=soup.find('div',class_='_1vC4OE _3qQ9m1')\n",
    "    price=int(price.text.replace('₹','').replace(',',''))\n",
    "    print(\"Price :\",price)\n",
    "    rating=soup.find('div',class_='hGSR34')\n",
    "    print('Rating :',rating.text)\n",
    "    reviews=soup.find('span',class_=\"_38sUEc\")\n",
    "    print('reviews :',reviews.text)\n",
    "    print('-'*20)\n",
    "    time.sleep(10)\n",
    "    \n",
    "    \n",
    "    if price<29000:\n",
    "        #print('You Can Buy....!')\n",
    "        tkinter.messagebox.showinfo(title='Alert meaasge',message='You Can Buy...!')\n",
    "    elif price>29000:\n",
    "        #print('No Change...!')\n",
    "        tkinter.messagebox.showinfo(title='No Change',message='Same Price at...!')\n",
    "    print()"
   ]
  },
  {
   "cell_type": "code",
   "execution_count": 10,
   "metadata": {},
   "outputs": [],
   "source": [
    "url='https://www.geeksforgeeks.org/ugc-net-cs-2018-july-ii/'"
   ]
  },
  {
   "cell_type": "code",
   "execution_count": 12,
   "metadata": {},
   "outputs": [],
   "source": [
    "req=requests.get(url)"
   ]
  },
  {
   "cell_type": "code",
   "execution_count": 13,
   "metadata": {},
   "outputs": [
    {
     "data": {
      "text/plain": [
       "<Response [200]>"
      ]
     },
     "execution_count": 13,
     "metadata": {},
     "output_type": "execute_result"
    }
   ],
   "source": [
    "req"
   ]
  },
  {
   "cell_type": "code",
   "execution_count": 14,
   "metadata": {},
   "outputs": [],
   "source": [
    "soup=BeautifulSoup(req.text,'html.parser')"
   ]
  },
  {
   "cell_type": "code",
   "execution_count": 35,
   "metadata": {},
   "outputs": [],
   "source": [
    "# n=int(input('enter the no.of pages :'))\n",
    "# for i in range(n):\n",
    "#     soup.find_all('a',class_='page')\n",
    "data=soup.find_all('div',class_=\"mtq_question_text\")\n",
    "options=soup.find_all('div',class_='mtq_answer_text')"
   ]
  },
  {
   "cell_type": "code",
   "execution_count": 42,
   "metadata": {},
   "outputs": [
    {
     "name": "stdout",
     "output_type": "stream",
     "text": [
      "The definitions in an XML document are said to be __________ when the tagging system and definitions in the DTD are all in compliance.\n",
      "Consider the JavaScript Code:\r\n",
      "\r\n",
      "var y= ’’12”;\r\n",
      "function f( ) {\r\n",
      "var y=’’6”;\r\n",
      "alert (this.y);\r\n",
      "function g( ) {alert (y); }\r\n",
      "g( );\r\n",
      "}\r\n",
      "f( );\r\n",
      "\r\n",
      "If M is the number of alert dialog boxes generated by this JavaScript code and D1, D2, ...., D M represents the content displayed in each of the M dialog boxes, then:\n",
      "What is the output of the following JAVA program ?\r\n",
      "class simple\r\n",
      "{\r\n",
      "public static void main(String[ ] args)\r\n",
      "{\r\n",
      "simple obj = new simple( );\r\n",
      "obj.start( );\r\n",
      "}\r\n",
      "void start( )\r\n",
      "{\r\n",
      "long [ ] P= {3, 4, 5};\r\n",
      "long [ ] Q= method (P);\r\n",
      "System.out.print (P[0] + P[1] + P[2]+”:”);\r\n",
      "System.out.print (Q[0] + Q[1] + Q[2]);\r\n",
      "}\r\n",
      "long [ ] method (long [ ] R)\r\n",
      "{\r\n",
      "R [1]=7;\r\n",
      "return R;\r\n",
      "}\r\n",
      "} //end of class\r\n",
      "\n",
      "What is the output of the following ‘C’ program ? (Assuming little - endian representation of multi-byte data in which Least Significant Byte (LSB) is stored at the lowest memory address.)\r\n",
      "\r\n",
      "#include <stdio.h>\r\n",
      "#include <stdlib.h>\r\n",
      "/ * Assume short int occupies two bytes of storage */\r\n",
      "int main ( )\r\n",
      "{\r\n",
      "union saving\r\n",
      "{\r\n",
      "short int one;\r\n",
      "char two[2];\r\n",
      "};\r\n",
      "union saving m;\r\n",
      "m.two [0] = 5;\r\n",
      "m.two [1] = 2;\r\n",
      "printf(’’%d, %d, %dn”, m.two [0], m.two [1], m.one);\r\n",
      "}/ * end of main * /\r\n",
      "\n",
      "Given below are three implementations of the swap( ) function in C++:\r\n",
      "(a) \r\n",
      "void swap (int a, int b)\r\n",
      "{\r\n",
      "int temp;\r\n",
      "temp = a;\r\n",
      "a = b;\r\n",
      "b = temp;\r\n",
      "}\r\n",
      "int main( )\r\n",
      "{\r\n",
      "int p = 0, q = 1;\r\n",
      "swap (p, q);\r\n",
      "}\r\n",
      "\r\n",
      "(b)\r\n",
      "\r\n",
      "void swap (int &a, int &b)\r\n",
      "{\r\n",
      "int temp;\r\n",
      "temp = a;\r\n",
      "a = b;\r\n",
      "b = temp;\r\n",
      "}\r\n",
      "int main( )\r\n",
      "{\r\n",
      "int p = 0, q = 1;\r\n",
      "swap (p, q);\r\n",
      "}\r\n",
      "\r\n",
      "(c)\r\n",
      "\r\n",
      "void swap (int * a, int * b)\r\n",
      "{\r\n",
      "int * temp;\r\n",
      "temp = a;\r\n",
      "a = b;\r\n",
      "b = temp;\r\n",
      "}\r\n",
      "int main( )\r\n",
      "{\r\n",
      "int p = 0, q = 1;\r\n",
      "swap (&p, &q);\r\n",
      "}\r\n",
      "\r\n",
      "Which of these would actually swap the contents of the two integer variables p and q?\n",
      "In Java, which of the following statements is/are True?\r\n",
      "S1 : The ‘final’ keyword applied to a class definition prevents the class from being extended through derivation.\r\n",
      "S2 : A class can only inherit one class but can implement multiple interfaces.\r\n",
      "S3 : Java permits a class to replace the implementation of a method that it has inherited. It is called method overloading.\r\n",
      "Code:\n",
      "Which of the following statements is/are True?\r\n",
      "P : C programming language has a weak type system with static types.\r\n",
      "Q : Java programming language has a strong type system with static types.\r\n",
      "Code:\n",
      "A graphic display system has a frame buffer that is 640 pixels wide, 480 pixels high and 1 bit of color depth. If the access time for each pixel on the average is 200 nanoseconds, then the refresh rate of this frame buffer is approximately :\n",
      "Which of the following statements is/are True regarding the solution to the visibility problem in 3D graphics ?\r\n",
      "S1 : The Painter’s algorithm sorts polygons by depth and then paints (scan - converts) each Polygon on to the screen starting with the most nearest polygon.\r\n",
      "S2 : Backface Culling refers to eliminating geometry with backfacing normals.\r\n",
      "Code:\n",
      "Consider the matrix\r\n",
      " M =  representing a set of planar (2D) geometric transformations in homogeneous coordinates. Which of the following statements about the matrix M is True?\r\n",
      "\n",
      "well-formed\n",
      "reasonable\n",
      "valid \n",
      "logical\n",
      "M=3; D1 displays ”12”; D2 displays ”6”; D3 displays ”12”.\n",
      "M=3; D1 displays ”6”; D2 displays ”12”; D3 displays ”6”.\n",
      "M=2; D1 displays ”6”; D2 displays ”12”.\n",
      "M=2; D1 displays ”12”; D2 displays ”6”.\n",
      "12 : 15\n",
      "15 : 12\n",
      "12 : 12\n",
      "15 : 15\n",
      "5, 2, 1282\n",
      "5, 2, 52\n",
      "5, 2, 25\n",
      "5, 2, 517\n",
      "(a) only\n",
      "(b) only\n",
      "(c) only\n",
      "(b) and (c) only\n",
      "S1 and S2 only\n",
      "S1 and S3 only\n",
      "S2 and S3 only\n",
      "All of S1, S2 and S3\n",
      "P only\n",
      "Q only\n",
      "Both P and Q\n",
      "Neither P nor Q\n",
      "16 frames per second\n",
      "19 frames per second\n",
      "21 frames per second\n",
      "23 frames per second\n",
      "S1 only\n",
      "S2 only\n",
      "Both S1 and S2\n",
      "Neither S1 nor S2\n",
      "M represents first, a scaling of vector (2, 1) followed by translation of vector (1, 1)\n",
      "M represents first, a translation of vector (1, 1) followed by scaling of vector (2, 1)\n",
      "M represents first, a scaling of vector (3, 1) followed by shearing of parameters (−1, 1)\n",
      "M represents first, a shearing of parameters (−1, 1) followed by scaling of vector (3, 1)\n"
     ]
    }
   ],
   "source": [
    "for i in (data,options):\n",
    "    for j in i:\n",
    "        \n",
    "        print(j.text)\n",
    "        #print(i.text,j.text)"
   ]
  },
  {
   "cell_type": "code",
   "execution_count": 1,
   "metadata": {},
   "outputs": [],
   "source": [
    "import requests\n",
    "from bs4 import BeautifulSoup"
   ]
  },
  {
   "cell_type": "code",
   "execution_count": 2,
   "metadata": {},
   "outputs": [],
   "source": [
    "url='https://www.naukri.com/data-scientist-jobs'\n",
    "req=requests.get(url)\n",
    "soup=BeautifulSoup(req.text,'html.parser')"
   ]
  },
  {
   "cell_type": "code",
   "execution_count": 20,
   "metadata": {},
   "outputs": [],
   "source": [
    "a=soup.find('a',class_=\"title fw500 ellipsis\")\n",
    "for i in ti:\n",
    "    for b in i.get('href'):\n",
    "        print(b.text)"
   ]
  },
  {
   "cell_type": "code",
   "execution_count": 21,
   "metadata": {},
   "outputs": [
    {
     "data": {
      "text/plain": [
       "[]"
      ]
     },
     "execution_count": 21,
     "metadata": {},
     "output_type": "execute_result"
    }
   ],
   "source": [
    "ti"
   ]
  },
  {
   "cell_type": "code",
   "execution_count": 22,
   "metadata": {},
   "outputs": [
    {
     "ename": "NoSuchWindowException",
     "evalue": "Message: no such window: target window already closed\nfrom unknown error: web view not found\n  (Session info: chrome=86.0.4240.183)\n",
     "output_type": "error",
     "traceback": [
      "\u001b[1;31m---------------------------------------------------------------------------\u001b[0m",
      "\u001b[1;31mNoSuchWindowException\u001b[0m                     Traceback (most recent call last)",
      "\u001b[1;32m<ipython-input-22-1076d83a11c1>\u001b[0m in \u001b[0;36m<module>\u001b[1;34m\u001b[0m\n\u001b[0;32m     13\u001b[0m \u001b[1;33m\u001b[0m\u001b[0m\n\u001b[0;32m     14\u001b[0m         \u001b[1;31m##Step1: Get the page\u001b[0m\u001b[1;33m\u001b[0m\u001b[1;33m\u001b[0m\u001b[1;33m\u001b[0m\u001b[0m\n\u001b[1;32m---> 15\u001b[1;33m         \u001b[0mdriver\u001b[0m\u001b[1;33m.\u001b[0m\u001b[0mget\u001b[0m\u001b[1;33m(\u001b[0m\u001b[1;34m\"https://www.indeed.co.in/jobs?q=data+science&l=India&start=\"\u001b[0m\u001b[1;33m+\u001b[0m\u001b[0mstr\u001b[0m\u001b[1;33m(\u001b[0m\u001b[0mi\u001b[0m\u001b[1;33m)\u001b[0m\u001b[1;33m)\u001b[0m\u001b[1;33m\u001b[0m\u001b[1;33m\u001b[0m\u001b[0m\n\u001b[0m\u001b[0;32m     16\u001b[0m         \u001b[0mdriver\u001b[0m\u001b[1;33m.\u001b[0m\u001b[0mimplicitly_wait\u001b[0m\u001b[1;33m(\u001b[0m\u001b[1;36m4\u001b[0m\u001b[1;33m)\u001b[0m\u001b[1;33m\u001b[0m\u001b[1;33m\u001b[0m\u001b[0m\n\u001b[0;32m     17\u001b[0m \u001b[1;33m\u001b[0m\u001b[0m\n",
      "\u001b[1;32m~\\Anaconda3\\lib\\site-packages\\selenium\\webdriver\\remote\\webdriver.py\u001b[0m in \u001b[0;36mget\u001b[1;34m(self, url)\u001b[0m\n\u001b[0;32m    331\u001b[0m         \u001b[0mLoads\u001b[0m \u001b[0ma\u001b[0m \u001b[0mweb\u001b[0m \u001b[0mpage\u001b[0m \u001b[1;32min\u001b[0m \u001b[0mthe\u001b[0m \u001b[0mcurrent\u001b[0m \u001b[0mbrowser\u001b[0m \u001b[0msession\u001b[0m\u001b[1;33m.\u001b[0m\u001b[1;33m\u001b[0m\u001b[1;33m\u001b[0m\u001b[0m\n\u001b[0;32m    332\u001b[0m         \"\"\"\n\u001b[1;32m--> 333\u001b[1;33m         \u001b[0mself\u001b[0m\u001b[1;33m.\u001b[0m\u001b[0mexecute\u001b[0m\u001b[1;33m(\u001b[0m\u001b[0mCommand\u001b[0m\u001b[1;33m.\u001b[0m\u001b[0mGET\u001b[0m\u001b[1;33m,\u001b[0m \u001b[1;33m{\u001b[0m\u001b[1;34m'url'\u001b[0m\u001b[1;33m:\u001b[0m \u001b[0murl\u001b[0m\u001b[1;33m}\u001b[0m\u001b[1;33m)\u001b[0m\u001b[1;33m\u001b[0m\u001b[1;33m\u001b[0m\u001b[0m\n\u001b[0m\u001b[0;32m    334\u001b[0m \u001b[1;33m\u001b[0m\u001b[0m\n\u001b[0;32m    335\u001b[0m     \u001b[1;33m@\u001b[0m\u001b[0mproperty\u001b[0m\u001b[1;33m\u001b[0m\u001b[1;33m\u001b[0m\u001b[0m\n",
      "\u001b[1;32m~\\Anaconda3\\lib\\site-packages\\selenium\\webdriver\\remote\\webdriver.py\u001b[0m in \u001b[0;36mexecute\u001b[1;34m(self, driver_command, params)\u001b[0m\n\u001b[0;32m    319\u001b[0m         \u001b[0mresponse\u001b[0m \u001b[1;33m=\u001b[0m \u001b[0mself\u001b[0m\u001b[1;33m.\u001b[0m\u001b[0mcommand_executor\u001b[0m\u001b[1;33m.\u001b[0m\u001b[0mexecute\u001b[0m\u001b[1;33m(\u001b[0m\u001b[0mdriver_command\u001b[0m\u001b[1;33m,\u001b[0m \u001b[0mparams\u001b[0m\u001b[1;33m)\u001b[0m\u001b[1;33m\u001b[0m\u001b[1;33m\u001b[0m\u001b[0m\n\u001b[0;32m    320\u001b[0m         \u001b[1;32mif\u001b[0m \u001b[0mresponse\u001b[0m\u001b[1;33m:\u001b[0m\u001b[1;33m\u001b[0m\u001b[1;33m\u001b[0m\u001b[0m\n\u001b[1;32m--> 321\u001b[1;33m             \u001b[0mself\u001b[0m\u001b[1;33m.\u001b[0m\u001b[0merror_handler\u001b[0m\u001b[1;33m.\u001b[0m\u001b[0mcheck_response\u001b[0m\u001b[1;33m(\u001b[0m\u001b[0mresponse\u001b[0m\u001b[1;33m)\u001b[0m\u001b[1;33m\u001b[0m\u001b[1;33m\u001b[0m\u001b[0m\n\u001b[0m\u001b[0;32m    322\u001b[0m             response['value'] = self._unwrap_value(\n\u001b[0;32m    323\u001b[0m                 response.get('value', None))\n",
      "\u001b[1;32m~\\Anaconda3\\lib\\site-packages\\selenium\\webdriver\\remote\\errorhandler.py\u001b[0m in \u001b[0;36mcheck_response\u001b[1;34m(self, response)\u001b[0m\n\u001b[0;32m    240\u001b[0m                 \u001b[0malert_text\u001b[0m \u001b[1;33m=\u001b[0m \u001b[0mvalue\u001b[0m\u001b[1;33m[\u001b[0m\u001b[1;34m'alert'\u001b[0m\u001b[1;33m]\u001b[0m\u001b[1;33m.\u001b[0m\u001b[0mget\u001b[0m\u001b[1;33m(\u001b[0m\u001b[1;34m'text'\u001b[0m\u001b[1;33m)\u001b[0m\u001b[1;33m\u001b[0m\u001b[1;33m\u001b[0m\u001b[0m\n\u001b[0;32m    241\u001b[0m             \u001b[1;32mraise\u001b[0m \u001b[0mexception_class\u001b[0m\u001b[1;33m(\u001b[0m\u001b[0mmessage\u001b[0m\u001b[1;33m,\u001b[0m \u001b[0mscreen\u001b[0m\u001b[1;33m,\u001b[0m \u001b[0mstacktrace\u001b[0m\u001b[1;33m,\u001b[0m \u001b[0malert_text\u001b[0m\u001b[1;33m)\u001b[0m\u001b[1;33m\u001b[0m\u001b[1;33m\u001b[0m\u001b[0m\n\u001b[1;32m--> 242\u001b[1;33m         \u001b[1;32mraise\u001b[0m \u001b[0mexception_class\u001b[0m\u001b[1;33m(\u001b[0m\u001b[0mmessage\u001b[0m\u001b[1;33m,\u001b[0m \u001b[0mscreen\u001b[0m\u001b[1;33m,\u001b[0m \u001b[0mstacktrace\u001b[0m\u001b[1;33m)\u001b[0m\u001b[1;33m\u001b[0m\u001b[1;33m\u001b[0m\u001b[0m\n\u001b[0m\u001b[0;32m    243\u001b[0m \u001b[1;33m\u001b[0m\u001b[0m\n\u001b[0;32m    244\u001b[0m     \u001b[1;32mdef\u001b[0m \u001b[0m_value_or_default\u001b[0m\u001b[1;33m(\u001b[0m\u001b[0mself\u001b[0m\u001b[1;33m,\u001b[0m \u001b[0mobj\u001b[0m\u001b[1;33m,\u001b[0m \u001b[0mkey\u001b[0m\u001b[1;33m,\u001b[0m \u001b[0mdefault\u001b[0m\u001b[1;33m)\u001b[0m\u001b[1;33m:\u001b[0m\u001b[1;33m\u001b[0m\u001b[1;33m\u001b[0m\u001b[0m\n",
      "\u001b[1;31mNoSuchWindowException\u001b[0m: Message: no such window: target window already closed\nfrom unknown error: web view not found\n  (Session info: chrome=86.0.4240.183)\n"
     ]
    }
   ],
   "source": [
    "from selenium import webdriver\n",
    "import pandas as pd\n",
    "from bs4 import BeautifulSoup\n",
    "\n",
    "## Download the chromedriver from link in description\n",
    "## And give the location of executable here\n",
    "driver = webdriver.Chrome(\"./chromedriver\")\n",
    "\n",
    "dataframe = pd.DataFrame(columns=[\"Title\",\"Location\",\"Company\",\"Salary\",\"Sponsored\",\"Description\"])\n",
    "\n",
    "\n",
    "for i in range(0,500,10):\n",
    "\n",
    "\t##Step1: Get the page\n",
    "\tdriver.get(\"https://www.indeed.co.in/jobs?q=data+science&l=India&start=\"+str(i))\n",
    "\tdriver.implicitly_wait(4)\n",
    "\n",
    "\tall_jobs = driver.find_elements_by_class_name('result')\n",
    "\n",
    "\tfor job in all_jobs:\n",
    "\n",
    "\t\tresult_html = job.get_attribute('innerHTML')\n",
    "\t\tsoup = BeautifulSoup(result_html,'html.parser')\n",
    "\n",
    "\t\ttry:\n",
    "\t\t\ttitle = soup.find(\"a\",class_=\"jobtitle\").text.replace('\\n','')\n",
    "\t\texcept:\n",
    "\t\t\ttitle = 'None'\n",
    "\n",
    "\t\ttry:\n",
    "\t\t\tlocation = soup.find(class_=\"location\").text\n",
    "\t\texcept:\n",
    "\t\t\tlocation = 'None'\n",
    "\n",
    "\t\ttry:\n",
    "\t\t\tcompany = soup.find(class_=\"company\").text.replace(\"\\n\",\"\").strip()\n",
    "\t\texcept:\n",
    "\t\t\tcompany = 'None'\n",
    "\n",
    "\t\ttry:\n",
    "\t\t\tsalary = soup.find(class_=\"salary\").text.replace(\"\\n\",\"\").strip()\n",
    "\t\texcept:\n",
    "\t\t\tsalary = 'None'\n",
    "\n",
    "\t\ttry:\n",
    "\t\t\tsponsored = soup.find(class_=\"sponsoredGray\").text\n",
    "\t\t\tsponsored = \"Sponsored\"\n",
    "\t\texcept:\n",
    "\t\t\tsponsored = \"Organic\"\n",
    "\n",
    "\t\t\n",
    "\t\tsum_div = job.find_elements_by_class_name(\"summary\")[0]\n",
    "\t\ttry:\n",
    "\t\t\tsum_div.click()\n",
    "\t\texcept:\n",
    "\t\t\tclose_button = driver.find_elements_by_class_name(\"popover-x-button-close\")[0]\n",
    "\t\t\tclose_button.click()\n",
    "\t\t\tsum_div.click()\n",
    "\t\t\t\n",
    "\n",
    "\t\tjob_desc = driver.find_element_by_id('vjs-desc').text\n",
    "\n",
    "\n",
    "\t\tdataframe = dataframe.append({'Title':title,'Location':location,\"Company\":company,\n",
    "\t\t\t\t\t\t\"Sponsored\":sponsored,\"Description\":job_desc},\n",
    "\t\t\t\t\t\tignore_index=True)\n",
    "\n",
    "\n",
    "dataframe.to_csv(\"datascience.csv\",index=False)\n",
    "\n",
    "\n"
   ]
  },
  {
   "cell_type": "code",
   "execution_count": null,
   "metadata": {},
   "outputs": [],
   "source": []
  }
 ],
 "metadata": {
  "kernelspec": {
   "display_name": "Python 3",
   "language": "python",
   "name": "python3"
  },
  "language_info": {
   "codemirror_mode": {
    "name": "ipython",
    "version": 3
   },
   "file_extension": ".py",
   "mimetype": "text/x-python",
   "name": "python",
   "nbconvert_exporter": "python",
   "pygments_lexer": "ipython3",
   "version": "3.7.4"
  }
 },
 "nbformat": 4,
 "nbformat_minor": 2
}
