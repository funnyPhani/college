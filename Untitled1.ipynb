{
 "cells": [
  {
   "cell_type": "code",
   "execution_count": 15,
   "metadata": {},
   "outputs": [
    {
     "name": "stdout",
     "output_type": "stream",
     "text": [
      "Select operation.\n",
      "1.Add\n",
      "2.Subtract\n",
      "3.Multiply\n",
      "4.Divide\n",
      "Enter choice(1/2/3/4): 1\n",
      "Enter first number: 5\n",
      "Enter second number: 10\n",
      "5.0 + 10.0 = 15.0\n"
     ]
    }
   ],
   "source": [
    "# Program make a simple calculator\n",
    "\n",
    "# This function adds two numbers\n",
    "def add(x, y):\n",
    "    return x + y\n",
    "\n",
    "# This function subtracts two numbers\n",
    "def subtract(x, y):\n",
    "    return x - y\n",
    "\n",
    "# This function multiplies two numbers\n",
    "def multiply(x, y):\n",
    "    return x * y\n",
    "\n",
    "# This function divides two numbers\n",
    "def divide(x, y):\n",
    "    return x / y\n",
    "\n",
    "\n",
    "print(\"Select operation.\")\n",
    "print(\"1.Add\")\n",
    "print(\"2.Subtract\")\n",
    "print(\"3.Multiply\")\n",
    "print(\"4.Divide\")\n",
    "\n",
    "while True:\n",
    "    # Take input from the user\n",
    "    choice = input(\"Enter choice(1/2/3/4): \")\n",
    "\n",
    "    # Check if choice is one of the four options\n",
    "    if choice in ('1', '2', '3', '4'):\n",
    "        num1 = float(input(\"Enter first number: \"))\n",
    "        num2 = float(input(\"Enter second number: \"))\n",
    "\n",
    "        if choice == '1':\n",
    "            print(num1, \"+\", num2, \"=\", add(num1, num2))\n",
    "\n",
    "        elif choice == '2':\n",
    "            print(num1, \"-\", num2, \"=\", subtract(num1, num2))\n",
    "\n",
    "        elif choice == '3':\n",
    "            print(num1, \"*\", num2, \"=\", multiply(num1, num2))\n",
    "\n",
    "        elif choice == '4':\n",
    "            print(num1, \"/\", num2, \"=\", divide(num1, num2))\n",
    "        break\n",
    "    else:\n",
    "        print(\"Invalid Input\")\n"
   ]
  },
  {
   "cell_type": "code",
   "execution_count": null,
   "metadata": {},
   "outputs": [],
   "source": []
  },
  {
   "cell_type": "code",
   "execution_count": 6,
   "metadata": {},
   "outputs": [
    {
     "name": "stdout",
     "output_type": "stream",
     "text": [
      "Enter the number of rows: 3\n",
      "    * * * * \n",
      "     * * * \n",
      "      * * \n",
      "       * \n"
     ]
    }
   ],
   "source": [
    "rows = int(input(\"Enter the number of rows: \"))  \n",
    "  \n",
    "# It is used to print space  \n",
    "k = 2 * rows - 2  \n",
    "# Outer loop in reverse order  \n",
    "for i in range(rows, -1, -1):  \n",
    "    # Inner loop will print the number of space.  \n",
    "    for j in range(k, 0, -1):  \n",
    "        print(end=\" \")  \n",
    "    k = k + 1  \n",
    "    # This inner loop will print the number o stars  \n",
    "    for j in range(0, i + 1):  \n",
    "        print(\"*\", end=\" \")  \n",
    "    print(\"\")  "
   ]
  },
  {
   "cell_type": "code",
   "execution_count": 9,
   "metadata": {},
   "outputs": [
    {
     "name": "stdout",
     "output_type": "stream",
     "text": [
      "Enter the number of rows: 4\n",
      "      *   \n",
      "     *  *   \n",
      "    *  *  *   \n",
      "   *  *  *  *   \n"
     ]
    }
   ],
   "source": [
    "n = int(input(\"Enter the number of rows: \"))  \n",
    "m = (2 * n) - 2  \n",
    "for i in range(0, n):  \n",
    "    for j in range(0, m):  \n",
    "        print(end=\" \")  \n",
    "    m = m - 1  # decrementing m after each loop  \n",
    "    for j in range(0, i + 1):  \n",
    "        # printing full Triangle pyramid using stars  \n",
    "        print(\"* \", end=' ')  \n",
    "    print(\" \") "
   ]
  },
  {
   "cell_type": "code",
   "execution_count": 71,
   "metadata": {},
   "outputs": [
    {
     "name": "stdout",
     "output_type": "stream",
     "text": [
      "Enter the number of rows: 5\n",
      "        *  \n",
      "       *  *  \n",
      "      *  *  *  \n",
      "     *  *  *  *  \n",
      "    *  *  *  *  *  \n",
      "Enter the number of rows: 3\n",
      "    * * * * \n",
      "     * * * \n",
      "      * * \n",
      "       * \n"
     ]
    }
   ],
   "source": [
    "n = int(input(\"Enter the number of rows: \"))  \n",
    "m = (2 * n) - 2  \n",
    "for i in range(0, n):  \n",
    "    for j in range(0, m):  \n",
    "        print(end=\" \")  \n",
    "    m = m - 1  # decrementing m after each loop  \n",
    "    for j in range(0, i + 1):  \n",
    "        # printing full Triangle pyramid using stars  \n",
    "        print(\"* \", end=' ')  \n",
    "    print(\"\") \n",
    "\n",
    "    \n",
    "rows = int(input(\"Enter the number of rows: \"))  \n",
    "  \n",
    "# It is used to print space  \n",
    "k = 2 * rows - 2  \n",
    "# Outer loop in reverse order  \n",
    "for i in range(rows, -1, -1):  \n",
    "    # Inner loop will print the number of space.  \n",
    "    for j in range(k, 0, -1):  \n",
    "        print(end=\" \")  \n",
    "    k = k + 1  \n",
    "    # This inner loop will print the number o stars  \n",
    "    for j in range(0, i + 1):  \n",
    "        print(\"*\", end=\" \")  \n",
    "    print(\"\")  "
   ]
  },
  {
   "cell_type": "code",
   "execution_count": 12,
   "metadata": {},
   "outputs": [
    {
     "name": "stdout",
     "output_type": "stream",
     "text": [
      "Line 1 - Value of c is  12\n",
      "Line 2 - Value of c is  61\n",
      "Line 3 - Value of c is  49\n",
      "Line 4 - Value of c is  -61\n",
      "Line 5 - Value of c is  240\n",
      "Line 6 - Value of c is  15\n"
     ]
    }
   ],
   "source": [
    "\n",
    "a = 60            # 60 = 0011 1100 \n",
    "\n",
    "b = 13            # 13 = 0000 1101 \n",
    "\n",
    "c = 0\n",
    "\n",
    "\n",
    "\n",
    "c = a & b;        # 12 = 0000 1100\n",
    "\n",
    "print (\"Line 1 - Value of c is \", c)\n",
    "\n",
    "\n",
    "1\n",
    "c = a | b;        # 61 = 0011 1101 \n",
    "\n",
    "print (\"Line 2 - Value of c is \", c)\n",
    "\n",
    "\n",
    "\n",
    "c = a ^ b;        # 49 = 0011 0001\n",
    "\n",
    "print (\"Line 3 - Value of c is \", c)\n",
    "\n",
    "c = ~a;           # -61 = 1100 0011\n",
    "\n",
    "print (\"Line 4 - Value of c is \", c)\n",
    "\n",
    "\n",
    "\n",
    "c = a << 2;       # 240 = 1111 0000\n",
    "print (\"Line 5 - Value of c is \", c)\n",
    "\n",
    "c = a >> 2;       # 15 = 0000 1111\n",
    "\n",
    "print (\"Line 6 - Value of c is \", c)\n"
   ]
  },
  {
   "cell_type": "code",
   "execution_count": 16,
   "metadata": {},
   "outputs": [
    {
     "name": "stdout",
     "output_type": "stream",
     "text": [
      "20 100 141 301\n",
      "100.5 150.0\n",
      "(5+3.14j) 3.14 5.0\n"
     ]
    }
   ],
   "source": [
    "x = 0b10100 #Binary Literals  \n",
    "y = 100 #Decimal Literal   \n",
    "z = 0o215 #Octal Literal  \n",
    "u = 0x12d #Hexadecimal Literal  \n",
    "  \n",
    "#Float Literal  \n",
    "float_1 = 100.5   \n",
    "float_2 = 1.5e2  \n",
    "  \n",
    "#Complex Literal   \n",
    "a = 5+3.14j  \n",
    "  \n",
    "print(x, y, z, u)  \n",
    "print(float_1, float_2)  \n",
    "print(a, a.imag, a.real)  "
   ]
  },
  {
   "cell_type": "code",
   "execution_count": 17,
   "metadata": {},
   "outputs": [
    {
     "data": {
      "text/plain": [
       "-10"
      ]
     },
     "execution_count": 17,
     "metadata": {},
     "output_type": "execute_result"
    }
   ],
   "source": [
    "a=-10\n",
    "a"
   ]
  },
  {
   "cell_type": "code",
   "execution_count": 18,
   "metadata": {},
   "outputs": [
    {
     "data": {
      "text/plain": [
       "-40"
      ]
     },
     "execution_count": 18,
     "metadata": {},
     "output_type": "execute_result"
    }
   ],
   "source": [
    "a<<2"
   ]
  },
  {
   "cell_type": "code",
   "execution_count": 19,
   "metadata": {},
   "outputs": [
    {
     "data": {
      "text/plain": [
       "-3"
      ]
     },
     "execution_count": 19,
     "metadata": {},
     "output_type": "execute_result"
    }
   ],
   "source": [
    "a>>2"
   ]
  },
  {
   "cell_type": "code",
   "execution_count": 20,
   "metadata": {},
   "outputs": [
    {
     "name": "stdout",
     "output_type": "stream",
     "text": [
      "Line 5 - Value of c is  240\n",
      "Line 6 - Value of c is  15\n"
     ]
    }
   ],
   "source": [
    "a = 60            # 60 = 0011 1100 \n",
    "c = a << 2;       # 240 = 1111 0000\n",
    "print (\"Line 5 - Value of c is \", c)\n",
    "c = a >> 2;       # 15 = 0000 1111\n",
    "print (\"Line 6 - Value of c is \", c)"
   ]
  },
  {
   "cell_type": "code",
   "execution_count": 22,
   "metadata": {},
   "outputs": [
    {
     "name": "stdout",
     "output_type": "stream",
     "text": [
      "Line 5 - Value of c is  -240\n",
      "Line 6 - Value of c is  -15\n"
     ]
    }
   ],
   "source": [
    "a = -60            # 60 = 0011 1100 \n",
    "c = a << 2;       # 240 = 1111 0000\n",
    "print (\"Line 5 - Value of c is \", c)\n",
    "c = a >> 2;       # 15 = 0000 1111\n",
    "print (\"Line 6 - Value of c is \", c)"
   ]
  },
  {
   "cell_type": "code",
   "execution_count": 23,
   "metadata": {},
   "outputs": [
    {
     "name": "stdout",
     "output_type": "stream",
     "text": [
      "Line 5 - Value of c is  40\n",
      "Line 6 - Value of c is  2\n"
     ]
    }
   ],
   "source": [
    "a = 10           # 60 = 0011 1100 \n",
    "c = a << 2;       # 240 = 1111 0000\n",
    "print (\"Line 5 - Value of c is \", c)\n",
    "c = a >> 2;       # 15 = 0000 1111\n",
    "print (\"Line 6 - Value of c is \", c)"
   ]
  },
  {
   "cell_type": "code",
   "execution_count": 24,
   "metadata": {},
   "outputs": [
    {
     "name": "stdout",
     "output_type": "stream",
     "text": [
      "Line 5 - Value of c is  -40\n",
      "Line 6 - Value of c is  -3\n"
     ]
    }
   ],
   "source": [
    "a = -10            # 60 = 0011 1100 \n",
    "c = a << 2;       # 240 = 1111 0000\n",
    "print (\"Line 5 - Value of c is \", c)\n",
    "c = a >> 2;       # 15 = 0000 1111\n",
    "print (\"Line 6 - Value of c is \", c)"
   ]
  },
  {
   "cell_type": "code",
   "execution_count": 32,
   "metadata": {},
   "outputs": [
    {
     "data": {
      "text/plain": [
       "'111100'"
      ]
     },
     "execution_count": 32,
     "metadata": {},
     "output_type": "execute_result"
    }
   ],
   "source": [
    "\"{0:b}\".format(60)\n"
   ]
  },
  {
   "cell_type": "code",
   "execution_count": 57,
   "metadata": {},
   "outputs": [
    {
     "name": "stdout",
     "output_type": "stream",
     "text": [
      "Provide the next data item (or 'exit' to stop>5\n",
      "Input data : 5. Running total : 5\n",
      "Provide the next data item (or 'exit' to stop>10\n",
      "Input data : 10. Running total : 15\n",
      "Provide the next data item (or 'exit' to stop>15\n",
      "Input data : 15. Running total : 30\n",
      "Provide the next data item (or 'exit' to stop>exit\n",
      "Final total : 30\n"
     ]
    }
   ],
   "source": [
    "total = 0 \n",
    "while True: \n",
    "   answer = input('Provide the next data item (or \\'exit\\' to stop>') \n",
    "   if answer == 'exit': \n",
    "       break \n",
    " \n",
    "   input_data = int(answer) \n",
    "   total = total + input_data \n",
    "   print('Input data : {}. Running total : {}'.format(input_data, total)) \n",
    " \n",
    "print('Final total : {}'.format(total))"
   ]
  },
  {
   "cell_type": "code",
   "execution_count": 44,
   "metadata": {},
   "outputs": [],
   "source": [
    "import numpy as np"
   ]
  },
  {
   "cell_type": "code",
   "execution_count": 47,
   "metadata": {},
   "outputs": [
    {
     "data": {
      "text/plain": [
       "2.5"
      ]
     },
     "execution_count": 47,
     "metadata": {},
     "output_type": "execute_result"
    }
   ],
   "source": [
    "np.array(list(range(1,5))).mean()"
   ]
  },
  {
   "cell_type": "code",
   "execution_count": 48,
   "metadata": {},
   "outputs": [
    {
     "data": {
      "text/plain": [
       "2.5"
      ]
     },
     "execution_count": 48,
     "metadata": {},
     "output_type": "execute_result"
    }
   ],
   "source": [
    "(1+2+3+4)/4"
   ]
  },
  {
   "cell_type": "code",
   "execution_count": 55,
   "metadata": {},
   "outputs": [
    {
     "name": "stdout",
     "output_type": "stream",
     "text": [
      "0 1 2 3 4 "
     ]
    }
   ],
   "source": [
    "a=0\n",
    "n=5\n",
    "while a<n:\n",
    "    print(a,end=' ')\n",
    "    a+=1"
   ]
  },
  {
   "cell_type": "markdown",
   "metadata": {},
   "source": [
    "# Input validation loops"
   ]
  },
  {
   "cell_type": "code",
   "execution_count": 59,
   "metadata": {},
   "outputs": [
    {
     "name": "stdout",
     "output_type": "stream",
     "text": [
      "Please enter your age: \n",
      "Sorry, I didn't understand that.\n",
      "Please enter your age: 15\n",
      "You are not able to vote in the United States.\n"
     ]
    }
   ],
   "source": [
    "while True:\n",
    "    try:\n",
    "        # Note: Python 2.x users should use raw_input, the equivalent of 3.x's input\n",
    "        age = int(input(\"Please enter your age: \"))\n",
    "    except ValueError:\n",
    "        print(\"Sorry, I didn't understand that.\")\n",
    "        #better try again... Return to the start of the loop\n",
    "        continue\n",
    "    else:\n",
    "        #age was successfully parsed!\n",
    "        #we're ready to exit the loop.\n",
    "        break\n",
    "if age >= 18: \n",
    "    print(\"You are able to vote in the United States!\")\n",
    "else:\n",
    "    print(\"You are not able to vote in the United States.\")"
   ]
  },
  {
   "cell_type": "code",
   "execution_count": 66,
   "metadata": {},
   "outputs": [
    {
     "name": "stdout",
     "output_type": "stream",
     "text": [
      "Enter a positive number:a\n",
      "I need a positive number! Try again:1000\n",
      "1000.0\n"
     ]
    }
   ],
   "source": [
    "from itertools import chain, repeat\n",
    "\n",
    "prompts = chain([\"Enter a positive number:\"], repeat(\"I need a positive number! Try again:\"))\n",
    "replies = map(input, prompts)\n",
    "numeric_strings = filter(str.isnumeric, replies)\n",
    "numbers = map(float, numeric_strings)\n",
    "is_positive = (0.).__lt__\n",
    "valid_response = next(filter(is_positive, numbers))\n",
    "print(valid_response)"
   ]
  },
  {
   "cell_type": "code",
   "execution_count": 68,
   "metadata": {},
   "outputs": [
    {
     "name": "stdout",
     "output_type": "stream",
     "text": [
      "* \n",
      "* * \n",
      "* * * \n",
      "* * * * \n",
      "* * * \n",
      "* * \n",
      "* \n"
     ]
    }
   ],
   "source": [
    "for i in range(1,5):\n",
    "    for j in range(1,i+1):\n",
    "        print('*',end=' ')\n",
    "    print()\n",
    "for i in range(3,0,-1):\n",
    "    for j in range(1,i+1):\n",
    "        print('*',end=' ')\n",
    "    print()"
   ]
  },
  {
   "cell_type": "code",
   "execution_count": 74,
   "metadata": {},
   "outputs": [
    {
     "name": "stdout",
     "output_type": "stream",
     "text": [
      "hi\n",
      "i'm phani\n",
      "i'm phani\n",
      "\n",
      "i'm phani,\n",
      "how may i help u,\n",
      "nyc to c u.\n",
      "\n"
     ]
    }
   ],
   "source": [
    "print('hi')\n",
    "print('i\\'m phani')\n",
    "print(\"i'm phani\")\n",
    "print(\"\"\"\n",
    "i'm phani,\n",
    "how may i help u,\n",
    "nyc to c u.\n",
    "\"\"\")"
   ]
  },
  {
   "cell_type": "code",
   "execution_count": 75,
   "metadata": {},
   "outputs": [],
   "source": [
    "import pandas as pd"
   ]
  },
  {
   "cell_type": "code",
   "execution_count": 76,
   "metadata": {},
   "outputs": [],
   "source": [
    "df=pd.read_csv('https://raw.githubusercontent.com/srivatsan88/YouTubeLI/master/dataset/marketing_cva_f.csv')"
   ]
  },
  {
   "cell_type": "code",
   "execution_count": 77,
   "metadata": {},
   "outputs": [
    {
     "data": {
      "text/html": [
       "<div>\n",
       "<style scoped>\n",
       "    .dataframe tbody tr th:only-of-type {\n",
       "        vertical-align: middle;\n",
       "    }\n",
       "\n",
       "    .dataframe tbody tr th {\n",
       "        vertical-align: top;\n",
       "    }\n",
       "\n",
       "    .dataframe thead th {\n",
       "        text-align: right;\n",
       "    }\n",
       "</style>\n",
       "<table border=\"1\" class=\"dataframe\">\n",
       "  <thead>\n",
       "    <tr style=\"text-align: right;\">\n",
       "      <th></th>\n",
       "      <th>Customer</th>\n",
       "      <th>State</th>\n",
       "      <th>CLV</th>\n",
       "      <th>Coverage</th>\n",
       "      <th>Income</th>\n",
       "      <th>loc_type</th>\n",
       "      <th>monthly_premium</th>\n",
       "      <th>months_last_claim</th>\n",
       "      <th>Months_Since_Policy_Inception</th>\n",
       "      <th>Total_Claim_Amount</th>\n",
       "      <th>Vehicle_Class</th>\n",
       "      <th>avg_vehicle_age</th>\n",
       "    </tr>\n",
       "  </thead>\n",
       "  <tbody>\n",
       "    <tr>\n",
       "      <th>0</th>\n",
       "      <td>BU79786</td>\n",
       "      <td>Washington</td>\n",
       "      <td>2763.519279</td>\n",
       "      <td>Basic</td>\n",
       "      <td>56274</td>\n",
       "      <td>Suburban</td>\n",
       "      <td>69</td>\n",
       "      <td>32</td>\n",
       "      <td>5</td>\n",
       "      <td>384.811147</td>\n",
       "      <td>Two-Door Car</td>\n",
       "      <td>40.696695</td>\n",
       "    </tr>\n",
       "    <tr>\n",
       "      <th>1</th>\n",
       "      <td>AI49188</td>\n",
       "      <td>Nevada</td>\n",
       "      <td>12887.431650</td>\n",
       "      <td>Premium</td>\n",
       "      <td>48767</td>\n",
       "      <td>Suburban</td>\n",
       "      <td>108</td>\n",
       "      <td>18</td>\n",
       "      <td>38</td>\n",
       "      <td>566.472247</td>\n",
       "      <td>Two-Door Car</td>\n",
       "      <td>48.755298</td>\n",
       "    </tr>\n",
       "    <tr>\n",
       "      <th>2</th>\n",
       "      <td>HB64268</td>\n",
       "      <td>Washington</td>\n",
       "      <td>2813.692575</td>\n",
       "      <td>Basic</td>\n",
       "      <td>43836</td>\n",
       "      <td>Rural</td>\n",
       "      <td>73</td>\n",
       "      <td>12</td>\n",
       "      <td>44</td>\n",
       "      <td>138.130879</td>\n",
       "      <td>Four-Door Car</td>\n",
       "      <td>70.394474</td>\n",
       "    </tr>\n",
       "    <tr>\n",
       "      <th>3</th>\n",
       "      <td>OC83172</td>\n",
       "      <td>Oregon</td>\n",
       "      <td>8256.297800</td>\n",
       "      <td>Basic</td>\n",
       "      <td>62902</td>\n",
       "      <td>Rural</td>\n",
       "      <td>69</td>\n",
       "      <td>14</td>\n",
       "      <td>94</td>\n",
       "      <td>159.383042</td>\n",
       "      <td>Two-Door Car</td>\n",
       "      <td>53.460212</td>\n",
       "    </tr>\n",
       "    <tr>\n",
       "      <th>4</th>\n",
       "      <td>XZ87318</td>\n",
       "      <td>Oregon</td>\n",
       "      <td>5380.898636</td>\n",
       "      <td>Basic</td>\n",
       "      <td>55350</td>\n",
       "      <td>Suburban</td>\n",
       "      <td>67</td>\n",
       "      <td>0</td>\n",
       "      <td>13</td>\n",
       "      <td>321.600000</td>\n",
       "      <td>Four-Door Car</td>\n",
       "      <td>32.811507</td>\n",
       "    </tr>\n",
       "  </tbody>\n",
       "</table>\n",
       "</div>"
      ],
      "text/plain": [
       "  Customer       State           CLV Coverage  Income  loc_type  \\\n",
       "0  BU79786  Washington   2763.519279    Basic   56274  Suburban   \n",
       "1  AI49188      Nevada  12887.431650  Premium   48767  Suburban   \n",
       "2  HB64268  Washington   2813.692575    Basic   43836     Rural   \n",
       "3  OC83172      Oregon   8256.297800    Basic   62902     Rural   \n",
       "4  XZ87318      Oregon   5380.898636    Basic   55350  Suburban   \n",
       "\n",
       "   monthly_premium  months_last_claim  Months_Since_Policy_Inception  \\\n",
       "0               69                 32                              5   \n",
       "1              108                 18                             38   \n",
       "2               73                 12                             44   \n",
       "3               69                 14                             94   \n",
       "4               67                  0                             13   \n",
       "\n",
       "   Total_Claim_Amount  Vehicle_Class  avg_vehicle_age  \n",
       "0          384.811147   Two-Door Car        40.696695  \n",
       "1          566.472247   Two-Door Car        48.755298  \n",
       "2          138.130879  Four-Door Car        70.394474  \n",
       "3          159.383042   Two-Door Car        53.460212  \n",
       "4          321.600000  Four-Door Car        32.811507  "
      ]
     },
     "execution_count": 77,
     "metadata": {},
     "output_type": "execute_result"
    }
   ],
   "source": [
    "df.head()"
   ]
  },
  {
   "cell_type": "code",
   "execution_count": 82,
   "metadata": {},
   "outputs": [
    {
     "data": {
      "text/plain": [
       "Basic       4178\n",
       "Extended    2021\n",
       "Premium      618\n",
       "Name: Coverage, dtype: int64"
      ]
     },
     "execution_count": 82,
     "metadata": {},
     "output_type": "execute_result"
    }
   ],
   "source": [
    "df.Coverage.value_counts()"
   ]
  },
  {
   "cell_type": "code",
   "execution_count": 104,
   "metadata": {},
   "outputs": [
    {
     "data": {
      "text/plain": [
       "count    6817.000000\n",
       "mean       92.963034\n",
       "std        34.615160\n",
       "min        61.000000\n",
       "25%        68.000000\n",
       "50%        83.000000\n",
       "75%       109.000000\n",
       "max       297.000000\n",
       "Name: monthly_premium, dtype: float64"
      ]
     },
     "execution_count": 104,
     "metadata": {},
     "output_type": "execute_result"
    }
   ],
   "source": [
    "df.monthly_premium.describe()"
   ]
  },
  {
   "cell_type": "code",
   "execution_count": 106,
   "metadata": {},
   "outputs": [
    {
     "data": {
      "text/plain": [
       "0        low\n",
       "1       high\n",
       "2        low\n",
       "3        low\n",
       "4        low\n",
       "        ... \n",
       "6812     low\n",
       "6813    high\n",
       "6814     low\n",
       "6815     low\n",
       "6816    high\n",
       "Name: monthly_premium, Length: 6817, dtype: category\n",
       "Categories (2, object): ['low' < 'high']"
      ]
     },
     "execution_count": 106,
     "metadata": {},
     "output_type": "execute_result"
    }
   ],
   "source": [
    "bins=[60,90,np.inf]\n",
    "labels=['low','high']\n",
    "pd.cut(df.monthly_premium,bins=bins,labels=labels)"
   ]
  },
  {
   "cell_type": "code",
   "execution_count": 117,
   "metadata": {},
   "outputs": [
    {
     "name": "stdout",
     "output_type": "stream",
     "text": [
      "Geeks :  1, Portal :  5.333\n",
      "Total students :  240, Boys :  120\n",
      "    031\n",
      " 3.561E+02\n"
     ]
    }
   ],
   "source": [
    "\n",
    "\n",
    "# Python program showing how to use\n",
    "# string modulo operator(%) to print\n",
    "# fancier output\n",
    " \n",
    "# print integer and float value\n",
    "print(\"Geeks : % 2d, Portal : % 5.3f\" %(1, 05.33333333)) \n",
    " \n",
    "# print integer value\n",
    "print(\"Total students : % 3d, Boys : % 2d\" %(240, 120))\n",
    " \n",
    "# print octal value\n",
    "print(\"% 7.3o\"% (25))\n",
    " \n",
    "# print exponential value\n",
    "print(\"% 10.3E\"% (356.08977))"
   ]
  },
  {
   "cell_type": "code",
   "execution_count": 110,
   "metadata": {},
   "outputs": [
    {
     "name": "stdout",
     "output_type": "stream",
     "text": [
      "Geeks :  1, Portal :  5.33\n"
     ]
    }
   ],
   "source": [
    "print(\"Geeks : % 2d, Portal : % 5.2f\" %(1, 05.333)) \n"
   ]
  },
  {
   "cell_type": "code",
   "execution_count": 119,
   "metadata": {},
   "outputs": [
    {
     "name": "stdout",
     "output_type": "stream",
     "text": [
      "31\n"
     ]
    }
   ],
   "source": [
    "print(\"%o\"% (25))\n"
   ]
  },
  {
   "cell_type": "code",
   "execution_count": 120,
   "metadata": {},
   "outputs": [
    {
     "name": "stdout",
     "output_type": "stream",
     "text": [
      "Second argument:  11, first one:   47.42\n"
     ]
    }
   ],
   "source": [
    "print(\"Second argument: {1:3d}, first one: {0:7.2f}\".format(47.42, 11))"
   ]
  },
  {
   "cell_type": "code",
   "execution_count": 122,
   "metadata": {},
   "outputs": [
    {
     "name": "stdout",
     "output_type": "stream",
     "text": [
      "Geeks: 4127; For: 4098; Geeks: 8637678\n",
      "I love GeeksForGeeks computer Portal\n"
     ]
    }
   ],
   "source": [
    "# Python program to \n",
    "# show format () is \n",
    "# used in dictionary\n",
    "\n",
    "tab = {'geeks': 4127, 'for': 4098, 'geek': 8637678}\n",
    "\n",
    "# using format() in dictionary\n",
    "print('Geeks: {0[geeks]:d}; For: {0[for]:d}; ''Geeks: {0[geek]:d}'.format(tab))\n",
    "\n",
    "data = dict(fun =\"GeeksForGeeks\", adj =\"Portal\")\n",
    "\n",
    "# using format() in dictionary\n",
    "print(\"I love {fun} computer {adj}\".format(**data))\n"
   ]
  },
  {
   "cell_type": "code",
   "execution_count": 125,
   "metadata": {},
   "outputs": [
    {
     "name": "stdout",
     "output_type": "stream",
     "text": [
      "Center aligned string with fillchr: \n",
      "#######I love geeksforgeeks love########\n",
      "The left aligned string is : \n",
      "I love geeksforgeeks love---------------\n",
      "The right aligned string is : \n",
      "---------------I love geeksforgeeks love\n"
     ]
    }
   ],
   "source": [
    "# Python program to\n",
    "# format a output using\n",
    "# string() method\n",
    "\n",
    "cstr = \"I love geeksforgeeks love\"\n",
    "\n",
    "# Printing the center aligned \n",
    "# string with fillchr \n",
    "print (\"Center aligned string with fillchr: \") \n",
    "print (cstr.center(40, '#')) \n",
    "\n",
    "# Printing the left aligned \n",
    "# string with \"-\" padding \n",
    "print (\"The left aligned string is : \") \n",
    "print (cstr.ljust(40, '-'))\n",
    "\n",
    "# Printing the right aligned string \n",
    "# with \"-\" padding \n",
    "print (\"The right aligned string is : \") \n",
    "print (cstr.rjust(40, '-'))\n"
   ]
  },
  {
   "cell_type": "code",
   "execution_count": 141,
   "metadata": {},
   "outputs": [
    {
     "data": {
      "text/plain": [
       "'I am phani, phani works on data science'"
      ]
     },
     "execution_count": 141,
     "metadata": {},
     "output_type": "execute_result"
    }
   ],
   "source": [
    "a.capitalize()"
   ]
  },
  {
   "cell_type": "code",
   "execution_count": 145,
   "metadata": {},
   "outputs": [
    {
     "name": "stdout",
     "output_type": "stream",
     "text": [
      "6\n"
     ]
    }
   ],
   "source": [
    "txt = \"Hello,welcome to my world.\"\n",
    "\n",
    "x = txt.find(\"welcome\")\n",
    "\n",
    "print(x)\n"
   ]
  },
  {
   "cell_type": "code",
   "execution_count": 152,
   "metadata": {},
   "outputs": [
    {
     "name": "stdout",
     "output_type": "stream",
     "text": [
      "7\n",
      "14\n"
     ]
    }
   ],
   "source": [
    "txt = \"Hello,welcome to my world.\"\n",
    "\n",
    "x = txt.find(\"e\", 5, 10)\n",
    "\n",
    "print(x)\n",
    "print(txt.index(\"t\"))\n"
   ]
  },
  {
   "cell_type": "code",
   "execution_count": 155,
   "metadata": {},
   "outputs": [
    {
     "data": {
      "text/plain": [
       "2"
      ]
     },
     "execution_count": 155,
     "metadata": {},
     "output_type": "execute_result"
    }
   ],
   "source": [
    "l=[1,2,3]\n",
    "l.index(3)"
   ]
  },
  {
   "cell_type": "code",
   "execution_count": null,
   "metadata": {},
   "outputs": [],
   "source": []
  },
  {
   "cell_type": "code",
   "execution_count": 118,
   "metadata": {},
   "outputs": [],
   "source": [
    "import pandas as pd\n",
    "import numpy as np"
   ]
  },
  {
   "cell_type": "code",
   "execution_count": 164,
   "metadata": {},
   "outputs": [],
   "source": [
    "df=pd.read_excel('crtdata.xlsx')\n"
   ]
  },
  {
   "cell_type": "code",
   "execution_count": 169,
   "metadata": {},
   "outputs": [],
   "source": [
    "pd.set_option('display.max_rows',1000000)"
   ]
  },
  {
   "cell_type": "code",
   "execution_count": 170,
   "metadata": {},
   "outputs": [
    {
     "data": {
      "text/html": [
       "<div>\n",
       "<style scoped>\n",
       "    .dataframe tbody tr th:only-of-type {\n",
       "        vertical-align: middle;\n",
       "    }\n",
       "\n",
       "    .dataframe tbody tr th {\n",
       "        vertical-align: top;\n",
       "    }\n",
       "\n",
       "    .dataframe thead th {\n",
       "        text-align: right;\n",
       "    }\n",
       "</style>\n",
       "<table border=\"1\" class=\"dataframe\">\n",
       "  <thead>\n",
       "    <tr style=\"text-align: right;\">\n",
       "      <th></th>\n",
       "      <th>2020-12-22</th>\n",
       "      <th>2020-12-23</th>\n",
       "      <th>2020-12-24</th>\n",
       "      <th>2020-12-26</th>\n",
       "      <th>2020-12-28</th>\n",
       "    </tr>\n",
       "  </thead>\n",
       "  <tbody>\n",
       "    <tr>\n",
       "      <th>0</th>\n",
       "      <td>188T1A0106</td>\n",
       "      <td>198T5A0401</td>\n",
       "      <td>198T5A0101</td>\n",
       "      <td>188T1A0101</td>\n",
       "      <td>198T5A0209</td>\n",
       "    </tr>\n",
       "    <tr>\n",
       "      <th>1</th>\n",
       "      <td>188T1A0113</td>\n",
       "      <td>198T5A0402</td>\n",
       "      <td>198T5A0102</td>\n",
       "      <td>188T1A0106</td>\n",
       "      <td>198T5A0116</td>\n",
       "    </tr>\n",
       "    <tr>\n",
       "      <th>2</th>\n",
       "      <td>188T1A0115</td>\n",
       "      <td>198T5A0404</td>\n",
       "      <td>198T5A0104</td>\n",
       "      <td>188T1A0115</td>\n",
       "      <td>188T1A0209</td>\n",
       "    </tr>\n",
       "    <tr>\n",
       "      <th>3</th>\n",
       "      <td>188T1A0134</td>\n",
       "      <td>198T5A0405</td>\n",
       "      <td>198T5A0107</td>\n",
       "      <td>188T1A0117</td>\n",
       "      <td>188T1A0106</td>\n",
       "    </tr>\n",
       "    <tr>\n",
       "      <th>4</th>\n",
       "      <td>188T1A0142</td>\n",
       "      <td>198T5A0408</td>\n",
       "      <td>198T5A0108</td>\n",
       "      <td>188T1A0134</td>\n",
       "      <td>188T1A0202</td>\n",
       "    </tr>\n",
       "    <tr>\n",
       "      <th>5</th>\n",
       "      <td>198T5A0102</td>\n",
       "      <td>198T5A0411</td>\n",
       "      <td>198T5A0109</td>\n",
       "      <td>188T1A0142</td>\n",
       "      <td>198T5A0210</td>\n",
       "    </tr>\n",
       "    <tr>\n",
       "      <th>6</th>\n",
       "      <td>198T5A0104</td>\n",
       "      <td>198T5A0414</td>\n",
       "      <td>198T5A0111</td>\n",
       "      <td>198T5A0102</td>\n",
       "      <td>198T5A0216</td>\n",
       "    </tr>\n",
       "    <tr>\n",
       "      <th>7</th>\n",
       "      <td>198T5A0106</td>\n",
       "      <td>198T5A0415</td>\n",
       "      <td>198T5A0113</td>\n",
       "      <td>198T5A0104</td>\n",
       "      <td>188T1A0117</td>\n",
       "    </tr>\n",
       "    <tr>\n",
       "      <th>8</th>\n",
       "      <td>198T5A0110</td>\n",
       "      <td>188T1A0402</td>\n",
       "      <td>198T5A0114</td>\n",
       "      <td>198T5A0109</td>\n",
       "      <td>198T5A0133</td>\n",
       "    </tr>\n",
       "    <tr>\n",
       "      <th>9</th>\n",
       "      <td>198T5A0111</td>\n",
       "      <td>188T1A0403</td>\n",
       "      <td>198T5A0116</td>\n",
       "      <td>198T5A0111</td>\n",
       "      <td>198T5A0202</td>\n",
       "    </tr>\n",
       "    <tr>\n",
       "      <th>10</th>\n",
       "      <td>198T5A0112</td>\n",
       "      <td>188T1A0405</td>\n",
       "      <td>198T5A0117</td>\n",
       "      <td>198T5A0112</td>\n",
       "      <td>188T1A0338</td>\n",
       "    </tr>\n",
       "    <tr>\n",
       "      <th>11</th>\n",
       "      <td>198T5A0113</td>\n",
       "      <td>188T1A0406</td>\n",
       "      <td>198T5A0118</td>\n",
       "      <td>198T5A0113</td>\n",
       "      <td>198T5A0217</td>\n",
       "    </tr>\n",
       "    <tr>\n",
       "      <th>12</th>\n",
       "      <td>198T5A0116</td>\n",
       "      <td>188T1A0407</td>\n",
       "      <td>198T5A0119</td>\n",
       "      <td>198T5A0114</td>\n",
       "      <td>188T1A0142</td>\n",
       "    </tr>\n",
       "    <tr>\n",
       "      <th>13</th>\n",
       "      <td>198T5A0117</td>\n",
       "      <td>188T1A0411</td>\n",
       "      <td>198T5A0120</td>\n",
       "      <td>198T5A0116</td>\n",
       "      <td>198T5A0224</td>\n",
       "    </tr>\n",
       "    <tr>\n",
       "      <th>14</th>\n",
       "      <td>198T5A0128</td>\n",
       "      <td>188T1A0413</td>\n",
       "      <td>198T5A0121</td>\n",
       "      <td>198T5A0117</td>\n",
       "      <td>198T5A0212</td>\n",
       "    </tr>\n",
       "    <tr>\n",
       "      <th>15</th>\n",
       "      <td>198T5A0133</td>\n",
       "      <td>188T1A0415</td>\n",
       "      <td>198T5A0122</td>\n",
       "      <td>198T5A0119</td>\n",
       "      <td>198T5A0319</td>\n",
       "    </tr>\n",
       "    <tr>\n",
       "      <th>16</th>\n",
       "      <td>198T5A0135</td>\n",
       "      <td>188T1A0417</td>\n",
       "      <td>198T5A0123</td>\n",
       "      <td>198T5A0121</td>\n",
       "      <td>188T1A0206</td>\n",
       "    </tr>\n",
       "    <tr>\n",
       "      <th>17</th>\n",
       "      <td>198T5A0138</td>\n",
       "      <td>188T1A0418</td>\n",
       "      <td>198T5A0131</td>\n",
       "      <td>198T5A0126</td>\n",
       "      <td>188T1A0207</td>\n",
       "    </tr>\n",
       "    <tr>\n",
       "      <th>18</th>\n",
       "      <td>198T5A0132</td>\n",
       "      <td>188T1A0420</td>\n",
       "      <td>198T5A0135</td>\n",
       "      <td>198T5A0133</td>\n",
       "      <td>198T5A0117</td>\n",
       "    </tr>\n",
       "    <tr>\n",
       "      <th>19</th>\n",
       "      <td>188T1A0202</td>\n",
       "      <td>188T1A0421</td>\n",
       "      <td>198T5A0136</td>\n",
       "      <td>198T5A0135</td>\n",
       "      <td>198T5A0220</td>\n",
       "    </tr>\n",
       "    <tr>\n",
       "      <th>20</th>\n",
       "      <td>188T1A0201</td>\n",
       "      <td>188T1A0422</td>\n",
       "      <td>198T5A0137</td>\n",
       "      <td>198T5A0137</td>\n",
       "      <td>198T5A0226</td>\n",
       "    </tr>\n",
       "    <tr>\n",
       "      <th>21</th>\n",
       "      <td>188T1A0203</td>\n",
       "      <td>188T1A0423</td>\n",
       "      <td>188T1A0115</td>\n",
       "      <td>198T5A0138</td>\n",
       "      <td>188T1A0211</td>\n",
       "    </tr>\n",
       "    <tr>\n",
       "      <th>22</th>\n",
       "      <td>188T1A0206</td>\n",
       "      <td>188T1A0425</td>\n",
       "      <td>188T1A0117</td>\n",
       "      <td>198T5A0139</td>\n",
       "      <td>198T5A0102</td>\n",
       "    </tr>\n",
       "    <tr>\n",
       "      <th>23</th>\n",
       "      <td>188T1A0207</td>\n",
       "      <td>188T1A0427</td>\n",
       "      <td>188T1A0142</td>\n",
       "      <td>188T1A0201</td>\n",
       "      <td>198T5A0229</td>\n",
       "    </tr>\n",
       "    <tr>\n",
       "      <th>24</th>\n",
       "      <td>188T1A0209</td>\n",
       "      <td>188T1A0431</td>\n",
       "      <td>188T1A0144</td>\n",
       "      <td>188T1A0202</td>\n",
       "      <td>188T1A0203</td>\n",
       "    </tr>\n",
       "    <tr>\n",
       "      <th>25</th>\n",
       "      <td>188T1A0211</td>\n",
       "      <td>188T1A0432</td>\n",
       "      <td>188T1A0145</td>\n",
       "      <td>188T1A0203</td>\n",
       "      <td>188T1A0111</td>\n",
       "    </tr>\n",
       "    <tr>\n",
       "      <th>26</th>\n",
       "      <td>188T1A0212</td>\n",
       "      <td>188T1A0434</td>\n",
       "      <td>198T5A0201</td>\n",
       "      <td>188T1A0206</td>\n",
       "      <td>188T1A0103</td>\n",
       "    </tr>\n",
       "    <tr>\n",
       "      <th>27</th>\n",
       "      <td>188T1A0214</td>\n",
       "      <td>188T1A0435</td>\n",
       "      <td>198T5A0202</td>\n",
       "      <td>188T1A0209</td>\n",
       "      <td>188T1A0115</td>\n",
       "    </tr>\n",
       "    <tr>\n",
       "      <th>28</th>\n",
       "      <td>188T1A0215</td>\n",
       "      <td>188T1A0437</td>\n",
       "      <td>198T5A0204</td>\n",
       "      <td>188T1A0211</td>\n",
       "      <td>188T1A0216</td>\n",
       "    </tr>\n",
       "    <tr>\n",
       "      <th>29</th>\n",
       "      <td>188T1A0216</td>\n",
       "      <td>188T1A0438</td>\n",
       "      <td>198T5A0209</td>\n",
       "      <td>188T1A0212</td>\n",
       "      <td>198T5A0218</td>\n",
       "    </tr>\n",
       "    <tr>\n",
       "      <th>30</th>\n",
       "      <td>198T5A0201</td>\n",
       "      <td>188T1A0442</td>\n",
       "      <td>198T5A0215</td>\n",
       "      <td>188T1A0214</td>\n",
       "      <td>198T5A0201</td>\n",
       "    </tr>\n",
       "    <tr>\n",
       "      <th>31</th>\n",
       "      <td>198T5A0202</td>\n",
       "      <td>188T1A0445</td>\n",
       "      <td>198T5A0219</td>\n",
       "      <td>188T1A0215</td>\n",
       "      <td>188T1A0201</td>\n",
       "    </tr>\n",
       "    <tr>\n",
       "      <th>32</th>\n",
       "      <td>198T5A0205</td>\n",
       "      <td>188T1A0447</td>\n",
       "      <td>198T5A0220</td>\n",
       "      <td>188T1A0216</td>\n",
       "      <td>198T5A0203</td>\n",
       "    </tr>\n",
       "    <tr>\n",
       "      <th>33</th>\n",
       "      <td>198T5A0209</td>\n",
       "      <td>188T1A0448</td>\n",
       "      <td>198T5A0224</td>\n",
       "      <td>198T5A0201</td>\n",
       "      <td>188T1A0215</td>\n",
       "    </tr>\n",
       "    <tr>\n",
       "      <th>34</th>\n",
       "      <td>198T5A0210</td>\n",
       "      <td>188T1A0454</td>\n",
       "      <td>198T5A0225</td>\n",
       "      <td>198T5A0202</td>\n",
       "      <td>188T1A0401</td>\n",
       "    </tr>\n",
       "    <tr>\n",
       "      <th>35</th>\n",
       "      <td>198T5A0212</td>\n",
       "      <td>188T1A0456</td>\n",
       "      <td>198T5A0226</td>\n",
       "      <td>198T5A0203</td>\n",
       "      <td>188T1A0460</td>\n",
       "    </tr>\n",
       "    <tr>\n",
       "      <th>36</th>\n",
       "      <td>198T5A0213</td>\n",
       "      <td>188T1A0457</td>\n",
       "      <td>198T5A0229</td>\n",
       "      <td>198T5A0210</td>\n",
       "      <td>188T1A0421</td>\n",
       "    </tr>\n",
       "    <tr>\n",
       "      <th>37</th>\n",
       "      <td>198T5A0216</td>\n",
       "      <td>188T1A0461</td>\n",
       "      <td>188T1A0201</td>\n",
       "      <td>198T5A0218</td>\n",
       "      <td>188T1A0552</td>\n",
       "    </tr>\n",
       "    <tr>\n",
       "      <th>38</th>\n",
       "      <td>198T5A0216</td>\n",
       "      <td>188T1A0462</td>\n",
       "      <td>188T1A0202</td>\n",
       "      <td>198T5A0220</td>\n",
       "      <td>188T1A04B5</td>\n",
       "    </tr>\n",
       "    <tr>\n",
       "      <th>39</th>\n",
       "      <td>198T5A0217</td>\n",
       "      <td>188T1A0463</td>\n",
       "      <td>188T1A0203</td>\n",
       "      <td>198T5A0226</td>\n",
       "      <td>188T1A0420</td>\n",
       "    </tr>\n",
       "    <tr>\n",
       "      <th>40</th>\n",
       "      <td>198T5A0218</td>\n",
       "      <td>188T1A0464</td>\n",
       "      <td>198T5A0223</td>\n",
       "      <td>198T5A0229</td>\n",
       "      <td>188T1A0443</td>\n",
       "    </tr>\n",
       "    <tr>\n",
       "      <th>41</th>\n",
       "      <td>198T5A0219</td>\n",
       "      <td>188T1A0467</td>\n",
       "      <td>188T1A0208</td>\n",
       "      <td>198T5A0224</td>\n",
       "      <td>188T1A0474</td>\n",
       "    </tr>\n",
       "    <tr>\n",
       "      <th>42</th>\n",
       "      <td>198T5A0220</td>\n",
       "      <td>188T1A0468</td>\n",
       "      <td>188T1A0214</td>\n",
       "      <td>188T1A0338</td>\n",
       "      <td>188T1A0465</td>\n",
       "    </tr>\n",
       "    <tr>\n",
       "      <th>43</th>\n",
       "      <td>198T5A0221</td>\n",
       "      <td>188T1A0471</td>\n",
       "      <td>188T1A0215</td>\n",
       "      <td>188T1A0487</td>\n",
       "      <td>188T1A0503</td>\n",
       "    </tr>\n",
       "    <tr>\n",
       "      <th>44</th>\n",
       "      <td>198T5A0224</td>\n",
       "      <td>188T1A0473</td>\n",
       "      <td>188T1A0216</td>\n",
       "      <td>188T1A0497</td>\n",
       "      <td>188T1A0403</td>\n",
       "    </tr>\n",
       "    <tr>\n",
       "      <th>45</th>\n",
       "      <td>198T5A0225</td>\n",
       "      <td>188T1A0475</td>\n",
       "      <td>188T1A0341</td>\n",
       "      <td>188T1A0490</td>\n",
       "      <td>188T1A0424</td>\n",
       "    </tr>\n",
       "    <tr>\n",
       "      <th>46</th>\n",
       "      <td>198T5A0226</td>\n",
       "      <td>188T1A0476</td>\n",
       "      <td>198T5A0302</td>\n",
       "      <td>188T1A0402</td>\n",
       "      <td>188T1A0468</td>\n",
       "    </tr>\n",
       "    <tr>\n",
       "      <th>47</th>\n",
       "      <td>198T5A0229</td>\n",
       "      <td>188T1A0477</td>\n",
       "      <td>198T5A0314</td>\n",
       "      <td>188T1A0403</td>\n",
       "      <td>188T1A0406</td>\n",
       "    </tr>\n",
       "    <tr>\n",
       "      <th>48</th>\n",
       "      <td>198T5A0232</td>\n",
       "      <td>188T1A0484</td>\n",
       "      <td>198T5A0335</td>\n",
       "      <td>188T1A0406</td>\n",
       "      <td>188T1A0415</td>\n",
       "    </tr>\n",
       "    <tr>\n",
       "      <th>49</th>\n",
       "      <td>188T1A0526</td>\n",
       "      <td>188T1A0498</td>\n",
       "      <td>198T5A0401</td>\n",
       "      <td>188T1A0407</td>\n",
       "      <td>188T1A0413</td>\n",
       "    </tr>\n",
       "    <tr>\n",
       "      <th>50</th>\n",
       "      <td>188T1A0501</td>\n",
       "      <td>188T1A0499</td>\n",
       "      <td>198T5A0404</td>\n",
       "      <td>188T1A0409</td>\n",
       "      <td>188T1A0560</td>\n",
       "    </tr>\n",
       "    <tr>\n",
       "      <th>51</th>\n",
       "      <td>188T1A0503</td>\n",
       "      <td>188T1A04A3</td>\n",
       "      <td>198T5A0406</td>\n",
       "      <td>188T1A0417</td>\n",
       "      <td>188T1A0448</td>\n",
       "    </tr>\n",
       "    <tr>\n",
       "      <th>52</th>\n",
       "      <td>188T1A0506</td>\n",
       "      <td>188T1A04A4</td>\n",
       "      <td>198T5A0408</td>\n",
       "      <td>188T1A0419</td>\n",
       "      <td>188T1A0431</td>\n",
       "    </tr>\n",
       "    <tr>\n",
       "      <th>53</th>\n",
       "      <td>188T1A0510</td>\n",
       "      <td>188T1A04A8</td>\n",
       "      <td>198T5A0411</td>\n",
       "      <td>188T1A0420</td>\n",
       "      <td>188T1A04A3</td>\n",
       "    </tr>\n",
       "    <tr>\n",
       "      <th>54</th>\n",
       "      <td>188T1A0512</td>\n",
       "      <td>188T1A04B0</td>\n",
       "      <td>198T5A0414</td>\n",
       "      <td>188T1A0423</td>\n",
       "      <td>198T5A0411</td>\n",
       "    </tr>\n",
       "    <tr>\n",
       "      <th>55</th>\n",
       "      <td>188T1A0513</td>\n",
       "      <td>188T1A04B5</td>\n",
       "      <td>198T5A0415</td>\n",
       "      <td>188T1A0424</td>\n",
       "      <td>188T1A0506</td>\n",
       "    </tr>\n",
       "    <tr>\n",
       "      <th>56</th>\n",
       "      <td>188T1A0517</td>\n",
       "      <td>188T1A0506</td>\n",
       "      <td>188T1A0401</td>\n",
       "      <td>188T1A0425</td>\n",
       "      <td>188T1A05A4</td>\n",
       "    </tr>\n",
       "    <tr>\n",
       "      <th>57</th>\n",
       "      <td>188T1A0519</td>\n",
       "      <td>188T1A0513</td>\n",
       "      <td>188T1A0402</td>\n",
       "      <td>188T1A0428</td>\n",
       "      <td>198T5A0406</td>\n",
       "    </tr>\n",
       "    <tr>\n",
       "      <th>58</th>\n",
       "      <td>188T1A0521</td>\n",
       "      <td>188T1A0516</td>\n",
       "      <td>188T1A0405</td>\n",
       "      <td>188T1A0431</td>\n",
       "      <td>188T1A0445</td>\n",
       "    </tr>\n",
       "    <tr>\n",
       "      <th>59</th>\n",
       "      <td>188T1A0527</td>\n",
       "      <td>188T1A0519</td>\n",
       "      <td>188T1A0407</td>\n",
       "      <td>188T1A0433</td>\n",
       "      <td>188T1A0437</td>\n",
       "    </tr>\n",
       "    <tr>\n",
       "      <th>60</th>\n",
       "      <td>188T1A0533</td>\n",
       "      <td>188T1A0520</td>\n",
       "      <td>188T1A0409</td>\n",
       "      <td>188T1A0434</td>\n",
       "      <td>188T1A0532</td>\n",
       "    </tr>\n",
       "    <tr>\n",
       "      <th>61</th>\n",
       "      <td>188T1A0540</td>\n",
       "      <td>188T1A0521</td>\n",
       "      <td>188T1A0412</td>\n",
       "      <td>188T1A0436</td>\n",
       "      <td>188T1A04A4</td>\n",
       "    </tr>\n",
       "    <tr>\n",
       "      <th>62</th>\n",
       "      <td>188T1A0544</td>\n",
       "      <td>188T1A0527</td>\n",
       "      <td>188T1A0413</td>\n",
       "      <td>188T1A0443</td>\n",
       "      <td>188T1A0484</td>\n",
       "    </tr>\n",
       "    <tr>\n",
       "      <th>63</th>\n",
       "      <td>188T1A0547</td>\n",
       "      <td>188T1A0528</td>\n",
       "      <td>188T1A0415</td>\n",
       "      <td>188T1A0445</td>\n",
       "      <td>188T1A0499</td>\n",
       "    </tr>\n",
       "    <tr>\n",
       "      <th>64</th>\n",
       "      <td>188T1A0548</td>\n",
       "      <td>188T1A0532</td>\n",
       "      <td>188T1A0418</td>\n",
       "      <td>188T1A0447</td>\n",
       "      <td>188T1A0583</td>\n",
       "    </tr>\n",
       "    <tr>\n",
       "      <th>65</th>\n",
       "      <td>188T1A0554</td>\n",
       "      <td>188T1A0540</td>\n",
       "      <td>188T1A0419</td>\n",
       "      <td>188T1A0448</td>\n",
       "      <td>188T1A0576</td>\n",
       "    </tr>\n",
       "    <tr>\n",
       "      <th>66</th>\n",
       "      <td>188T1A0560</td>\n",
       "      <td>188T1A0548</td>\n",
       "      <td>188T1A0420</td>\n",
       "      <td>188T1A0454</td>\n",
       "      <td>188T1A0454</td>\n",
       "    </tr>\n",
       "    <tr>\n",
       "      <th>67</th>\n",
       "      <td>188T1A0561</td>\n",
       "      <td>188T1A0552</td>\n",
       "      <td>188T1A0422</td>\n",
       "      <td>188T1A0455</td>\n",
       "      <td>188T1A0578</td>\n",
       "    </tr>\n",
       "    <tr>\n",
       "      <th>68</th>\n",
       "      <td>188T1A0563</td>\n",
       "      <td>188T1A0554</td>\n",
       "      <td>188T1A0423</td>\n",
       "      <td>188T1A0460</td>\n",
       "      <td>188T1A05A1</td>\n",
       "    </tr>\n",
       "    <tr>\n",
       "      <th>69</th>\n",
       "      <td>188T1A0567</td>\n",
       "      <td>188T1A0556</td>\n",
       "      <td>188T1A0425</td>\n",
       "      <td>188T1A0461</td>\n",
       "      <td>188T1A0514</td>\n",
       "    </tr>\n",
       "    <tr>\n",
       "      <th>70</th>\n",
       "      <td>188T1A0571</td>\n",
       "      <td>188T1A0557</td>\n",
       "      <td>188T1A0426</td>\n",
       "      <td>188T1A0462</td>\n",
       "      <td>188T1A0417</td>\n",
       "    </tr>\n",
       "    <tr>\n",
       "      <th>71</th>\n",
       "      <td>188T1A0575</td>\n",
       "      <td>188T1A0559</td>\n",
       "      <td>188T1A0427</td>\n",
       "      <td>188T1A0464</td>\n",
       "      <td>188T1A0456</td>\n",
       "    </tr>\n",
       "    <tr>\n",
       "      <th>72</th>\n",
       "      <td>188T1A0576</td>\n",
       "      <td>188T1A0560</td>\n",
       "      <td>188T1A0428</td>\n",
       "      <td>188T1A0465</td>\n",
       "      <td>188T1A0490</td>\n",
       "    </tr>\n",
       "    <tr>\n",
       "      <th>73</th>\n",
       "      <td>188T1A0578</td>\n",
       "      <td>188T1A0574</td>\n",
       "      <td>188T1A0430</td>\n",
       "      <td>188T1A0466</td>\n",
       "      <td>188T1A0540</td>\n",
       "    </tr>\n",
       "    <tr>\n",
       "      <th>74</th>\n",
       "      <td>188T1A0583</td>\n",
       "      <td>188T1A0575</td>\n",
       "      <td>188T1A0431</td>\n",
       "      <td>188T1A0467</td>\n",
       "      <td>188T1A0538</td>\n",
       "    </tr>\n",
       "    <tr>\n",
       "      <th>75</th>\n",
       "      <td>188T1A0584</td>\n",
       "      <td>188T1A0576</td>\n",
       "      <td>188T1A0436</td>\n",
       "      <td>188T1A0468</td>\n",
       "      <td>198T5A0414</td>\n",
       "    </tr>\n",
       "    <tr>\n",
       "      <th>76</th>\n",
       "      <td>188T1A0593</td>\n",
       "      <td>188T1A0577</td>\n",
       "      <td>188T1A0437</td>\n",
       "      <td>188T1A0471</td>\n",
       "      <td>188T1A0402</td>\n",
       "    </tr>\n",
       "    <tr>\n",
       "      <th>77</th>\n",
       "      <td>188T1A05A1</td>\n",
       "      <td>188T1A0578</td>\n",
       "      <td>188T1A0438</td>\n",
       "      <td>188T1A0473</td>\n",
       "      <td>198T5A0405</td>\n",
       "    </tr>\n",
       "    <tr>\n",
       "      <th>78</th>\n",
       "      <td>188T1A05A4</td>\n",
       "      <td>188T1A0583</td>\n",
       "      <td>188T1A0440</td>\n",
       "      <td>188T1A0474</td>\n",
       "      <td>188T1A0464</td>\n",
       "    </tr>\n",
       "    <tr>\n",
       "      <th>79</th>\n",
       "      <td>188T1A05B1</td>\n",
       "      <td>188T1A0584</td>\n",
       "      <td>188T1A0445</td>\n",
       "      <td>188T1A0475</td>\n",
       "      <td>198T5A0407</td>\n",
       "    </tr>\n",
       "    <tr>\n",
       "      <th>80</th>\n",
       "      <td>198T5A0503</td>\n",
       "      <td>188T1A05A1</td>\n",
       "      <td>188T1A0447</td>\n",
       "      <td>188T1A0476</td>\n",
       "      <td>188T1A0457</td>\n",
       "    </tr>\n",
       "    <tr>\n",
       "      <th>81</th>\n",
       "      <td>198T5A0510</td>\n",
       "      <td>188T1A05A9</td>\n",
       "      <td>188T1A0448</td>\n",
       "      <td>188T1A0484</td>\n",
       "      <td>188T1A04B4</td>\n",
       "    </tr>\n",
       "    <tr>\n",
       "      <th>82</th>\n",
       "      <td>198TTA0507</td>\n",
       "      <td>198T5A0510</td>\n",
       "      <td>188T1A0449</td>\n",
       "      <td>188T1A0495</td>\n",
       "      <td>188T1A04A8</td>\n",
       "    </tr>\n",
       "    <tr>\n",
       "      <th>83</th>\n",
       "      <td>188T1A0474</td>\n",
       "      <td>198T5A0216</td>\n",
       "      <td>188T1A0454</td>\n",
       "      <td>188T1A0498</td>\n",
       "      <td>188T1A0510</td>\n",
       "    </tr>\n",
       "    <tr>\n",
       "      <th>84</th>\n",
       "      <td>188T1A0401</td>\n",
       "      <td>198T5A0201</td>\n",
       "      <td>188T1A0455</td>\n",
       "      <td>188T1A0499</td>\n",
       "      <td>188T1A0520</td>\n",
       "    </tr>\n",
       "    <tr>\n",
       "      <th>85</th>\n",
       "      <td>188T1A0402</td>\n",
       "      <td>198T5A0202</td>\n",
       "      <td>188T1A0460</td>\n",
       "      <td>188T1A04A1</td>\n",
       "      <td>188T1A0409</td>\n",
       "    </tr>\n",
       "    <tr>\n",
       "      <th>86</th>\n",
       "      <td>188T1A0403</td>\n",
       "      <td>188T1A0215</td>\n",
       "      <td>188T1A0461</td>\n",
       "      <td>188T1A04A3</td>\n",
       "      <td>188T1A0434</td>\n",
       "    </tr>\n",
       "    <tr>\n",
       "      <th>87</th>\n",
       "      <td>188T1A0405</td>\n",
       "      <td>188T1A0203</td>\n",
       "      <td>188T1A0462</td>\n",
       "      <td>188T1A04A4</td>\n",
       "      <td>198T5A0404</td>\n",
       "    </tr>\n",
       "    <tr>\n",
       "      <th>88</th>\n",
       "      <td>188T1A0406</td>\n",
       "      <td>198T5A0229</td>\n",
       "      <td>188T1A0463</td>\n",
       "      <td>188T1A04A7</td>\n",
       "      <td>198T5A0401</td>\n",
       "    </tr>\n",
       "    <tr>\n",
       "      <th>89</th>\n",
       "      <td>188T1A0407</td>\n",
       "      <td>198T5A0125</td>\n",
       "      <td>188T1A0464</td>\n",
       "      <td>188T1A04A8</td>\n",
       "      <td>188T1A0579</td>\n",
       "    </tr>\n",
       "    <tr>\n",
       "      <th>90</th>\n",
       "      <td>188T1A0409</td>\n",
       "      <td>198T5A0135</td>\n",
       "      <td>188T1A0466</td>\n",
       "      <td>188T1A04B4</td>\n",
       "      <td>198T5A0413</td>\n",
       "    </tr>\n",
       "    <tr>\n",
       "      <th>91</th>\n",
       "      <td>188T1A0412</td>\n",
       "      <td>198T5A0210</td>\n",
       "      <td>188T1A0467</td>\n",
       "      <td>188T5A0401</td>\n",
       "      <td>188T1A0556</td>\n",
       "    </tr>\n",
       "    <tr>\n",
       "      <th>92</th>\n",
       "      <td>188T1A0413</td>\n",
       "      <td>198T5A0137</td>\n",
       "      <td>188T1A0468</td>\n",
       "      <td>198T5A0402</td>\n",
       "      <td>198T5A0415</td>\n",
       "    </tr>\n",
       "    <tr>\n",
       "      <th>93</th>\n",
       "      <td>188T1A0415</td>\n",
       "      <td>198T5A0113</td>\n",
       "      <td>188T1A0471</td>\n",
       "      <td>198T5A0406</td>\n",
       "      <td>188T1A0526</td>\n",
       "    </tr>\n",
       "    <tr>\n",
       "      <th>94</th>\n",
       "      <td>188T1A0417</td>\n",
       "      <td>188T1A0201</td>\n",
       "      <td>188T1A0473</td>\n",
       "      <td>198T5A0407</td>\n",
       "      <td>188T1A0557</td>\n",
       "    </tr>\n",
       "    <tr>\n",
       "      <th>95</th>\n",
       "      <td>188T1A0418</td>\n",
       "      <td>198T5A0224</td>\n",
       "      <td>188T1A0474</td>\n",
       "      <td>198T5A0408</td>\n",
       "      <td>188T1A0467</td>\n",
       "    </tr>\n",
       "    <tr>\n",
       "      <th>96</th>\n",
       "      <td>188T1A0419</td>\n",
       "      <td>188T1A0214</td>\n",
       "      <td>188T1A0475</td>\n",
       "      <td>198T5A0411</td>\n",
       "      <td>188T1A04B1</td>\n",
       "    </tr>\n",
       "    <tr>\n",
       "      <th>97</th>\n",
       "      <td>188T1A0420</td>\n",
       "      <td>188T1A0208</td>\n",
       "      <td>188T1A0476</td>\n",
       "      <td>198T5A0414</td>\n",
       "      <td>188T1A0438</td>\n",
       "    </tr>\n",
       "    <tr>\n",
       "      <th>98</th>\n",
       "      <td>188T1A0421</td>\n",
       "      <td>188T1A0216</td>\n",
       "      <td>188T1A0480</td>\n",
       "      <td>198T5A0415</td>\n",
       "      <td>188T1A0476</td>\n",
       "    </tr>\n",
       "    <tr>\n",
       "      <th>99</th>\n",
       "      <td>188T1A0422</td>\n",
       "      <td>188T1A0212</td>\n",
       "      <td>188T1A0484</td>\n",
       "      <td>198T5A0404</td>\n",
       "      <td>188T1A0528</td>\n",
       "    </tr>\n",
       "    <tr>\n",
       "      <th>100</th>\n",
       "      <td>188T1A0425</td>\n",
       "      <td>198T5A0102</td>\n",
       "      <td>188T1A0487</td>\n",
       "      <td>188T1A0501</td>\n",
       "      <td>188T1A0414</td>\n",
       "    </tr>\n",
       "    <tr>\n",
       "      <th>101</th>\n",
       "      <td>188T1A0427</td>\n",
       "      <td>198T5A0138</td>\n",
       "      <td>188T1A0490</td>\n",
       "      <td>188T1A0506</td>\n",
       "      <td>188T1A0511</td>\n",
       "    </tr>\n",
       "    <tr>\n",
       "      <th>102</th>\n",
       "      <td>188T1A0428</td>\n",
       "      <td>NaN</td>\n",
       "      <td>188T1A0492</td>\n",
       "      <td>188T1A0510</td>\n",
       "      <td>188T1A0435</td>\n",
       "    </tr>\n",
       "    <tr>\n",
       "      <th>103</th>\n",
       "      <td>188T1A0431</td>\n",
       "      <td>NaN</td>\n",
       "      <td>188T1A0497</td>\n",
       "      <td>188T1A0513</td>\n",
       "      <td>188T1A0407</td>\n",
       "    </tr>\n",
       "    <tr>\n",
       "      <th>104</th>\n",
       "      <td>188T1A0434</td>\n",
       "      <td>NaN</td>\n",
       "      <td>188T1A0498</td>\n",
       "      <td>188T1A0514</td>\n",
       "      <td>198T5A0510</td>\n",
       "    </tr>\n",
       "    <tr>\n",
       "      <th>105</th>\n",
       "      <td>188T1A0437</td>\n",
       "      <td>NaN</td>\n",
       "      <td>188T1A0499</td>\n",
       "      <td>188T1A0519</td>\n",
       "      <td>188T1A0521</td>\n",
       "    </tr>\n",
       "    <tr>\n",
       "      <th>106</th>\n",
       "      <td>188T1A0442</td>\n",
       "      <td>NaN</td>\n",
       "      <td>188T1A04A1</td>\n",
       "      <td>188T1A0520</td>\n",
       "      <td>188T1A0487</td>\n",
       "    </tr>\n",
       "    <tr>\n",
       "      <th>107</th>\n",
       "      <td>188T1A0443</td>\n",
       "      <td>NaN</td>\n",
       "      <td>188T1A04A2</td>\n",
       "      <td>188T1A0526</td>\n",
       "      <td>188T1A0412</td>\n",
       "    </tr>\n",
       "    <tr>\n",
       "      <th>108</th>\n",
       "      <td>188T1A0444</td>\n",
       "      <td>NaN</td>\n",
       "      <td>188T1A04A3</td>\n",
       "      <td>188T1A0527</td>\n",
       "      <td>188T1A04B0</td>\n",
       "    </tr>\n",
       "    <tr>\n",
       "      <th>109</th>\n",
       "      <td>188T1A0445</td>\n",
       "      <td>NaN</td>\n",
       "      <td>188T1A04A4</td>\n",
       "      <td>188T1A0528</td>\n",
       "      <td>188T1A0495</td>\n",
       "    </tr>\n",
       "    <tr>\n",
       "      <th>110</th>\n",
       "      <td>188T1A0447</td>\n",
       "      <td>NaN</td>\n",
       "      <td>188T1A04A8</td>\n",
       "      <td>188T1A0532</td>\n",
       "      <td>188T1A0562</td>\n",
       "    </tr>\n",
       "    <tr>\n",
       "      <th>111</th>\n",
       "      <td>188T1A0448</td>\n",
       "      <td>NaN</td>\n",
       "      <td>188T1A04B1</td>\n",
       "      <td>188T1A0538</td>\n",
       "      <td>188T1A0405</td>\n",
       "    </tr>\n",
       "    <tr>\n",
       "      <th>112</th>\n",
       "      <td>188T1A0449</td>\n",
       "      <td>NaN</td>\n",
       "      <td>188T1A04B2</td>\n",
       "      <td>188T1A0540</td>\n",
       "      <td>188T1A0558</td>\n",
       "    </tr>\n",
       "    <tr>\n",
       "      <th>113</th>\n",
       "      <td>188T1A0454</td>\n",
       "      <td>NaN</td>\n",
       "      <td>188T1A04B5</td>\n",
       "      <td>188T1A0548</td>\n",
       "      <td>188T1A0584</td>\n",
       "    </tr>\n",
       "    <tr>\n",
       "      <th>114</th>\n",
       "      <td>188T1A0455</td>\n",
       "      <td>NaN</td>\n",
       "      <td>198T5A0503</td>\n",
       "      <td>188T1A0552</td>\n",
       "      <td>188T1A0502</td>\n",
       "    </tr>\n",
       "    <tr>\n",
       "      <th>115</th>\n",
       "      <td>188T1A0456</td>\n",
       "      <td>NaN</td>\n",
       "      <td>188T1A0503</td>\n",
       "      <td>188T1A0554</td>\n",
       "      <td>188T1A0444</td>\n",
       "    </tr>\n",
       "    <tr>\n",
       "      <th>116</th>\n",
       "      <td>188T1A0457</td>\n",
       "      <td>NaN</td>\n",
       "      <td>188T1A0510</td>\n",
       "      <td>188T1A0555</td>\n",
       "      <td>188T1A0561</td>\n",
       "    </tr>\n",
       "    <tr>\n",
       "      <th>117</th>\n",
       "      <td>188T1A0460</td>\n",
       "      <td>NaN</td>\n",
       "      <td>188T1A0512</td>\n",
       "      <td>188T1A0557</td>\n",
       "      <td>188T1A0463</td>\n",
       "    </tr>\n",
       "    <tr>\n",
       "      <th>118</th>\n",
       "      <td>188T1A0461</td>\n",
       "      <td>NaN</td>\n",
       "      <td>188T1A0513</td>\n",
       "      <td>188T1A0558</td>\n",
       "      <td>188T1A0440</td>\n",
       "    </tr>\n",
       "    <tr>\n",
       "      <th>119</th>\n",
       "      <td>188T1A0462</td>\n",
       "      <td>NaN</td>\n",
       "      <td>188T1A0519</td>\n",
       "      <td>188T1A0560</td>\n",
       "      <td>188T1A0436</td>\n",
       "    </tr>\n",
       "    <tr>\n",
       "      <th>120</th>\n",
       "      <td>188T1A0463</td>\n",
       "      <td>NaN</td>\n",
       "      <td>188T1A0520</td>\n",
       "      <td>188T1A0562</td>\n",
       "      <td>188T1A0475</td>\n",
       "    </tr>\n",
       "    <tr>\n",
       "      <th>121</th>\n",
       "      <td>188T1A0464</td>\n",
       "      <td>NaN</td>\n",
       "      <td>188T1A0521</td>\n",
       "      <td>188T1A0567</td>\n",
       "      <td>188T1A0577</td>\n",
       "    </tr>\n",
       "    <tr>\n",
       "      <th>122</th>\n",
       "      <td>188T1A0465</td>\n",
       "      <td>NaN</td>\n",
       "      <td>188T1A0526</td>\n",
       "      <td>188T1A0574</td>\n",
       "      <td>188T1A0455</td>\n",
       "    </tr>\n",
       "    <tr>\n",
       "      <th>123</th>\n",
       "      <td>188T1A0466</td>\n",
       "      <td>NaN</td>\n",
       "      <td>188T1A0528</td>\n",
       "      <td>188T1A0575</td>\n",
       "      <td>188T1A0477</td>\n",
       "    </tr>\n",
       "    <tr>\n",
       "      <th>124</th>\n",
       "      <td>188T1A0467</td>\n",
       "      <td>NaN</td>\n",
       "      <td>188T1A0532</td>\n",
       "      <td>188T1A0576</td>\n",
       "      <td>188T1A0492</td>\n",
       "    </tr>\n",
       "    <tr>\n",
       "      <th>125</th>\n",
       "      <td>188T1A0468</td>\n",
       "      <td>NaN</td>\n",
       "      <td>188T1A0540</td>\n",
       "      <td>188T1A0577</td>\n",
       "      <td>188T1A0410</td>\n",
       "    </tr>\n",
       "    <tr>\n",
       "      <th>126</th>\n",
       "      <td>188T1A0473</td>\n",
       "      <td>NaN</td>\n",
       "      <td>188T1A0548</td>\n",
       "      <td>188T1A0578</td>\n",
       "      <td>188T1A04A7</td>\n",
       "    </tr>\n",
       "    <tr>\n",
       "      <th>127</th>\n",
       "      <td>188T1A0475</td>\n",
       "      <td>NaN</td>\n",
       "      <td>188T1A0552</td>\n",
       "      <td>188T1A0583</td>\n",
       "      <td>188T1A0471</td>\n",
       "    </tr>\n",
       "    <tr>\n",
       "      <th>128</th>\n",
       "      <td>188T1A0476</td>\n",
       "      <td>NaN</td>\n",
       "      <td>188T1A0554</td>\n",
       "      <td>188T1A0584</td>\n",
       "      <td>188T1A0447</td>\n",
       "    </tr>\n",
       "    <tr>\n",
       "      <th>129</th>\n",
       "      <td>188T1A0477</td>\n",
       "      <td>NaN</td>\n",
       "      <td>188T1A0556</td>\n",
       "      <td>188T1A0593</td>\n",
       "      <td>188T1A0531</td>\n",
       "    </tr>\n",
       "    <tr>\n",
       "      <th>130</th>\n",
       "      <td>188T1A0480</td>\n",
       "      <td>NaN</td>\n",
       "      <td>188T1A0557</td>\n",
       "      <td>188T1A05A4</td>\n",
       "      <td>198T5A0408</td>\n",
       "    </tr>\n",
       "    <tr>\n",
       "      <th>131</th>\n",
       "      <td>188T1A0482</td>\n",
       "      <td>NaN</td>\n",
       "      <td>188T1A0560</td>\n",
       "      <td>188T1A05A8</td>\n",
       "      <td>188T1A0473</td>\n",
       "    </tr>\n",
       "    <tr>\n",
       "      <th>132</th>\n",
       "      <td>188T1A0484</td>\n",
       "      <td>NaN</td>\n",
       "      <td>188T1A0562</td>\n",
       "      <td>198T5A0510</td>\n",
       "      <td>188T1A04A1</td>\n",
       "    </tr>\n",
       "    <tr>\n",
       "      <th>133</th>\n",
       "      <td>188T1A0487</td>\n",
       "      <td>NaN</td>\n",
       "      <td>188T1A0574</td>\n",
       "      <td>NaN</td>\n",
       "      <td>188T1A0419</td>\n",
       "    </tr>\n",
       "    <tr>\n",
       "      <th>134</th>\n",
       "      <td>188T1A0492</td>\n",
       "      <td>NaN</td>\n",
       "      <td>188T1A0575</td>\n",
       "      <td>NaN</td>\n",
       "      <td>NaN</td>\n",
       "    </tr>\n",
       "    <tr>\n",
       "      <th>135</th>\n",
       "      <td>188T1A0497</td>\n",
       "      <td>NaN</td>\n",
       "      <td>188T1A0576</td>\n",
       "      <td>NaN</td>\n",
       "      <td>NaN</td>\n",
       "    </tr>\n",
       "    <tr>\n",
       "      <th>136</th>\n",
       "      <td>188T1A0498</td>\n",
       "      <td>NaN</td>\n",
       "      <td>188T1A0578</td>\n",
       "      <td>NaN</td>\n",
       "      <td>NaN</td>\n",
       "    </tr>\n",
       "    <tr>\n",
       "      <th>137</th>\n",
       "      <td>188T1A0499</td>\n",
       "      <td>NaN</td>\n",
       "      <td>188T1A0579</td>\n",
       "      <td>NaN</td>\n",
       "      <td>NaN</td>\n",
       "    </tr>\n",
       "    <tr>\n",
       "      <th>138</th>\n",
       "      <td>188T1A04A7</td>\n",
       "      <td>NaN</td>\n",
       "      <td>188T1A0580</td>\n",
       "      <td>NaN</td>\n",
       "      <td>NaN</td>\n",
       "    </tr>\n",
       "    <tr>\n",
       "      <th>139</th>\n",
       "      <td>188T1A04A8</td>\n",
       "      <td>NaN</td>\n",
       "      <td>188T1A0583</td>\n",
       "      <td>NaN</td>\n",
       "      <td>NaN</td>\n",
       "    </tr>\n",
       "    <tr>\n",
       "      <th>140</th>\n",
       "      <td>188T1A04A9</td>\n",
       "      <td>NaN</td>\n",
       "      <td>188T1A0584</td>\n",
       "      <td>NaN</td>\n",
       "      <td>NaN</td>\n",
       "    </tr>\n",
       "    <tr>\n",
       "      <th>141</th>\n",
       "      <td>188T1A04B4</td>\n",
       "      <td>NaN</td>\n",
       "      <td>188T1A0593</td>\n",
       "      <td>NaN</td>\n",
       "      <td>NaN</td>\n",
       "    </tr>\n",
       "    <tr>\n",
       "      <th>142</th>\n",
       "      <td>188T1A04B5</td>\n",
       "      <td>NaN</td>\n",
       "      <td>188T1A05A0</td>\n",
       "      <td>NaN</td>\n",
       "      <td>NaN</td>\n",
       "    </tr>\n",
       "    <tr>\n",
       "      <th>143</th>\n",
       "      <td>198T5A0401</td>\n",
       "      <td>NaN</td>\n",
       "      <td>188T1A05A1</td>\n",
       "      <td>NaN</td>\n",
       "      <td>NaN</td>\n",
       "    </tr>\n",
       "    <tr>\n",
       "      <th>144</th>\n",
       "      <td>198T5A0402</td>\n",
       "      <td>NaN</td>\n",
       "      <td>188T1A05A4</td>\n",
       "      <td>NaN</td>\n",
       "      <td>NaN</td>\n",
       "    </tr>\n",
       "    <tr>\n",
       "      <th>145</th>\n",
       "      <td>198T5A0404</td>\n",
       "      <td>NaN</td>\n",
       "      <td>188T1A05B2</td>\n",
       "      <td>NaN</td>\n",
       "      <td>NaN</td>\n",
       "    </tr>\n",
       "    <tr>\n",
       "      <th>146</th>\n",
       "      <td>198T5A0405</td>\n",
       "      <td>NaN</td>\n",
       "      <td>NaN</td>\n",
       "      <td>NaN</td>\n",
       "      <td>NaN</td>\n",
       "    </tr>\n",
       "    <tr>\n",
       "      <th>147</th>\n",
       "      <td>198T5A0406</td>\n",
       "      <td>NaN</td>\n",
       "      <td>NaN</td>\n",
       "      <td>NaN</td>\n",
       "      <td>NaN</td>\n",
       "    </tr>\n",
       "    <tr>\n",
       "      <th>148</th>\n",
       "      <td>198T5A0407</td>\n",
       "      <td>NaN</td>\n",
       "      <td>NaN</td>\n",
       "      <td>NaN</td>\n",
       "      <td>NaN</td>\n",
       "    </tr>\n",
       "    <tr>\n",
       "      <th>149</th>\n",
       "      <td>198T5A0408</td>\n",
       "      <td>NaN</td>\n",
       "      <td>NaN</td>\n",
       "      <td>NaN</td>\n",
       "      <td>NaN</td>\n",
       "    </tr>\n",
       "    <tr>\n",
       "      <th>150</th>\n",
       "      <td>198T5A0411</td>\n",
       "      <td>NaN</td>\n",
       "      <td>NaN</td>\n",
       "      <td>NaN</td>\n",
       "      <td>NaN</td>\n",
       "    </tr>\n",
       "    <tr>\n",
       "      <th>151</th>\n",
       "      <td>198T5A0414</td>\n",
       "      <td>NaN</td>\n",
       "      <td>NaN</td>\n",
       "      <td>NaN</td>\n",
       "      <td>NaN</td>\n",
       "    </tr>\n",
       "    <tr>\n",
       "      <th>152</th>\n",
       "      <td>198T5A0415</td>\n",
       "      <td>NaN</td>\n",
       "      <td>NaN</td>\n",
       "      <td>NaN</td>\n",
       "      <td>NaN</td>\n",
       "    </tr>\n",
       "  </tbody>\n",
       "</table>\n",
       "</div>"
      ],
      "text/plain": [
       "     2020-12-22   2020-12-23  2020-12-24   2020-12-26   2020-12-28\n",
       "0    188T1A0106   198T5A0401  198T5A0101   188T1A0101   198T5A0209\n",
       "1    188T1A0113   198T5A0402  198T5A0102   188T1A0106   198T5A0116\n",
       "2    188T1A0115   198T5A0404  198T5A0104   188T1A0115   188T1A0209\n",
       "3    188T1A0134   198T5A0405  198T5A0107   188T1A0117   188T1A0106\n",
       "4    188T1A0142   198T5A0408  198T5A0108   188T1A0134   188T1A0202\n",
       "5    198T5A0102   198T5A0411  198T5A0109   188T1A0142   198T5A0210\n",
       "6    198T5A0104   198T5A0414  198T5A0111   198T5A0102   198T5A0216\n",
       "7    198T5A0106   198T5A0415  198T5A0113   198T5A0104   188T1A0117\n",
       "8    198T5A0110   188T1A0402  198T5A0114   198T5A0109   198T5A0133\n",
       "9    198T5A0111   188T1A0403  198T5A0116  198T5A0111    198T5A0202\n",
       "10   198T5A0112   188T1A0405  198T5A0117   198T5A0112  188T1A0338 \n",
       "11   198T5A0113   188T1A0406  198T5A0118   198T5A0113   198T5A0217\n",
       "12   198T5A0116   188T1A0407  198T5A0119   198T5A0114   188T1A0142\n",
       "13   198T5A0117   188T1A0411  198T5A0120   198T5A0116   198T5A0224\n",
       "14   198T5A0128   188T1A0413  198T5A0121   198T5A0117   198T5A0212\n",
       "15   198T5A0133   188T1A0415  198T5A0122   198T5A0119   198T5A0319\n",
       "16   198T5A0135   188T1A0417  198T5A0123   198T5A0121   188T1A0206\n",
       "17   198T5A0138   188T1A0418  198T5A0131   198T5A0126   188T1A0207\n",
       "18   198T5A0132   188T1A0420  198T5A0135   198T5A0133   198T5A0117\n",
       "19   188T1A0202   188T1A0421  198T5A0136   198T5A0135  198T5A0220 \n",
       "20   188T1A0201   188T1A0422  198T5A0137   198T5A0137   198T5A0226\n",
       "21   188T1A0203   188T1A0423  188T1A0115   198T5A0138   188T1A0211\n",
       "22   188T1A0206   188T1A0425  188T1A0117   198T5A0139   198T5A0102\n",
       "23   188T1A0207   188T1A0427  188T1A0142   188T1A0201   198T5A0229\n",
       "24   188T1A0209   188T1A0431  188T1A0144   188T1A0202   188T1A0203\n",
       "25   188T1A0211   188T1A0432  188T1A0145   188T1A0203   188T1A0111\n",
       "26   188T1A0212   188T1A0434  198T5A0201   188T1A0206   188T1A0103\n",
       "27   188T1A0214   188T1A0435  198T5A0202   188T1A0209   188T1A0115\n",
       "28   188T1A0215   188T1A0437  198T5A0204   188T1A0211   188T1A0216\n",
       "29   188T1A0216   188T1A0438  198T5A0209  188T1A0212    198T5A0218\n",
       "30   198T5A0201   188T1A0442  198T5A0215   188T1A0214   198T5A0201\n",
       "31   198T5A0202   188T1A0445  198T5A0219   188T1A0215   188T1A0201\n",
       "32   198T5A0205   188T1A0447  198T5A0220   188T1A0216   198T5A0203\n",
       "33   198T5A0209   188T1A0448  198T5A0224   198T5A0201   188T1A0215\n",
       "34   198T5A0210   188T1A0454  198T5A0225   198T5A0202   188T1A0401\n",
       "35   198T5A0212  188T1A0456   198T5A0226   198T5A0203   188T1A0460\n",
       "36   198T5A0213   188T1A0457  198T5A0229   198T5A0210   188T1A0421\n",
       "37   198T5A0216   188T1A0461  188T1A0201   198T5A0218   188T1A0552\n",
       "38   198T5A0216   188T1A0462  188T1A0202  198T5A0220    188T1A04B5\n",
       "39   198T5A0217   188T1A0463  188T1A0203   198T5A0226   188T1A0420\n",
       "40   198T5A0218   188T1A0464  198T5A0223   198T5A0229   188T1A0443\n",
       "41   198T5A0219   188T1A0467  188T1A0208   198T5A0224   188T1A0474\n",
       "42   198T5A0220   188T1A0468  188T1A0214   188T1A0338   188T1A0465\n",
       "43   198T5A0221   188T1A0471  188T1A0215   188T1A0487   188T1A0503\n",
       "44   198T5A0224   188T1A0473  188T1A0216   188T1A0497   188T1A0403\n",
       "45   198T5A0225   188T1A0475  188T1A0341   188T1A0490   188T1A0424\n",
       "46   198T5A0226   188T1A0476  198T5A0302   188T1A0402   188T1A0468\n",
       "47   198T5A0229   188T1A0477  198T5A0314   188T1A0403   188T1A0406\n",
       "48   198T5A0232   188T1A0484  198T5A0335   188T1A0406   188T1A0415\n",
       "49   188T1A0526   188T1A0498  198T5A0401   188T1A0407   188T1A0413\n",
       "50   188T1A0501   188T1A0499  198T5A0404   188T1A0409   188T1A0560\n",
       "51   188T1A0503  188T1A04A3   198T5A0406   188T1A0417   188T1A0448\n",
       "52   188T1A0506  188T1A04A4   198T5A0408   188T1A0419   188T1A0431\n",
       "53   188T1A0510   188T1A04A8  198T5A0411   188T1A0420  188T1A04A3 \n",
       "54   188T1A0512   188T1A04B0  198T5A0414   188T1A0423   198T5A0411\n",
       "55   188T1A0513   188T1A04B5  198T5A0415   188T1A0424   188T1A0506\n",
       "56   188T1A0517   188T1A0506  188T1A0401   188T1A0425   188T1A05A4\n",
       "57   188T1A0519   188T1A0513  188T1A0402   188T1A0428  198T5A0406 \n",
       "58   188T1A0521   188T1A0516  188T1A0405   188T1A0431   188T1A0445\n",
       "59   188T1A0527   188T1A0519  188T1A0407   188T1A0433   188T1A0437\n",
       "60   188T1A0533   188T1A0520  188T1A0409   188T1A0434   188T1A0532\n",
       "61   188T1A0540   188T1A0521  188T1A0412   188T1A0436  188T1A04A4 \n",
       "62   188T1A0544   188T1A0527  188T1A0413   188T1A0443   188T1A0484\n",
       "63   188T1A0547   188T1A0528  188T1A0415   188T1A0445   188T1A0499\n",
       "64   188T1A0548   188T1A0532  188T1A0418   188T1A0447   188T1A0583\n",
       "65   188T1A0554   188T1A0540  188T1A0419   188T1A0448   188T1A0576\n",
       "66   188T1A0560  188T1A0548   188T1A0420   188T1A0454   188T1A0454\n",
       "67   188T1A0561   188T1A0552  188T1A0422   188T1A0455   188T1A0578\n",
       "68   188T1A0563   188T1A0554  188T1A0423   188T1A0460   188T1A05A1\n",
       "69   188T1A0567   188T1A0556  188T1A0425   188T1A0461   188T1A0514\n",
       "70   188T1A0571   188T1A0557  188T1A0426   188T1A0462   188T1A0417\n",
       "71   188T1A0575   188T1A0559  188T1A0427   188T1A0464  188T1A0456 \n",
       "72   188T1A0576   188T1A0560  188T1A0428   188T1A0465   188T1A0490\n",
       "73   188T1A0578   188T1A0574  188T1A0430   188T1A0466   188T1A0540\n",
       "74   188T1A0583   188T1A0575  188T1A0431   188T1A0467   188T1A0538\n",
       "75   188T1A0584   188T1A0576  188T1A0436   188T1A0468   198T5A0414\n",
       "76   188T1A0593   188T1A0577  188T1A0437   188T1A0471   188T1A0402\n",
       "77   188T1A05A1   188T1A0578  188T1A0438   188T1A0473   198T5A0405\n",
       "78   188T1A05A4   188T1A0583  188T1A0440   188T1A0474   188T1A0464\n",
       "79   188T1A05B1   188T1A0584  188T1A0445   188T1A0475  198T5A0407 \n",
       "80   198T5A0503   188T1A05A1  188T1A0447   188T1A0476   188T1A0457\n",
       "81   198T5A0510   188T1A05A9  188T1A0448   188T1A0484   188T1A04B4\n",
       "82   198TTA0507   198T5A0510  188T1A0449   188T1A0495   188T1A04A8\n",
       "83   188T1A0474   198T5A0216  188T1A0454   188T1A0498   188T1A0510\n",
       "84   188T1A0401   198T5A0201  188T1A0455   188T1A0499   188T1A0520\n",
       "85   188T1A0402   198T5A0202  188T1A0460  188T1A04A1    188T1A0409\n",
       "86   188T1A0403   188T1A0215  188T1A0461  188T1A04A3    188T1A0434\n",
       "87   188T1A0405   188T1A0203  188T1A0462  188T1A04A4    198T5A0404\n",
       "88   188T1A0406   198T5A0229  188T1A0463   188T1A04A7   198T5A0401\n",
       "89   188T1A0407   198T5A0125  188T1A0464   188T1A04A8   188T1A0579\n",
       "90   188T1A0409   198T5A0135  188T1A0466   188T1A04B4   198T5A0413\n",
       "91   188T1A0412   198T5A0210  188T1A0467   188T5A0401   188T1A0556\n",
       "92   188T1A0413   198T5A0137  188T1A0468   198T5A0402   198T5A0415\n",
       "93   188T1A0415   198T5A0113  188T1A0471   198T5A0406   188T1A0526\n",
       "94   188T1A0417   188T1A0201  188T1A0473  198T5A0407    188T1A0557\n",
       "95   188T1A0418   198T5A0224  188T1A0474   198T5A0408   188T1A0467\n",
       "96   188T1A0419   188T1A0214  188T1A0475   198T5A0411   188T1A04B1\n",
       "97   188T1A0420   188T1A0208  188T1A0476   198T5A0414   188T1A0438\n",
       "98   188T1A0421   188T1A0216  188T1A0480   198T5A0415   188T1A0476\n",
       "99   188T1A0422   188T1A0212  188T1A0484   198T5A0404   188T1A0528\n",
       "100  188T1A0425   198T5A0102  188T1A0487   188T1A0501   188T1A0414\n",
       "101  188T1A0427   198T5A0138  188T1A0490   188T1A0506   188T1A0511\n",
       "102  188T1A0428          NaN  188T1A0492   188T1A0510   188T1A0435\n",
       "103  188T1A0431          NaN  188T1A0497   188T1A0513   188T1A0407\n",
       "104  188T1A0434          NaN  188T1A0498   188T1A0514   198T5A0510\n",
       "105  188T1A0437          NaN  188T1A0499   188T1A0519   188T1A0521\n",
       "106  188T1A0442          NaN  188T1A04A1   188T1A0520   188T1A0487\n",
       "107  188T1A0443          NaN  188T1A04A2   188T1A0526   188T1A0412\n",
       "108  188T1A0444          NaN  188T1A04A3   188T1A0527   188T1A04B0\n",
       "109  188T1A0445          NaN  188T1A04A4   188T1A0528   188T1A0495\n",
       "110  188T1A0447          NaN  188T1A04A8   188T1A0532   188T1A0562\n",
       "111  188T1A0448          NaN  188T1A04B1   188T1A0538   188T1A0405\n",
       "112  188T1A0449          NaN  188T1A04B2   188T1A0540   188T1A0558\n",
       "113  188T1A0454          NaN  188T1A04B5  188T1A0548    188T1A0584\n",
       "114  188T1A0455          NaN  198T5A0503   188T1A0552   188T1A0502\n",
       "115  188T1A0456          NaN  188T1A0503   188T1A0554   188T1A0444\n",
       "116  188T1A0457          NaN  188T1A0510   188T1A0555   188T1A0561\n",
       "117  188T1A0460          NaN  188T1A0512  188T1A0557    188T1A0463\n",
       "118  188T1A0461          NaN  188T1A0513   188T1A0558  188T1A0440 \n",
       "119  188T1A0462          NaN  188T1A0519   188T1A0560   188T1A0436\n",
       "120  188T1A0463          NaN  188T1A0520   188T1A0562   188T1A0475\n",
       "121  188T1A0464          NaN  188T1A0521   188T1A0567   188T1A0577\n",
       "122  188T1A0465          NaN  188T1A0526   188T1A0574   188T1A0455\n",
       "123  188T1A0466          NaN  188T1A0528   188T1A0575   188T1A0477\n",
       "124  188T1A0467          NaN  188T1A0532   188T1A0576   188T1A0492\n",
       "125  188T1A0468          NaN  188T1A0540   188T1A0577   188T1A0410\n",
       "126  188T1A0473          NaN  188T1A0548   188T1A0578   188T1A04A7\n",
       "127  188T1A0475          NaN  188T1A0552   188T1A0583   188T1A0471\n",
       "128  188T1A0476          NaN  188T1A0554   188T1A0584   188T1A0447\n",
       "129  188T1A0477          NaN  188T1A0556   188T1A0593   188T1A0531\n",
       "130  188T1A0480          NaN  188T1A0557   188T1A05A4   198T5A0408\n",
       "131  188T1A0482          NaN  188T1A0560   188T1A05A8   188T1A0473\n",
       "132  188T1A0484          NaN  188T1A0562   198T5A0510  188T1A04A1 \n",
       "133  188T1A0487          NaN  188T1A0574          NaN   188T1A0419\n",
       "134  188T1A0492          NaN  188T1A0575          NaN          NaN\n",
       "135  188T1A0497          NaN  188T1A0576          NaN          NaN\n",
       "136  188T1A0498          NaN  188T1A0578          NaN          NaN\n",
       "137  188T1A0499          NaN  188T1A0579          NaN          NaN\n",
       "138  188T1A04A7          NaN  188T1A0580          NaN          NaN\n",
       "139  188T1A04A8          NaN  188T1A0583          NaN          NaN\n",
       "140  188T1A04A9          NaN  188T1A0584          NaN          NaN\n",
       "141  188T1A04B4          NaN  188T1A0593          NaN          NaN\n",
       "142  188T1A04B5          NaN  188T1A05A0          NaN          NaN\n",
       "143  198T5A0401          NaN  188T1A05A1          NaN          NaN\n",
       "144  198T5A0402          NaN  188T1A05A4          NaN          NaN\n",
       "145  198T5A0404          NaN  188T1A05B2          NaN          NaN\n",
       "146  198T5A0405          NaN         NaN          NaN          NaN\n",
       "147  198T5A0406          NaN         NaN          NaN          NaN\n",
       "148  198T5A0407          NaN         NaN          NaN          NaN\n",
       "149  198T5A0408          NaN         NaN          NaN          NaN\n",
       "150  198T5A0411          NaN         NaN          NaN          NaN\n",
       "151  198T5A0414          NaN         NaN          NaN          NaN\n",
       "152  198T5A0415          NaN         NaN          NaN          NaN"
      ]
     },
     "execution_count": 170,
     "metadata": {},
     "output_type": "execute_result"
    }
   ],
   "source": [
    "df"
   ]
  },
  {
   "cell_type": "code",
   "execution_count": 172,
   "metadata": {},
   "outputs": [
    {
     "data": {
      "text/plain": [
       "2020-12-22     0\n",
       "2020-12-23    51\n",
       "2020-12-24     7\n",
       "2020-12-26    20\n",
       "2020-12-28    19\n",
       "dtype: int64"
      ]
     },
     "execution_count": 172,
     "metadata": {},
     "output_type": "execute_result"
    }
   ],
   "source": [
    "df.isna().sum()"
   ]
  },
  {
   "cell_type": "code",
   "execution_count": 174,
   "metadata": {},
   "outputs": [
    {
     "data": {
      "text/html": [
       "<div>\n",
       "<style scoped>\n",
       "    .dataframe tbody tr th:only-of-type {\n",
       "        vertical-align: middle;\n",
       "    }\n",
       "\n",
       "    .dataframe tbody tr th {\n",
       "        vertical-align: top;\n",
       "    }\n",
       "\n",
       "    .dataframe thead th {\n",
       "        text-align: right;\n",
       "    }\n",
       "</style>\n",
       "<table border=\"1\" class=\"dataframe\">\n",
       "  <thead>\n",
       "    <tr style=\"text-align: right;\">\n",
       "      <th></th>\n",
       "      <th>2020-12-22</th>\n",
       "      <th>2020-12-23</th>\n",
       "      <th>2020-12-24</th>\n",
       "      <th>2020-12-26</th>\n",
       "      <th>2020-12-28</th>\n",
       "    </tr>\n",
       "  </thead>\n",
       "  <tbody>\n",
       "    <tr>\n",
       "      <th>count</th>\n",
       "      <td>153</td>\n",
       "      <td>102</td>\n",
       "      <td>146</td>\n",
       "      <td>133</td>\n",
       "      <td>134</td>\n",
       "    </tr>\n",
       "    <tr>\n",
       "      <th>unique</th>\n",
       "      <td>152</td>\n",
       "      <td>102</td>\n",
       "      <td>146</td>\n",
       "      <td>133</td>\n",
       "      <td>134</td>\n",
       "    </tr>\n",
       "    <tr>\n",
       "      <th>top</th>\n",
       "      <td>198T5A0216</td>\n",
       "      <td>188T1A0499</td>\n",
       "      <td>188T1A0499</td>\n",
       "      <td>198T5A0218</td>\n",
       "      <td>188T1A0473</td>\n",
       "    </tr>\n",
       "    <tr>\n",
       "      <th>freq</th>\n",
       "      <td>2</td>\n",
       "      <td>1</td>\n",
       "      <td>1</td>\n",
       "      <td>1</td>\n",
       "      <td>1</td>\n",
       "    </tr>\n",
       "  </tbody>\n",
       "</table>\n",
       "</div>"
      ],
      "text/plain": [
       "        2020-12-22  2020-12-23  2020-12-24  2020-12-26  2020-12-28\n",
       "count          153         102         146         133         134\n",
       "unique         152         102         146         133         134\n",
       "top     198T5A0216  188T1A0499  188T1A0499  198T5A0218  188T1A0473\n",
       "freq             2           1           1           1           1"
      ]
     },
     "execution_count": 174,
     "metadata": {},
     "output_type": "execute_result"
    }
   ],
   "source": [
    "df.describe(include='all')"
   ]
  },
  {
   "cell_type": "code",
   "execution_count": 1,
   "metadata": {},
   "outputs": [],
   "source": [
    "# ahdkaskhkiwehfihaewfjrwioj"
   ]
  },
  {
   "cell_type": "code",
   "execution_count": 3,
   "metadata": {},
   "outputs": [],
   "source": [
    "a=\"\"\"\n",
    "gefuef\n",
    "bmdbfkk\n",
    "dfgsjefhs\"\"\""
   ]
  },
  {
   "cell_type": "code",
   "execution_count": 4,
   "metadata": {},
   "outputs": [
    {
     "name": "stdout",
     "output_type": "stream",
     "text": [
      "\n",
      "gefuef\n",
      "bmdbfkk\n",
      "dfgsjefhs\n"
     ]
    }
   ],
   "source": [
    "print(a)"
   ]
  },
  {
   "cell_type": "code",
   "execution_count": 5,
   "metadata": {},
   "outputs": [
    {
     "name": "stdout",
     "output_type": "stream",
     "text": [
      "dkfkjkjdfvx\n"
     ]
    },
    {
     "data": {
      "text/plain": [
       "'dkfkjkjdfvx'"
      ]
     },
     "execution_count": 5,
     "metadata": {},
     "output_type": "execute_result"
    }
   ],
   "source": [
    "input()"
   ]
  },
  {
   "cell_type": "code",
   "execution_count": 7,
   "metadata": {},
   "outputs": [
    {
     "name": "stdout",
     "output_type": "stream",
     "text": [
      "enter a value :5\n"
     ]
    },
    {
     "data": {
      "text/plain": [
       "int"
      ]
     },
     "execution_count": 7,
     "metadata": {},
     "output_type": "execute_result"
    }
   ],
   "source": [
    "a=int(input('enter a value :'))\n",
    "type(a)"
   ]
  },
  {
   "cell_type": "code",
   "execution_count": 8,
   "metadata": {},
   "outputs": [
    {
     "data": {
      "text/plain": [
       "2.5"
      ]
     },
     "execution_count": 8,
     "metadata": {},
     "output_type": "execute_result"
    }
   ],
   "source": [
    "a=1\n",
    "b=1.5\n",
    "c=a+b\n",
    "c"
   ]
  },
  {
   "cell_type": "code",
   "execution_count": null,
   "metadata": {},
   "outputs": [],
   "source": [
    "a=int(input())\n",
    "if a>=20:\n",
    "    print('dsdbmhsdzh')"
   ]
  },
  {
   "cell_type": "code",
   "execution_count": 9,
   "metadata": {},
   "outputs": [
    {
     "name": "stdout",
     "output_type": "stream",
     "text": [
      "hbdxxfkj\n"
     ]
    }
   ],
   "source": [
    "print('hbdxxfkj')"
   ]
  },
  {
   "cell_type": "code",
   "execution_count": 13,
   "metadata": {},
   "outputs": [
    {
     "name": "stdout",
     "output_type": "stream",
     "text": [
      "i'm good\n"
     ]
    }
   ],
   "source": [
    "print(\"i'm good\")"
   ]
  },
  {
   "cell_type": "code",
   "execution_count": 10,
   "metadata": {},
   "outputs": [
    {
     "name": "stdout",
     "output_type": "stream",
     "text": [
      "dsfzjdsdkjhzx\n"
     ]
    }
   ],
   "source": [
    "print(\"dsfzjdsdkjhzx\")"
   ]
  },
  {
   "cell_type": "code",
   "execution_count": 14,
   "metadata": {},
   "outputs": [
    {
     "name": "stdout",
     "output_type": "stream",
     "text": [
      "shdzfsdcsdvj,\n",
      "\n",
      "fvnkjfjd\n",
      "kdfmvkldfx\n",
      "dfnvldfm\n",
      "fvmldfvx\n",
      "bkfmxvm.k\n",
      "dlfkvmlkfk\n",
      "vnzkdvmfdc\n"
     ]
    }
   ],
   "source": [
    "print(\"\"\"shdzfsdcsdvj,\n",
    "\n",
    "fvnkjfjd\n",
    "kdfmvkldfx\n",
    "dfnvldfm\n",
    "fvmldfvx\n",
    "bkfmxvm.k\n",
    "dlfkvmlkfk\n",
    "vnzkdvmfdc\"\"\")"
   ]
  },
  {
   "cell_type": "code",
   "execution_count": 1,
   "metadata": {},
   "outputs": [],
   "source": [
    "l=[1,2,'pjcjecjerh']"
   ]
  },
  {
   "cell_type": "code",
   "execution_count": 2,
   "metadata": {},
   "outputs": [
    {
     "data": {
      "text/plain": [
       "'pjcjecjerh'"
      ]
     },
     "execution_count": 2,
     "metadata": {},
     "output_type": "execute_result"
    }
   ],
   "source": [
    "l[2]"
   ]
  },
  {
   "cell_type": "code",
   "execution_count": 3,
   "metadata": {},
   "outputs": [
    {
     "data": {
      "text/plain": [
       "2"
      ]
     },
     "execution_count": 3,
     "metadata": {},
     "output_type": "execute_result"
    }
   ],
   "source": [
    "l[1]"
   ]
  },
  {
   "cell_type": "code",
   "execution_count": 6,
   "metadata": {},
   "outputs": [
    {
     "data": {
      "text/plain": [
       "0"
      ]
     },
     "execution_count": 6,
     "metadata": {},
     "output_type": "execute_result"
    }
   ],
   "source": [
    "l.index(1)"
   ]
  },
  {
   "cell_type": "code",
   "execution_count": 9,
   "metadata": {},
   "outputs": [],
   "source": [
    "l=['a',1,'a']"
   ]
  },
  {
   "cell_type": "code",
   "execution_count": 13,
   "metadata": {},
   "outputs": [
    {
     "data": {
      "text/plain": [
       "0"
      ]
     },
     "execution_count": 13,
     "metadata": {},
     "output_type": "execute_result"
    }
   ],
   "source": [
    "l.index('a')"
   ]
  },
  {
   "cell_type": "code",
   "execution_count": 14,
   "metadata": {},
   "outputs": [],
   "source": [
    "l=list(range(1,10))"
   ]
  },
  {
   "cell_type": "code",
   "execution_count": 15,
   "metadata": {},
   "outputs": [
    {
     "data": {
      "text/plain": [
       "[1, 2, 3, 4, 5, 6, 7, 8, 9]"
      ]
     },
     "execution_count": 15,
     "metadata": {},
     "output_type": "execute_result"
    }
   ],
   "source": [
    "l"
   ]
  },
  {
   "cell_type": "code",
   "execution_count": 17,
   "metadata": {},
   "outputs": [],
   "source": [
    "l[-1]='fhtf1nh'"
   ]
  },
  {
   "cell_type": "code",
   "execution_count": 18,
   "metadata": {},
   "outputs": [
    {
     "data": {
      "text/plain": [
       "[1, 2, 3, 4, 5, 6, 7, 8, 'fhtf1nh']"
      ]
     },
     "execution_count": 18,
     "metadata": {},
     "output_type": "execute_result"
    }
   ],
   "source": [
    "l"
   ]
  },
  {
   "cell_type": "code",
   "execution_count": 19,
   "metadata": {},
   "outputs": [],
   "source": [
    "t=(1,'B')"
   ]
  },
  {
   "cell_type": "code",
   "execution_count": 20,
   "metadata": {},
   "outputs": [
    {
     "ename": "TypeError",
     "evalue": "'tuple' object does not support item assignment",
     "output_type": "error",
     "traceback": [
      "\u001b[1;31m---------------------------------------------------------------------------\u001b[0m",
      "\u001b[1;31mTypeError\u001b[0m                                 Traceback (most recent call last)",
      "\u001b[1;32m<ipython-input-20-aed1fba27191>\u001b[0m in \u001b[0;36m<module>\u001b[1;34m\u001b[0m\n\u001b[1;32m----> 1\u001b[1;33m \u001b[0mt\u001b[0m\u001b[1;33m[\u001b[0m\u001b[1;36m1\u001b[0m\u001b[1;33m]\u001b[0m\u001b[1;33m=\u001b[0m\u001b[1;34m'yg4yg6y'\u001b[0m\u001b[1;33m\u001b[0m\u001b[1;33m\u001b[0m\u001b[0m\n\u001b[0m",
      "\u001b[1;31mTypeError\u001b[0m: 'tuple' object does not support item assignment"
     ]
    }
   ],
   "source": [
    "t[1]='yg4yg6y'"
   ]
  },
  {
   "cell_type": "code",
   "execution_count": 21,
   "metadata": {},
   "outputs": [
    {
     "data": {
      "text/plain": [
       "(1, 'B')"
      ]
     },
     "execution_count": 21,
     "metadata": {},
     "output_type": "execute_result"
    }
   ],
   "source": [
    "t"
   ]
  },
  {
   "cell_type": "code",
   "execution_count": 22,
   "metadata": {},
   "outputs": [],
   "source": [
    "a=list(t)"
   ]
  },
  {
   "cell_type": "code",
   "execution_count": 23,
   "metadata": {},
   "outputs": [
    {
     "data": {
      "text/plain": [
       "[1, 'B']"
      ]
     },
     "execution_count": 23,
     "metadata": {},
     "output_type": "execute_result"
    }
   ],
   "source": [
    "a"
   ]
  },
  {
   "cell_type": "code",
   "execution_count": 24,
   "metadata": {},
   "outputs": [],
   "source": [
    "a[1]=2"
   ]
  },
  {
   "cell_type": "code",
   "execution_count": 25,
   "metadata": {},
   "outputs": [
    {
     "data": {
      "text/plain": [
       "[1, 2]"
      ]
     },
     "execution_count": 25,
     "metadata": {},
     "output_type": "execute_result"
    }
   ],
   "source": [
    "a"
   ]
  },
  {
   "cell_type": "code",
   "execution_count": 26,
   "metadata": {},
   "outputs": [
    {
     "data": {
      "text/plain": [
       "(1, 2)"
      ]
     },
     "execution_count": 26,
     "metadata": {},
     "output_type": "execute_result"
    }
   ],
   "source": [
    "tuple(a)"
   ]
  },
  {
   "cell_type": "code",
   "execution_count": null,
   "metadata": {},
   "outputs": [],
   "source": [
    "a=['apple','cherry','banana']\n"
   ]
  },
  {
   "cell_type": "code",
   "execution_count": 27,
   "metadata": {},
   "outputs": [],
   "source": [
    "l=[1,2,3,'abcd']"
   ]
  },
  {
   "cell_type": "code",
   "execution_count": 28,
   "metadata": {},
   "outputs": [
    {
     "data": {
      "text/plain": [
       "[1, 2, 3, 'abcd']"
      ]
     },
     "execution_count": 28,
     "metadata": {},
     "output_type": "execute_result"
    }
   ],
   "source": [
    "l"
   ]
  },
  {
   "cell_type": "code",
   "execution_count": 29,
   "metadata": {},
   "outputs": [
    {
     "data": {
      "text/plain": [
       "'abcd'"
      ]
     },
     "execution_count": 29,
     "metadata": {},
     "output_type": "execute_result"
    }
   ],
   "source": [
    "l[3]"
   ]
  },
  {
   "cell_type": "code",
   "execution_count": 30,
   "metadata": {},
   "outputs": [],
   "source": [
    "l[3]='hello'"
   ]
  },
  {
   "cell_type": "code",
   "execution_count": 31,
   "metadata": {},
   "outputs": [
    {
     "data": {
      "text/plain": [
       "[1, 2, 3, 'hello']"
      ]
     },
     "execution_count": 31,
     "metadata": {},
     "output_type": "execute_result"
    }
   ],
   "source": [
    "l"
   ]
  },
  {
   "cell_type": "code",
   "execution_count": 32,
   "metadata": {},
   "outputs": [],
   "source": [
    "l.append('welcome')"
   ]
  },
  {
   "cell_type": "code",
   "execution_count": 35,
   "metadata": {},
   "outputs": [],
   "source": [
    "l[0]='hello'"
   ]
  },
  {
   "cell_type": "code",
   "execution_count": 36,
   "metadata": {},
   "outputs": [
    {
     "data": {
      "text/plain": [
       "2"
      ]
     },
     "execution_count": 36,
     "metadata": {},
     "output_type": "execute_result"
    }
   ],
   "source": [
    "l.count('hello')"
   ]
  },
  {
   "cell_type": "code",
   "execution_count": 37,
   "metadata": {},
   "outputs": [
    {
     "data": {
      "text/plain": [
       "['hello', 2, 3, 'hello', 'welcome']"
      ]
     },
     "execution_count": 37,
     "metadata": {},
     "output_type": "execute_result"
    }
   ],
   "source": [
    "l"
   ]
  },
  {
   "cell_type": "code",
   "execution_count": 39,
   "metadata": {},
   "outputs": [
    {
     "data": {
      "text/plain": [
       "4"
      ]
     },
     "execution_count": 39,
     "metadata": {},
     "output_type": "execute_result"
    }
   ],
   "source": [
    "l.index('welcome')"
   ]
  },
  {
   "cell_type": "code",
   "execution_count": 40,
   "metadata": {},
   "outputs": [],
   "source": [
    "l.insert(2,['a',1,2,3,4])"
   ]
  },
  {
   "cell_type": "code",
   "execution_count": 41,
   "metadata": {},
   "outputs": [
    {
     "data": {
      "text/plain": [
       "['hello', 2, ['a', 1, 2, 3, 4], 3, 'hello', 'welcome']"
      ]
     },
     "execution_count": 41,
     "metadata": {},
     "output_type": "execute_result"
    }
   ],
   "source": [
    "l"
   ]
  },
  {
   "cell_type": "code",
   "execution_count": 42,
   "metadata": {},
   "outputs": [
    {
     "data": {
      "text/plain": [
       "['a', 1, 2, 3, 4]"
      ]
     },
     "execution_count": 42,
     "metadata": {},
     "output_type": "execute_result"
    }
   ],
   "source": [
    "l[2]"
   ]
  },
  {
   "cell_type": "code",
   "execution_count": 43,
   "metadata": {},
   "outputs": [
    {
     "data": {
      "text/plain": [
       "4"
      ]
     },
     "execution_count": 43,
     "metadata": {},
     "output_type": "execute_result"
    }
   ],
   "source": [
    "l[2][4]"
   ]
  },
  {
   "cell_type": "code",
   "execution_count": 49,
   "metadata": {},
   "outputs": [
    {
     "data": {
      "text/plain": [
       "[2, 1, 'a']"
      ]
     },
     "execution_count": 49,
     "metadata": {},
     "output_type": "execute_result"
    }
   ],
   "source": [
    "l[2][::-1][2:]"
   ]
  },
  {
   "cell_type": "code",
   "execution_count": 50,
   "metadata": {},
   "outputs": [
    {
     "data": {
      "text/plain": [
       "'welcome'"
      ]
     },
     "execution_count": 50,
     "metadata": {},
     "output_type": "execute_result"
    }
   ],
   "source": [
    "l.pop()"
   ]
  },
  {
   "cell_type": "code",
   "execution_count": 51,
   "metadata": {},
   "outputs": [
    {
     "data": {
      "text/plain": [
       "['hello', 2, ['a', 1, 2, 3, 4], 3, 'hello']"
      ]
     },
     "execution_count": 51,
     "metadata": {},
     "output_type": "execute_result"
    }
   ],
   "source": [
    "l"
   ]
  },
  {
   "cell_type": "code",
   "execution_count": 59,
   "metadata": {},
   "outputs": [],
   "source": [
    "a=[1,2,'pk']"
   ]
  },
  {
   "cell_type": "code",
   "execution_count": 60,
   "metadata": {},
   "outputs": [],
   "source": [
    "a.remove('pk')"
   ]
  },
  {
   "cell_type": "code",
   "execution_count": 61,
   "metadata": {},
   "outputs": [
    {
     "data": {
      "text/plain": [
       "[1, 2]"
      ]
     },
     "execution_count": 61,
     "metadata": {},
     "output_type": "execute_result"
    }
   ],
   "source": [
    "a"
   ]
  },
  {
   "cell_type": "code",
   "execution_count": 62,
   "metadata": {},
   "outputs": [],
   "source": [
    "a.reverse()"
   ]
  },
  {
   "cell_type": "code",
   "execution_count": 63,
   "metadata": {},
   "outputs": [
    {
     "data": {
      "text/plain": [
       "[2, 1]"
      ]
     },
     "execution_count": 63,
     "metadata": {},
     "output_type": "execute_result"
    }
   ],
   "source": [
    "a"
   ]
  },
  {
   "cell_type": "code",
   "execution_count": 64,
   "metadata": {},
   "outputs": [],
   "source": [
    "t=(1,'abcd',2)"
   ]
  },
  {
   "cell_type": "code",
   "execution_count": 65,
   "metadata": {},
   "outputs": [
    {
     "data": {
      "text/plain": [
       "'abcd'"
      ]
     },
     "execution_count": 65,
     "metadata": {},
     "output_type": "execute_result"
    }
   ],
   "source": [
    "t[1]"
   ]
  },
  {
   "cell_type": "code",
   "execution_count": 66,
   "metadata": {},
   "outputs": [
    {
     "data": {
      "text/plain": [
       "('abcd', 2)"
      ]
     },
     "execution_count": 66,
     "metadata": {},
     "output_type": "execute_result"
    }
   ],
   "source": [
    "t[1:]"
   ]
  },
  {
   "cell_type": "code",
   "execution_count": 67,
   "metadata": {},
   "outputs": [
    {
     "ename": "TypeError",
     "evalue": "'tuple' object does not support item assignment",
     "output_type": "error",
     "traceback": [
      "\u001b[1;31m---------------------------------------------------------------------------\u001b[0m",
      "\u001b[1;31mTypeError\u001b[0m                                 Traceback (most recent call last)",
      "\u001b[1;32m<ipython-input-67-c3353f7b1a4c>\u001b[0m in \u001b[0;36m<module>\u001b[1;34m\u001b[0m\n\u001b[1;32m----> 1\u001b[1;33m \u001b[0mt\u001b[0m\u001b[1;33m[\u001b[0m\u001b[1;36m1\u001b[0m\u001b[1;33m]\u001b[0m\u001b[1;33m=\u001b[0m\u001b[1;34m'hello'\u001b[0m\u001b[1;33m\u001b[0m\u001b[1;33m\u001b[0m\u001b[0m\n\u001b[0m",
      "\u001b[1;31mTypeError\u001b[0m: 'tuple' object does not support item assignment"
     ]
    }
   ],
   "source": [
    "t[1]='hello'"
   ]
  },
  {
   "cell_type": "code",
   "execution_count": 68,
   "metadata": {},
   "outputs": [
    {
     "data": {
      "text/plain": [
       "(1, 'abcd', 2)"
      ]
     },
     "execution_count": 68,
     "metadata": {},
     "output_type": "execute_result"
    }
   ],
   "source": [
    "t"
   ]
  },
  {
   "cell_type": "code",
   "execution_count": 69,
   "metadata": {},
   "outputs": [],
   "source": [
    "a=list(t)"
   ]
  },
  {
   "cell_type": "code",
   "execution_count": 70,
   "metadata": {},
   "outputs": [
    {
     "data": {
      "text/plain": [
       "[1, 'abcd', 2]"
      ]
     },
     "execution_count": 70,
     "metadata": {},
     "output_type": "execute_result"
    }
   ],
   "source": [
    "a"
   ]
  },
  {
   "cell_type": "code",
   "execution_count": 72,
   "metadata": {},
   "outputs": [],
   "source": [
    "a[1]='demo'"
   ]
  },
  {
   "cell_type": "code",
   "execution_count": 73,
   "metadata": {},
   "outputs": [
    {
     "data": {
      "text/plain": [
       "[1, 'demo', 2]"
      ]
     },
     "execution_count": 73,
     "metadata": {},
     "output_type": "execute_result"
    }
   ],
   "source": [
    "a"
   ]
  },
  {
   "cell_type": "code",
   "execution_count": 74,
   "metadata": {},
   "outputs": [
    {
     "data": {
      "text/plain": [
       "(1, 'demo', 2)"
      ]
     },
     "execution_count": 74,
     "metadata": {},
     "output_type": "execute_result"
    }
   ],
   "source": [
    "tuple(a)"
   ]
  },
  {
   "cell_type": "code",
   "execution_count": 76,
   "metadata": {},
   "outputs": [
    {
     "data": {
      "text/plain": [
       "1"
      ]
     },
     "execution_count": 76,
     "metadata": {},
     "output_type": "execute_result"
    }
   ],
   "source": [
    "t.count(2)"
   ]
  },
  {
   "cell_type": "code",
   "execution_count": 77,
   "metadata": {},
   "outputs": [],
   "source": [
    "a={1,2,2,2,2,2,23,3,3,3,3,3,3,5,5,5,5,}"
   ]
  },
  {
   "cell_type": "code",
   "execution_count": 78,
   "metadata": {},
   "outputs": [
    {
     "data": {
      "text/plain": [
       "{1, 2, 3, 5, 23}"
      ]
     },
     "execution_count": 78,
     "metadata": {},
     "output_type": "execute_result"
    }
   ],
   "source": [
    "a"
   ]
  },
  {
   "cell_type": "code",
   "execution_count": 80,
   "metadata": {},
   "outputs": [],
   "source": [
    "a=[1,2,2,2,2,2,2,2,22,2,2]"
   ]
  },
  {
   "cell_type": "code",
   "execution_count": 81,
   "metadata": {},
   "outputs": [
    {
     "data": {
      "text/plain": [
       "{1, 2, 22}"
      ]
     },
     "execution_count": 81,
     "metadata": {},
     "output_type": "execute_result"
    }
   ],
   "source": [
    "set(a)"
   ]
  },
  {
   "cell_type": "code",
   "execution_count": 83,
   "metadata": {},
   "outputs": [],
   "source": [
    "a={'a':1,'b':2,'c':[1,2,3]}"
   ]
  },
  {
   "cell_type": "code",
   "execution_count": 84,
   "metadata": {},
   "outputs": [
    {
     "data": {
      "text/plain": [
       "{'a': 1, 'b': 2, 'c': [1, 2, 3]}"
      ]
     },
     "execution_count": 84,
     "metadata": {},
     "output_type": "execute_result"
    }
   ],
   "source": [
    "a"
   ]
  },
  {
   "cell_type": "code",
   "execution_count": 85,
   "metadata": {},
   "outputs": [
    {
     "data": {
      "text/plain": [
       "dict"
      ]
     },
     "execution_count": 85,
     "metadata": {},
     "output_type": "execute_result"
    }
   ],
   "source": [
    "type(a)"
   ]
  },
  {
   "cell_type": "code",
   "execution_count": 86,
   "metadata": {},
   "outputs": [
    {
     "data": {
      "text/plain": [
       "dict_keys(['a', 'b', 'c'])"
      ]
     },
     "execution_count": 86,
     "metadata": {},
     "output_type": "execute_result"
    }
   ],
   "source": [
    "a.keys()"
   ]
  },
  {
   "cell_type": "code",
   "execution_count": 87,
   "metadata": {},
   "outputs": [
    {
     "data": {
      "text/plain": [
       "dict_values([1, 2, [1, 2, 3]])"
      ]
     },
     "execution_count": 87,
     "metadata": {},
     "output_type": "execute_result"
    }
   ],
   "source": [
    "a.values()"
   ]
  },
  {
   "cell_type": "code",
   "execution_count": 88,
   "metadata": {},
   "outputs": [
    {
     "data": {
      "text/plain": [
       "dict_items([('a', 1), ('b', 2), ('c', [1, 2, 3])])"
      ]
     },
     "execution_count": 88,
     "metadata": {},
     "output_type": "execute_result"
    }
   ],
   "source": [
    "a.items()"
   ]
  },
  {
   "cell_type": "code",
   "execution_count": 90,
   "metadata": {},
   "outputs": [],
   "source": [
    "ab=list(a.items())"
   ]
  },
  {
   "cell_type": "code",
   "execution_count": 91,
   "metadata": {},
   "outputs": [
    {
     "data": {
      "text/plain": [
       "[('a', 1), ('b', 2), ('c', [1, 2, 3])]"
      ]
     },
     "execution_count": 91,
     "metadata": {},
     "output_type": "execute_result"
    }
   ],
   "source": [
    "ab"
   ]
  },
  {
   "cell_type": "code",
   "execution_count": 92,
   "metadata": {},
   "outputs": [
    {
     "data": {
      "text/plain": [
       "('b', 2)"
      ]
     },
     "execution_count": 92,
     "metadata": {},
     "output_type": "execute_result"
    }
   ],
   "source": [
    "ab[1]"
   ]
  },
  {
   "cell_type": "code",
   "execution_count": 93,
   "metadata": {},
   "outputs": [
    {
     "data": {
      "text/plain": [
       "'b'"
      ]
     },
     "execution_count": 93,
     "metadata": {},
     "output_type": "execute_result"
    }
   ],
   "source": [
    "ab[1][0]"
   ]
  },
  {
   "cell_type": "code",
   "execution_count": 98,
   "metadata": {},
   "outputs": [
    {
     "data": {
      "text/plain": [
       "[1, 2, 3]"
      ]
     },
     "execution_count": 98,
     "metadata": {},
     "output_type": "execute_result"
    }
   ],
   "source": [
    "a.get('c')"
   ]
  },
  {
   "cell_type": "code",
   "execution_count": 100,
   "metadata": {},
   "outputs": [
    {
     "data": {
      "text/plain": [
       "[1, 2, 3]"
      ]
     },
     "execution_count": 100,
     "metadata": {},
     "output_type": "execute_result"
    }
   ],
   "source": [
    "a.pop('c')"
   ]
  },
  {
   "cell_type": "code",
   "execution_count": 101,
   "metadata": {},
   "outputs": [
    {
     "data": {
      "text/plain": [
       "{'a': 1, 'b': 2}"
      ]
     },
     "execution_count": 101,
     "metadata": {},
     "output_type": "execute_result"
    }
   ],
   "source": [
    "a"
   ]
  },
  {
   "cell_type": "code",
   "execution_count": 102,
   "metadata": {},
   "outputs": [
    {
     "data": {
      "text/plain": [
       "40"
      ]
     },
     "execution_count": 102,
     "metadata": {},
     "output_type": "execute_result"
    }
   ],
   "source": [
    "a=10\n",
    "a<<2"
   ]
  },
  {
   "cell_type": "code",
   "execution_count": 104,
   "metadata": {},
   "outputs": [
    {
     "name": "stdout",
     "output_type": "stream",
     "text": [
      "1010\n"
     ]
    }
   ],
   "source": [
    "print(\"{0:b}\".format(10))"
   ]
  },
  {
   "cell_type": "code",
   "execution_count": 106,
   "metadata": {},
   "outputs": [
    {
     "data": {
      "text/plain": [
       "2"
      ]
     },
     "execution_count": 106,
     "metadata": {},
     "output_type": "execute_result"
    }
   ],
   "source": [
    "a>>2"
   ]
  },
  {
   "cell_type": "code",
   "execution_count": null,
   "metadata": {},
   "outputs": [],
   "source": []
  },
  {
   "cell_type": "markdown",
   "metadata": {},
   "source": [
    "# https://realpython.com/python-exceptions/"
   ]
  },
  {
   "cell_type": "code",
   "execution_count": null,
   "metadata": {},
   "outputs": [],
   "source": []
  },
  {
   "cell_type": "raw",
   "metadata": {},
   "source": [
    "UNIT V\n",
    "Errors and Exceptions: Syntax Errors, Exceptions, Handling Exceptions, Raising Exceptions, User-defined Exceptions,\n",
    "Defining Clean-up Actions, Redefined Clean-up Actions\n",
    "Graphical User Interfaces: The Behavior of Terminal Based Programs and GUI – Based, Programs , Coding Simple\n",
    "GUI-Based Programs, Other Useful GUI Resources\n",
    "Programming: Introduction to Programming Concepts with Scratch"
   ]
  },
  {
   "cell_type": "code",
   "execution_count": 108,
   "metadata": {},
   "outputs": [
    {
     "ename": "ZeroDivisionError",
     "evalue": "division by zero",
     "output_type": "error",
     "traceback": [
      "\u001b[1;31m---------------------------------------------------------------------------\u001b[0m",
      "\u001b[1;31mZeroDivisionError\u001b[0m                         Traceback (most recent call last)",
      "\u001b[1;32m<ipython-input-108-8b52c208ccc6>\u001b[0m in \u001b[0;36m<module>\u001b[1;34m\u001b[0m\n\u001b[0;32m      1\u001b[0m \u001b[0ma\u001b[0m \u001b[1;33m=\u001b[0m \u001b[1;36m3\u001b[0m\u001b[1;33m\u001b[0m\u001b[1;33m\u001b[0m\u001b[0m\n\u001b[0;32m      2\u001b[0m \u001b[0mb\u001b[0m \u001b[1;33m=\u001b[0m \u001b[1;36m0\u001b[0m\u001b[1;33m\u001b[0m\u001b[1;33m\u001b[0m\u001b[0m\n\u001b[1;32m----> 3\u001b[1;33m \u001b[0mc\u001b[0m \u001b[1;33m=\u001b[0m \u001b[0ma\u001b[0m\u001b[1;33m/\u001b[0m\u001b[0mb\u001b[0m\u001b[1;33m\u001b[0m\u001b[1;33m\u001b[0m\u001b[0m\n\u001b[0m\u001b[0;32m      4\u001b[0m \u001b[0mprint\u001b[0m\u001b[1;33m(\u001b[0m\u001b[1;34m'Hi there'\u001b[0m\u001b[1;33m)\u001b[0m\u001b[1;33m\u001b[0m\u001b[1;33m\u001b[0m\u001b[0m\n",
      "\u001b[1;31mZeroDivisionError\u001b[0m: division by zero"
     ]
    }
   ],
   "source": [
    "a = 3\n",
    "b = 0\n",
    "c = a/b\n",
    "print('Hi there')"
   ]
  },
  {
   "cell_type": "code",
   "execution_count": 109,
   "metadata": {},
   "outputs": [
    {
     "name": "stdout",
     "output_type": "stream",
     "text": [
      "Calculation error\n",
      "Hi there\n"
     ]
    }
   ],
   "source": [
    "a = 3\n",
    "b = 0\n",
    "try:\n",
    "    c=a/b\n",
    "except ZeroDivisionError:\n",
    "    print('Calculation error')\n",
    "print('Hi there')"
   ]
  },
  {
   "cell_type": "code",
   "execution_count": 112,
   "metadata": {},
   "outputs": [
    {
     "name": "stdout",
     "output_type": "stream",
     "text": [
      "Enter a number: 0\n",
      "Can't enter 0.\n"
     ]
    }
   ],
   "source": [
    "try:\n",
    "    a = eval(input('Enter a number: '))\n",
    "    print (3/a)\n",
    "except NameError:\n",
    "    print('Please enter a number.')\n",
    "except ZeroDivisionError:\n",
    "    print(\"Can't enter 0.\")"
   ]
  },
  {
   "cell_type": "code",
   "execution_count": 113,
   "metadata": {},
   "outputs": [
    {
     "name": "stdout",
     "output_type": "stream",
     "text": [
      "Enter a number: 0\n",
      "A problem occurred.\n"
     ]
    }
   ],
   "source": [
    "try:\n",
    "    a = eval(input('Enter a number: '))\n",
    "    print (3/a)\n",
    "except:\n",
    "    print('A problem occurred.')"
   ]
  },
  {
   "cell_type": "code",
   "execution_count": 114,
   "metadata": {},
   "outputs": [
    {
     "name": "stdout",
     "output_type": "stream",
     "text": [
      "division by zero\n"
     ]
    }
   ],
   "source": [
    "try:\n",
    "    c = a/0\n",
    "except Exception as e:\n",
    "    print(e)"
   ]
  },
  {
   "cell_type": "code",
   "execution_count": 115,
   "metadata": {},
   "outputs": [
    {
     "name": "stdout",
     "output_type": "stream",
     "text": [
      "Could not open file\n"
     ]
    }
   ],
   "source": [
    "try:\n",
    "    file = open('filename.txt', 'r')\n",
    "except IOError:\n",
    "    print('Could not open file')\n",
    "else:\n",
    "    s = file.read()\n",
    "    print(s)"
   ]
  },
  {
   "cell_type": "code",
   "execution_count": null,
   "metadata": {},
   "outputs": [],
   "source": [
    "while True:\n",
    "    try:\n",
    "        a= int(input('Enter first number::'))\n",
    "        b= int(input('Enter second number::'))\n",
    "        res=a/b\n",
    "        print(res)\n",
    "        #break\n",
    "    \n",
    "    except:\n",
    "        print('Invalid Input..')\n",
    "        print('Please input numbers')\n",
    "        continue\n",
    "    else :\n",
    "        print(\"this will execute once this will be done \")\n",
    "        break"
   ]
  },
  {
   "cell_type": "code",
   "execution_count": 124,
   "metadata": {},
   "outputs": [],
   "source": [
    "def askint():\n",
    "        try:\n",
    "            val = int(input(\"Please enter an integer: \"))\n",
    "        except:\n",
    "            print(\"Looks like you did not enter an integer!\")\n",
    "            \n",
    "        finally:\n",
    "            print(\"Finally, I executed!\")\n",
    "        print(val)       "
   ]
  },
  {
   "cell_type": "code",
   "execution_count": 125,
   "metadata": {},
   "outputs": [
    {
     "name": "stdout",
     "output_type": "stream",
     "text": [
      "Please enter an integer: 1\n",
      "Finally, I executed!\n",
      "1\n"
     ]
    }
   ],
   "source": [
    "askint()"
   ]
  },
  {
   "cell_type": "code",
   "execution_count": 129,
   "metadata": {},
   "outputs": [],
   "source": [
    "def askint():\n",
    "        try:\n",
    "            val = int(input(\"Please enter an integer: \"))\n",
    "        except:\n",
    "            print(\"Looks like you did not enter an integer!\")\n",
    "            try:\n",
    "                val = int(input(\"Try again-Please enter an integer: \"))\n",
    "            except:\n",
    "                print(\"handle it \")\n",
    "        finally:\n",
    "            print(\"Finally, I executed!\")"
   ]
  },
  {
   "cell_type": "code",
   "execution_count": 130,
   "metadata": {},
   "outputs": [
    {
     "name": "stdout",
     "output_type": "stream",
     "text": [
      "Please enter an integer: #\n",
      "Looks like you did not enter an integer!\n",
      "Try again-Please enter an integer: #\n",
      "handle it \n",
      "Finally, I executed!\n"
     ]
    }
   ],
   "source": [
    "askint()"
   ]
  },
  {
   "cell_type": "code",
   "execution_count": 131,
   "metadata": {},
   "outputs": [],
   "source": [
    "def askint():\n",
    "    while True:\n",
    "        try:\n",
    "            val = int(input(\"Please enter an integer: \"))\n",
    "        except:\n",
    "            print(\"Looks like you did not enter an integer!\")\n",
    "            break\n",
    "        else:\n",
    "            print('Yep thats an integer!')\n",
    "            break\n",
    "        finally:\n",
    "            print(\"Finally, I executed!\")\n",
    "            print(val) "
   ]
  },
  {
   "cell_type": "code",
   "execution_count": 133,
   "metadata": {},
   "outputs": [
    {
     "name": "stdout",
     "output_type": "stream",
     "text": [
      "Please enter an integer: 2\n",
      "Yep thats an integer!\n",
      "Finally, I executed!\n",
      "2\n"
     ]
    }
   ],
   "source": [
    "askint()"
   ]
  },
  {
   "cell_type": "code",
   "execution_count": 134,
   "metadata": {},
   "outputs": [
    {
     "ename": "IndentationError",
     "evalue": "expected an indented block (<ipython-input-134-c6f2567a27a8>, line 5)",
     "output_type": "error",
     "traceback": [
      "\u001b[1;36m  File \u001b[1;32m\"<ipython-input-134-c6f2567a27a8>\"\u001b[1;36m, line \u001b[1;32m5\u001b[0m\n\u001b[1;33m    finally:\u001b[0m\n\u001b[1;37m          ^\u001b[0m\n\u001b[1;31mIndentationError\u001b[0m\u001b[1;31m:\u001b[0m expected an indented block\n"
     ]
    }
   ],
   "source": [
    "f = open('filename.txt', 'w')\n",
    "s = 'hi'\n",
    "try:\n",
    "    # some code that could potentially fail goes here\n",
    "finally:\n",
    "    f.close()"
   ]
  },
  {
   "cell_type": "code",
   "execution_count": 1,
   "metadata": {},
   "outputs": [
    {
     "ename": "Exception",
     "evalue": "x should not exceed 5. The value of x was: 10",
     "output_type": "error",
     "traceback": [
      "\u001b[1;31m---------------------------------------------------------------------------\u001b[0m",
      "\u001b[1;31mException\u001b[0m                                 Traceback (most recent call last)",
      "\u001b[1;32m<ipython-input-1-3dcc1a597936>\u001b[0m in \u001b[0;36m<module>\u001b[1;34m\u001b[0m\n\u001b[0;32m      1\u001b[0m \u001b[0mx\u001b[0m \u001b[1;33m=\u001b[0m \u001b[1;36m10\u001b[0m\u001b[1;33m\u001b[0m\u001b[1;33m\u001b[0m\u001b[0m\n\u001b[0;32m      2\u001b[0m \u001b[1;32mif\u001b[0m \u001b[0mx\u001b[0m \u001b[1;33m>\u001b[0m \u001b[1;36m5\u001b[0m\u001b[1;33m:\u001b[0m\u001b[1;33m\u001b[0m\u001b[1;33m\u001b[0m\u001b[0m\n\u001b[1;32m----> 3\u001b[1;33m     \u001b[1;32mraise\u001b[0m \u001b[0mException\u001b[0m\u001b[1;33m(\u001b[0m\u001b[1;34m'x should not exceed 5. The value of x was: {}'\u001b[0m\u001b[1;33m.\u001b[0m\u001b[0mformat\u001b[0m\u001b[1;33m(\u001b[0m\u001b[0mx\u001b[0m\u001b[1;33m)\u001b[0m\u001b[1;33m)\u001b[0m\u001b[1;33m\u001b[0m\u001b[1;33m\u001b[0m\u001b[0m\n\u001b[0m",
      "\u001b[1;31mException\u001b[0m: x should not exceed 5. The value of x was: 10"
     ]
    }
   ],
   "source": [
    "x = 10\n",
    "if x > 5:\n",
    "    raise Exception('x should not exceed 5. The value of x was: {}'.format(x))"
   ]
  },
  {
   "cell_type": "code",
   "execution_count": 2,
   "metadata": {},
   "outputs": [
    {
     "ename": "AssertionError",
     "evalue": "This code runs on Linux only.",
     "output_type": "error",
     "traceback": [
      "\u001b[1;31m---------------------------------------------------------------------------\u001b[0m",
      "\u001b[1;31mAssertionError\u001b[0m                            Traceback (most recent call last)",
      "\u001b[1;32m<ipython-input-2-e31e8d82fd13>\u001b[0m in \u001b[0;36m<module>\u001b[1;34m\u001b[0m\n\u001b[0;32m      1\u001b[0m \u001b[1;32mimport\u001b[0m \u001b[0msys\u001b[0m\u001b[1;33m\u001b[0m\u001b[1;33m\u001b[0m\u001b[0m\n\u001b[1;32m----> 2\u001b[1;33m \u001b[1;32massert\u001b[0m \u001b[1;33m(\u001b[0m\u001b[1;34m'linux'\u001b[0m \u001b[1;32min\u001b[0m \u001b[0msys\u001b[0m\u001b[1;33m.\u001b[0m\u001b[0mplatform\u001b[0m\u001b[1;33m)\u001b[0m\u001b[1;33m,\u001b[0m \u001b[1;34m\"This code runs on Linux only.\"\u001b[0m\u001b[1;33m\u001b[0m\u001b[1;33m\u001b[0m\u001b[0m\n\u001b[0m",
      "\u001b[1;31mAssertionError\u001b[0m: This code runs on Linux only."
     ]
    }
   ],
   "source": [
    "import sys\n",
    "assert ('linux' in sys.platform), \"This code runs on Linux only.\""
   ]
  },
  {
   "cell_type": "code",
   "execution_count": 3,
   "metadata": {},
   "outputs": [],
   "source": [
    "def linux_interaction():\n",
    "    assert ('linux' in sys.platform), \"Function can only run on Linux systems.\"\n",
    "    print('Doing something.')"
   ]
  },
  {
   "cell_type": "code",
   "execution_count": 4,
   "metadata": {},
   "outputs": [],
   "source": [
    "try:\n",
    "    linux_interaction()\n",
    "except:\n",
    "    pass"
   ]
  },
  {
   "cell_type": "code",
   "execution_count": 5,
   "metadata": {},
   "outputs": [
    {
     "name": "stdout",
     "output_type": "stream",
     "text": [
      "Linux function was not executed\n"
     ]
    }
   ],
   "source": [
    "try:\n",
    "    linux_interaction()\n",
    "except:\n",
    "    print('Linux function was not executed')"
   ]
  },
  {
   "cell_type": "code",
   "execution_count": 6,
   "metadata": {},
   "outputs": [
    {
     "name": "stdout",
     "output_type": "stream",
     "text": [
      "Function can only run on Linux systems.\n",
      "The linux_interaction() function was not executed\n"
     ]
    }
   ],
   "source": [
    "try:\n",
    "    linux_interaction()\n",
    "except AssertionError as error:\n",
    "    print(error)\n",
    "    print('The linux_interaction() function was not executed')"
   ]
  },
  {
   "cell_type": "code",
   "execution_count": 7,
   "metadata": {},
   "outputs": [
    {
     "name": "stdout",
     "output_type": "stream",
     "text": [
      "Could not open file.log\n"
     ]
    }
   ],
   "source": [
    "try:\n",
    "    with open('file.log') as file:\n",
    "        read_data = file.read()\n",
    "except:\n",
    "    print('Could not open file.log')"
   ]
  },
  {
   "cell_type": "code",
   "execution_count": 8,
   "metadata": {},
   "outputs": [
    {
     "name": "stdout",
     "output_type": "stream",
     "text": [
      "[Errno 2] No such file or directory: 'file.log'\n"
     ]
    }
   ],
   "source": [
    "try:\n",
    "    with open('file.log') as file:\n",
    "        read_data = file.read()\n",
    "except FileNotFoundError as fnf_error:\n",
    "    print(fnf_error)"
   ]
  },
  {
   "cell_type": "code",
   "execution_count": 9,
   "metadata": {},
   "outputs": [
    {
     "name": "stdout",
     "output_type": "stream",
     "text": [
      "Function can only run on Linux systems.\n",
      "Linux linux_interaction() function was not executed\n"
     ]
    }
   ],
   "source": [
    "try:\n",
    "    linux_interaction()\n",
    "    with open('file.log') as file:\n",
    "        read_data = file.read()\n",
    "except FileNotFoundError as fnf_error:\n",
    "    print(fnf_error)\n",
    "except AssertionError as error:\n",
    "    print(error)\n",
    "    print('Linux linux_interaction() function was not executed')"
   ]
  },
  {
   "cell_type": "code",
   "execution_count": 10,
   "metadata": {},
   "outputs": [
    {
     "name": "stdout",
     "output_type": "stream",
     "text": [
      "Function can only run on Linux systems.\n"
     ]
    }
   ],
   "source": [
    "try:\n",
    "    linux_interaction()\n",
    "except AssertionError as error:\n",
    "    print(error)\n",
    "else:\n",
    "    print('Executing the else clause.')"
   ]
  },
  {
   "cell_type": "code",
   "execution_count": 11,
   "metadata": {},
   "outputs": [
    {
     "name": "stdout",
     "output_type": "stream",
     "text": [
      "Function can only run on Linux systems.\n"
     ]
    }
   ],
   "source": [
    "try:\n",
    "    linux_interaction()\n",
    "except AssertionError as error:\n",
    "    print(error)\n",
    "else:\n",
    "    try:\n",
    "        with open('file.log') as file:\n",
    "            read_data = file.read()\n",
    "    except FileNotFoundError as fnf_error:\n",
    "        print(fnf_error)\n"
   ]
  },
  {
   "cell_type": "code",
   "execution_count": 18,
   "metadata": {},
   "outputs": [
    {
     "name": "stdout",
     "output_type": "stream",
     "text": [
      "[Errno 2] No such file or directory: 'file.log'\n"
     ]
    }
   ],
   "source": [
    "try:\n",
    "    with open('file.log') as file:\n",
    "        read_data = file.read()\n",
    "except FileNotFoundError as fnf_error:\n",
    "        print(fnf_error)\n"
   ]
  },
  {
   "cell_type": "code",
   "execution_count": 19,
   "metadata": {},
   "outputs": [
    {
     "name": "stdout",
     "output_type": "stream",
     "text": [
      "Function can only run on Linux systems.\n",
      "Cleaning up, irrespective of any exceptions.\n"
     ]
    }
   ],
   "source": [
    "try:\n",
    "\n",
    "    linux_interaction()\n",
    "except AssertionError as error:\n",
    "    print(error)\n",
    "else:\n",
    "    try:\n",
    "        with open('newfile.log') as file:\n",
    "            read_data = file.read()\n",
    "    except FileNotFoundError as fnf_error:\n",
    "        print(fnf_error)\n",
    "finally:\n",
    "    print('Cleaning up, irrespective of any exceptions.')"
   ]
  },
  {
   "cell_type": "markdown",
   "metadata": {},
   "source": [
    "# User-defined Exceptions in Python with Examples\n"
   ]
  },
  {
   "cell_type": "code",
   "execution_count": 20,
   "metadata": {},
   "outputs": [
    {
     "name": "stdout",
     "output_type": "stream",
     "text": [
      "A New Exception occured:  6\n"
     ]
    }
   ],
   "source": [
    "# A python program to create user-defined exception \n",
    "\n",
    "# class MyError is derived from super class Exception \n",
    "class MyError(Exception): \n",
    "\n",
    "\t# Constructor or Initializer \n",
    "\tdef __init__(self, value): \n",
    "\t\tself.value = value \n",
    "\n",
    "\t# __str__ is to print() the value \n",
    "\tdef __str__(self): \n",
    "\t\treturn(repr(self.value)) \n",
    "\n",
    "try: \n",
    "\traise(MyError(3*2)) \n",
    "\n",
    "# Value of Exception is stored in error \n",
    "except MyError as error: \n",
    "\tprint('A New Exception occured: ',error.value) \n"
   ]
  },
  {
   "cell_type": "code",
   "execution_count": 21,
   "metadata": {},
   "outputs": [
    {
     "name": "stdout",
     "output_type": "stream",
     "text": [
      "Exception occured:  Not Allowed\n"
     ]
    }
   ],
   "source": [
    "# class Error is derived from super class Exception \n",
    "class Error(Exception): \n",
    "\n",
    "\t# Error is derived class for Exception, but \n",
    "\t# Base class for exceptions in this module \n",
    "\tpass\n",
    "\n",
    "class TransitionError(Error): \n",
    "\n",
    "\t# Raised when an operation attempts a state \n",
    "\t# transition that's not allowed. \n",
    "\tdef __init__(self, prev, nex, msg): \n",
    "\t\tself.prev = prev \n",
    "\t\tself.next = nex \n",
    "\n",
    "\t\t# Error message thrown is saved in msg \n",
    "\t\tself.msg = msg \n",
    "try: \n",
    "\traise(TransitionError(2,3*2,\"Not Allowed\")) \n",
    "\n",
    "# Value of Exception is stored in error \n",
    "except TransitionError as error: \n",
    "\tprint('Exception occured: ',error.msg) \n"
   ]
  },
  {
   "cell_type": "code",
   "execution_count": 22,
   "metadata": {},
   "outputs": [
    {
     "name": "stdout",
     "output_type": "stream",
     "text": [
      "('E', 'r', 'r', 'o', 'r')\n"
     ]
    }
   ],
   "source": [
    "# NetworkError has base RuntimeError \n",
    "# and not Exception \n",
    "class Networkerror(RuntimeError): \n",
    "\tdef __init__(self, arg): \n",
    "\t\tself.args = arg \n",
    "\n",
    "try: \n",
    "\traise Networkerror(\"Error\") \n",
    "\n",
    "except Networkerror as e: \n",
    "\tprint (e.args) \n"
   ]
  },
  {
   "cell_type": "code",
   "execution_count": 25,
   "metadata": {},
   "outputs": [
    {
     "name": "stdout",
     "output_type": "stream",
     "text": [
      "Enter a number: 1\n",
      "This value is too small, try again!\n",
      "\n",
      "Enter a number: 10\n",
      "Congratulations! You guessed it correctly.\n"
     ]
    }
   ],
   "source": [
    "# define Python user-defined exceptions\n",
    "class Error(Exception):\n",
    "    \"\"\"Base class for other exceptions\"\"\"\n",
    "    pass\n",
    "\n",
    "\n",
    "class ValueTooSmallError(Error):\n",
    "    \"\"\"Raised when the input value is too small\"\"\"\n",
    "    pass\n",
    "\n",
    "\n",
    "class ValueTooLargeError(Error):\n",
    "    \"\"\"Raised when the input value is too large\"\"\"\n",
    "    pass\n",
    "\n",
    "\n",
    "# you need to guess this number\n",
    "number = 10\n",
    "\n",
    "# user guesses a number until he/she gets it right\n",
    "while True:\n",
    "    try:\n",
    "        i_num = int(input(\"Enter a number: \"))\n",
    "        if i_num < number:\n",
    "            raise ValueTooSmallError\n",
    "        elif i_num > number:\n",
    "            raise ValueTooLargeError\n",
    "        break\n",
    "    except ValueTooSmallError:\n",
    "        print(\"This value is too small, try again!\")\n",
    "        print()\n",
    "    except ValueTooLargeError:\n",
    "        print(\"This value is too large, try again!\")\n",
    "        print()\n",
    "\n",
    "print(\"Congratulations! You guessed it correctly.\")"
   ]
  },
  {
   "cell_type": "markdown",
   "metadata": {},
   "source": [
    "# Defining/redefine Clean-up Actions,"
   ]
  },
  {
   "cell_type": "code",
   "execution_count": 26,
   "metadata": {},
   "outputs": [
    {
     "name": "stdout",
     "output_type": "stream",
     "text": [
      "Learning Python!\n"
     ]
    },
    {
     "ename": "SyntaxError",
     "evalue": "None (<string>)",
     "output_type": "error",
     "traceback": [
      "Traceback \u001b[1;36m(most recent call last)\u001b[0m:\n",
      "  File \u001b[0;32m\"C:\\Users\\KIRAN\\Anaconda3\\lib\\site-packages\\IPython\\core\\interactiveshell.py\"\u001b[0m, line \u001b[0;32m3326\u001b[0m, in \u001b[0;35mrun_code\u001b[0m\n    exec(code_obj, self.user_global_ns, self.user_ns)\n",
      "\u001b[1;36m  File \u001b[1;32m\"<ipython-input-26-04a01896b70f>\"\u001b[1;36m, line \u001b[1;32m2\u001b[1;36m, in \u001b[1;35m<module>\u001b[1;36m\u001b[0m\n\u001b[1;33m    raise SyntaxError\u001b[0m\n",
      "\u001b[1;36m  File \u001b[1;32m\"<string>\"\u001b[1;36m, line \u001b[1;32munknown\u001b[0m\n\u001b[1;31mSyntaxError\u001b[0m\n"
     ]
    }
   ],
   "source": [
    "try:\n",
    "   raise SyntaxError\n",
    "finally:\n",
    "   print(\"Learning Python!\")"
   ]
  },
  {
   "cell_type": "code",
   "execution_count": 27,
   "metadata": {},
   "outputs": [
    {
     "name": "stdout",
     "output_type": "stream",
     "text": [
      "Writing to file.\n",
      "Write successful.\n",
      "File closed.\n"
     ]
    }
   ],
   "source": [
    "file = open('finally.txt', 'w')\n",
    "try:\n",
    "   file.write(\"Testing1 2 3.\")\n",
    "   print(\"Writing to file.\")\n",
    "except IOError:\n",
    "   print(\"Could not write to file.\")\n",
    "else:\n",
    "   print(\"Write successful.\")\n",
    "finally:\n",
    "   file.close()\n",
    "   print(\"File closed.\")"
   ]
  },
  {
   "cell_type": "code",
   "execution_count": 28,
   "metadata": {},
   "outputs": [
    {
     "name": "stdout",
     "output_type": "stream",
     "text": [
      "Could not write to file.\n",
      "File closed.\n"
     ]
    }
   ],
   "source": [
    "file = open('finally.txt', 'r')\n",
    "try:\n",
    "   file.write(\"Testing1 2 3.\")\n",
    "   print(\"Writing to file.\")\n",
    "except IOError:\n",
    "   print(\"Could not write to file.\")\n",
    "else:\n",
    "   print(\"Write successful.\")\n",
    "finally:\n",
    "   file.close()\n",
    "   print(\"File closed.\")"
   ]
  },
  {
   "cell_type": "code",
   "execution_count": 29,
   "metadata": {},
   "outputs": [
    {
     "name": "stdout",
     "output_type": "stream",
     "text": [
      "File closed.\n"
     ]
    },
    {
     "ename": "TypeError",
     "evalue": "write() argument must be str, not int",
     "output_type": "error",
     "traceback": [
      "\u001b[1;31m---------------------------------------------------------------------------\u001b[0m",
      "\u001b[1;31mTypeError\u001b[0m                                 Traceback (most recent call last)",
      "\u001b[1;32m<ipython-input-29-79183aec2410>\u001b[0m in \u001b[0;36m<module>\u001b[1;34m\u001b[0m\n\u001b[0;32m      1\u001b[0m \u001b[0mfile\u001b[0m \u001b[1;33m=\u001b[0m \u001b[0mopen\u001b[0m\u001b[1;33m(\u001b[0m\u001b[1;34m'finally.txt'\u001b[0m\u001b[1;33m,\u001b[0m \u001b[1;34m'r'\u001b[0m\u001b[1;33m)\u001b[0m\u001b[1;33m\u001b[0m\u001b[1;33m\u001b[0m\u001b[0m\n\u001b[0;32m      2\u001b[0m \u001b[1;32mtry\u001b[0m\u001b[1;33m:\u001b[0m\u001b[1;33m\u001b[0m\u001b[1;33m\u001b[0m\u001b[0m\n\u001b[1;32m----> 3\u001b[1;33m    \u001b[0mfile\u001b[0m\u001b[1;33m.\u001b[0m\u001b[0mwrite\u001b[0m\u001b[1;33m(\u001b[0m\u001b[1;36m4\u001b[0m\u001b[1;33m)\u001b[0m\u001b[1;33m\u001b[0m\u001b[1;33m\u001b[0m\u001b[0m\n\u001b[0m\u001b[0;32m      4\u001b[0m    \u001b[0mprint\u001b[0m\u001b[1;33m(\u001b[0m\u001b[1;34m\"Writing to file.\"\u001b[0m\u001b[1;33m)\u001b[0m\u001b[1;33m\u001b[0m\u001b[1;33m\u001b[0m\u001b[0m\n\u001b[0;32m      5\u001b[0m \u001b[1;32mexcept\u001b[0m \u001b[0mIOError\u001b[0m\u001b[1;33m:\u001b[0m\u001b[1;33m\u001b[0m\u001b[1;33m\u001b[0m\u001b[0m\n",
      "\u001b[1;31mTypeError\u001b[0m: write() argument must be str, not int"
     ]
    }
   ],
   "source": [
    "file = open('finally.txt', 'r')\n",
    "try:\n",
    "   file.write(4)\n",
    "   print(\"Writing to file.\")\n",
    "except IOError:\n",
    "   print(\"Could not write to file.\")\n",
    "else:\n",
    "   print(\"Write successful.\")\n",
    "finally:\n",
    "   file.close()\n",
    "   print(\"File closed.\")"
   ]
  },
  {
   "cell_type": "code",
   "execution_count": 33,
   "metadata": {},
   "outputs": [
    {
     "name": "stdout",
     "output_type": "stream",
     "text": [
      "Yeah ! Your answer is : 1.5\n",
      "I'm finally clause, always raised !! \n"
     ]
    }
   ],
   "source": [
    "# Python code to illustrate \n",
    "# clean up actions \n",
    "def divide(x, y): \n",
    "\ttry: \n",
    "\t\t# Floor Division : Gives only Fractional Part as Answer \n",
    "\t\tresult = x / y \n",
    "\texcept ZeroDivisionError: \n",
    "\t\tprint(\"Sorry ! You are dividing by zero \") \n",
    "\telse: \n",
    "\t\tprint(\"Yeah ! Your answer is :\", result) \n",
    "\tfinally: \n",
    "\t\tprint(\"I'm finally clause, always raised !! \") \n",
    "\n",
    "# Look at parameters and note the working of Program \n",
    "divide(3, 2) \n"
   ]
  },
  {
   "cell_type": "code",
   "execution_count": 36,
   "metadata": {},
   "outputs": [
    {
     "name": "stdout",
     "output_type": "stream",
     "text": [
      "Sorry ! You are dividing by zero \n",
      "I'm finally clause, always raised !! \n"
     ]
    }
   ],
   "source": [
    "# Python code to illustrate \n",
    "# clean up actions \n",
    "def divide(x, y): \n",
    "\ttry: \n",
    "\t\t# Floor Division : Gives only Fractional Part as Answer \n",
    "\t\tresult = x / y \n",
    "\texcept ZeroDivisionError: \n",
    "\t\tprint(\"Sorry ! You are dividing by zero \") \n",
    "\telse: \n",
    "\t\tprint(\"Yeah ! Your answer is :\", result) \n",
    "\tfinally: \n",
    "\t\tprint(\"I'm finally clause, always raised !! \") \n",
    "\n",
    "# Look at parameters and note the working of Program \n",
    "divide(3, 0) \n"
   ]
  },
  {
   "cell_type": "code",
   "execution_count": 37,
   "metadata": {},
   "outputs": [
    {
     "name": "stdout",
     "output_type": "stream",
     "text": [
      "I'm finally clause, always raised !! \n"
     ]
    },
    {
     "ename": "TypeError",
     "evalue": "unsupported operand type(s) for /: 'int' and 'str'",
     "output_type": "error",
     "traceback": [
      "\u001b[1;31m---------------------------------------------------------------------------\u001b[0m",
      "\u001b[1;31mTypeError\u001b[0m                                 Traceback (most recent call last)",
      "\u001b[1;32m<ipython-input-37-12c386bf1899>\u001b[0m in \u001b[0;36m<module>\u001b[1;34m\u001b[0m\n\u001b[0;32m     13\u001b[0m \u001b[1;33m\u001b[0m\u001b[0m\n\u001b[0;32m     14\u001b[0m \u001b[1;31m# Look at parameters and note the working of Program\u001b[0m\u001b[1;33m\u001b[0m\u001b[1;33m\u001b[0m\u001b[1;33m\u001b[0m\u001b[0m\n\u001b[1;32m---> 15\u001b[1;33m \u001b[0mdivide\u001b[0m\u001b[1;33m(\u001b[0m\u001b[1;36m3\u001b[0m\u001b[1;33m,\u001b[0m \u001b[1;34m\"3\"\u001b[0m\u001b[1;33m)\u001b[0m\u001b[1;33m\u001b[0m\u001b[1;33m\u001b[0m\u001b[0m\n\u001b[0m",
      "\u001b[1;32m<ipython-input-37-12c386bf1899>\u001b[0m in \u001b[0;36mdivide\u001b[1;34m(x, y)\u001b[0m\n\u001b[0;32m      4\u001b[0m         \u001b[1;32mtry\u001b[0m\u001b[1;33m:\u001b[0m\u001b[1;33m\u001b[0m\u001b[1;33m\u001b[0m\u001b[0m\n\u001b[0;32m      5\u001b[0m                 \u001b[1;31m# Floor Division : Gives only Fractional Part as Answer\u001b[0m\u001b[1;33m\u001b[0m\u001b[1;33m\u001b[0m\u001b[1;33m\u001b[0m\u001b[0m\n\u001b[1;32m----> 6\u001b[1;33m                 \u001b[0mresult\u001b[0m \u001b[1;33m=\u001b[0m \u001b[0mx\u001b[0m \u001b[1;33m/\u001b[0m \u001b[0my\u001b[0m\u001b[1;33m\u001b[0m\u001b[1;33m\u001b[0m\u001b[0m\n\u001b[0m\u001b[0;32m      7\u001b[0m         \u001b[1;32mexcept\u001b[0m \u001b[0mZeroDivisionError\u001b[0m\u001b[1;33m:\u001b[0m\u001b[1;33m\u001b[0m\u001b[1;33m\u001b[0m\u001b[0m\n\u001b[0;32m      8\u001b[0m                 \u001b[0mprint\u001b[0m\u001b[1;33m(\u001b[0m\u001b[1;34m\"Sorry ! You are dividing by zero \"\u001b[0m\u001b[1;33m)\u001b[0m\u001b[1;33m\u001b[0m\u001b[1;33m\u001b[0m\u001b[0m\n",
      "\u001b[1;31mTypeError\u001b[0m: unsupported operand type(s) for /: 'int' and 'str'"
     ]
    }
   ],
   "source": [
    "# Python code to illustrate \n",
    "# clean up actions \n",
    "def divide(x, y): \n",
    "\ttry: \n",
    "\t\t# Floor Division : Gives only Fractional Part as Answer \n",
    "\t\tresult = x / y \n",
    "\texcept ZeroDivisionError: \n",
    "\t\tprint(\"Sorry ! You are dividing by zero \") \n",
    "\telse: \n",
    "\t\tprint(\"Yeah ! Your answer is :\", result) \n",
    "\tfinally: \n",
    "\t\tprint(\"I'm finally clause, always raised !! \") \n",
    "\n",
    "# Look at parameters and note the working of Program \n",
    "divide(3, \"3\") \n"
   ]
  },
  {
   "cell_type": "markdown",
   "metadata": {},
   "source": [
    "# GUI   https://www.brianheinold.net/python/python_book.html#"
   ]
  },
  {
   "cell_type": "code",
   "execution_count": 38,
   "metadata": {},
   "outputs": [],
   "source": [
    "from tkinter import *\n",
    "root = Tk()\n",
    "mainloop()"
   ]
  },
  {
   "cell_type": "code",
   "execution_count": 39,
   "metadata": {},
   "outputs": [],
   "source": [
    "from tkinter import *\n",
    "\n",
    "def calculate():\n",
    "    temp = int(entry.get())\n",
    "    temp = 9/5*temp+32\n",
    "    output_label.configure(text = 'Converted: {:.1f}'.format(temp))\n",
    "    entry.delete(0,END)\n",
    "\n",
    "root = Tk()\n",
    "message_label = Label(text='Enter a temperature',\n",
    "                      font=('Verdana', 16))\n",
    "output_label = Label(font=('Verdana', 16))\n",
    "entry = Entry(font=('Verdana', 16), width=4)\n",
    "calc_button = Button(text='Ok', font=('Verdana', 16),\n",
    "                     command=calculate)\n",
    "\n",
    "message_label.grid(row=0, column=0)\n",
    "entry.grid(row=0, column=1)\n",
    "calc_button.grid(row=0, column=2)\n",
    "output_label.grid(row=1, column=0, columnspan=3)\n",
    "\n",
    "mainloop()"
   ]
  },
  {
   "cell_type": "code",
   "execution_count": 43,
   "metadata": {},
   "outputs": [],
   "source": [
    "from tkinter import *\n",
    "\n",
    "def callback():\n",
    "    label.configure(text='Button clicked')\n",
    "\n",
    "root = Tk()\n",
    "label = Label(text='Not clicked')\n",
    "button = Button(text='Click me', command=callback)\n",
    "\n",
    "label.grid(row=0, column=0)\n",
    "button.grid(row=1, column=0)\n",
    "\n",
    "mainloop()"
   ]
  },
  {
   "cell_type": "code",
   "execution_count": 44,
   "metadata": {},
   "outputs": [],
   "source": [
    "from tkinter import *\n",
    "alphabet = 'ABCDEFGHIJKLMNOPQRSTUVWXYZ'\n",
    "\n",
    "def callback(x):\n",
    "    label.configure(text='Button {} clicked'.format(alphabet[x]))\n",
    "\n",
    "root = Tk()\n",
    "\n",
    "label = Label()\n",
    "label.grid(row=1, column=0, columnspan=26)\n",
    "\n",
    "buttons = [0]*26 # create a list to hold 26 buttons\n",
    "for i in range(26):\n",
    "    buttons[i] = Button(text=alphabet[i],\n",
    "                        command = lambda x=i: callback(x))\n",
    "    buttons[i].grid(row=0, column=i)\n",
    "\n",
    "mainloop()"
   ]
  },
  {
   "cell_type": "code",
   "execution_count": 45,
   "metadata": {},
   "outputs": [],
   "source": [
    "\n",
    "from turtle import *\n",
    "from freegames import line\n",
    "\n",
    "def grid():\n",
    "    \"Draw tic-tac-toe grid.\"\n",
    "    line(-67, 200, -67, -200)\n",
    "    line(67, 200, 67, -200)\n",
    "    line(-200, -67, 200, -67)\n",
    "    line(-200, 67, 200, 67)\n",
    "\n",
    "def drawx(x, y):\n",
    "    \"Draw X player.\"\n",
    "    line(x, y, x + 133, y + 133)\n",
    "    line(x, y + 133, x + 133, y)\n",
    "\n",
    "def drawo(x, y):\n",
    "    \"Draw O player.\"\n",
    "    up()\n",
    "    goto(x + 67, y + 5)\n",
    "    down()\n",
    "    circle(62)\n",
    "\n",
    "def floor(value):\n",
    "    \"Round value down to grid with square size 133.\"\n",
    "    return ((value + 200) // 133) * 133 - 200\n",
    "\n",
    "state = {'player': 0}\n",
    "players = [drawx, drawo]\n",
    "\n",
    "def tap(x, y):\n",
    "    \"Draw X or O in tapped square.\"\n",
    "    x = floor(x)\n",
    "    y = floor(y)\n",
    "    player = state['player']\n",
    "    draw = players[player]\n",
    "    draw(x, y)\n",
    "    update()\n",
    "    state['player'] = not player\n",
    "\n",
    "setup(420, 420, 370, 0)\n",
    "hideturtle()\n",
    "tracer(False)\n",
    "grid()\n",
    "update()\n",
    "onscreenclick(tap)\n",
    "done()"
   ]
  },
  {
   "cell_type": "code",
   "execution_count": 2,
   "metadata": {},
   "outputs": [
    {
     "name": "stdout",
     "output_type": "stream",
     "text": [
      "enter your name:Phani\n",
      "enter your age:24\n",
      "enter your email:siginamsettyphani@gmail.com\n",
      "enter your mobile:8125636250\n"
     ]
    }
   ],
   "source": [
    "import qrcode\n",
    "qr=qrcode.QRCode(\n",
    "    version=5,\n",
    "    box_size=5,\n",
    "    border=2\n",
    ")\n",
    "name=input(\"enter your name:\")\n",
    "age=int(input(\"enter your age:\"))\n",
    "email=input(\"enter your email:\")\n",
    "mobile=int(input(\"enter your mobile:\"))\n",
    "data={\"Name\":name,\"Age\":age,\"Email\":email,\"Mobile\":mobile}\n",
    "qr.add_data(data)\n",
    "qr.make(fit=True)\n",
    "img=qr.make_image()\n",
    "img.save(\"mydetails_in_qr.png\")\n",
    "img.show()"
   ]
  },
  {
   "cell_type": "code",
   "execution_count": 6,
   "metadata": {},
   "outputs": [],
   "source": [
    "def anagram(a,b):\n",
    "    if len(a)==len(b):\n",
    "        a1=sorted(a)\n",
    "        b1=sorted(b)\n",
    "        if a1==b1:\n",
    "            return True\n",
    "        else:\n",
    "            return False"
   ]
  },
  {
   "cell_type": "code",
   "execution_count": 7,
   "metadata": {},
   "outputs": [
    {
     "data": {
      "text/plain": [
       "True"
      ]
     },
     "execution_count": 7,
     "metadata": {},
     "output_type": "execute_result"
    }
   ],
   "source": [
    "anagram('elbow','below')"
   ]
  },
  {
   "cell_type": "code",
   "execution_count": null,
   "metadata": {},
   "outputs": [],
   "source": []
  }
 ],
 "metadata": {
  "kernelspec": {
   "display_name": "Python 3",
   "language": "python",
   "name": "python3"
  },
  "language_info": {
   "codemirror_mode": {
    "name": "ipython",
    "version": 3
   },
   "file_extension": ".py",
   "mimetype": "text/x-python",
   "name": "python",
   "nbconvert_exporter": "python",
   "pygments_lexer": "ipython3",
   "version": "3.7.4"
  }
 },
 "nbformat": 4,
 "nbformat_minor": 2
}
