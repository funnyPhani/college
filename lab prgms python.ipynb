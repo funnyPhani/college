{
 "cells": [
  {
   "cell_type": "markdown",
   "metadata": {},
   "source": [
    "### 1. Write a program that asks the user for a weight in kilograms and converts it to pounds. There are 2.2 pounds in a kilogram"
   ]
  },
  {
   "cell_type": "code",
   "execution_count": 2,
   "metadata": {},
   "outputs": [
    {
     "name": "stdout",
     "output_type": "stream",
     "text": [
      "Enter weight in Kg to Convert into pounds:20\n",
      "20.0  Kilograms = 44.092  Pounds\n"
     ]
    }
   ],
   "source": [
    "kilo_grams = float(input('Enter weight in Kg to Convert into pounds:'))\n",
    "pounds = kilo_grams * 2.2046\n",
    "print(kilo_grams,' Kilograms =', pounds,' Pounds')"
   ]
  },
  {
   "cell_type": "markdown",
   "metadata": {},
   "source": [
    "### 2.Write a program that asks the user to enter three numbers (use three separate input statements). Create variables called total and average that hold the sum and average of the three numbers and print out the values of total and average."
   ]
  },
  {
   "cell_type": "code",
   "execution_count": 3,
   "metadata": {},
   "outputs": [
    {
     "name": "stdout",
     "output_type": "stream",
     "text": [
      "enter a number :1\n",
      "enter a number :2\n",
      "enter a number :3\n",
      "Total of 1,2,3 : 6\n",
      "Average  of 1,2,3 : 2.0\n"
     ]
    }
   ],
   "source": [
    "a=int(input('enter a number :'))\n",
    "b=int(input('enter a number :'))\n",
    "c=int(input('enter a number :'))\n",
    "\n",
    "print('Total of {},{},{} :'.format(a,b,c),a+b+c)\n",
    "print('Average  of {},{},{} :'.format(a,b,c),(a+b+c)/3)\n"
   ]
  },
  {
   "cell_type": "markdown",
   "metadata": {},
   "source": [
    "### 3. Write a program that uses a for loop to print the numbers 8, 11, 14, 17, 20, . . . , 83, 86, 89\n",
    "\n"
   ]
  },
  {
   "cell_type": "code",
   "execution_count": 5,
   "metadata": {},
   "outputs": [
    {
     "name": "stdout",
     "output_type": "stream",
     "text": [
      "8,11,14,17,20,23,26,29,32,35,38,41,44,47,50,53,56,59,62,65,68,71,74,77,80,83,86,89,"
     ]
    }
   ],
   "source": [
    "for i in range(8, 90, 3):\n",
    "    print(i,end=',')"
   ]
  },
  {
   "cell_type": "markdown",
   "metadata": {},
   "source": [
    "### 4. Write a program that asks the user for their name and how many times to print it. The program should print out the user’s name the specified number of times.\n",
    "\n"
   ]
  },
  {
   "cell_type": "code",
   "execution_count": 6,
   "metadata": {},
   "outputs": [
    {
     "name": "stdout",
     "output_type": "stream",
     "text": [
      "enter your name :Phani\n",
      "How many time you want to get your name :5\n",
      "It is nice to meet you, Phani\n",
      "It is nice to meet you, Phani\n",
      "It is nice to meet you, Phani\n",
      "It is nice to meet you, Phani\n"
     ]
    }
   ],
   "source": [
    "name=input('enter your name :')\n",
    "n=int(input('How many time you want to get your name :'))\n",
    "for i in range(1,n):\n",
    "    print('It is nice to meet you, ' + name)\n"
   ]
  },
  {
   "cell_type": "markdown",
   "metadata": {},
   "source": [
    "### 5. Use a for loop to print a triangle like the one below. Allow the user  to specify how high the triangle should be.\n",
    "\n"
   ]
  },
  {
   "cell_type": "raw",
   "metadata": {},
   "source": [
    "\n",
    "*\n",
    "**\n",
    "***\n",
    "****"
   ]
  },
  {
   "cell_type": "code",
   "execution_count": 10,
   "metadata": {},
   "outputs": [
    {
     "name": "stdout",
     "output_type": "stream",
     "text": [
      "*\n",
      "**\n",
      "***\n",
      "****\n"
     ]
    }
   ],
   "source": [
    "for i in range(0, 4):\n",
    "  for j in range(0, i+1):\n",
    "      print(\"*\",end=\"\")\n",
    "  print()\n"
   ]
  },
  {
   "cell_type": "markdown",
   "metadata": {},
   "source": [
    "### 6. Generate a random number between 1 and 10. Ask the user to guess the number and print a message based on whether they get it right or not.\n"
   ]
  },
  {
   "cell_type": "code",
   "execution_count": 11,
   "metadata": {},
   "outputs": [
    {
     "name": "stdout",
     "output_type": "stream",
     "text": [
      "Please guess a number between 1 and 9. When you want to end the game print 'exit': 2\n",
      "You've guessed too low!\n",
      "Please guess a number between 1 and 9. When you want to end the game print 'exit': 4\n",
      "You've guessed too low!\n",
      "Please guess a number between 1 and 9. When you want to end the game print 'exit': 7\n",
      "You've guessed too high!\n",
      "Please guess a number between 1 and 9. When you want to end the game print 'exit': 5\n",
      "You've guessed too low!\n",
      "Please guess a number between 1 and 9. When you want to end the game print 'exit': 3\n",
      "You've guessed too low!\n",
      "Please guess a number between 1 and 9. When you want to end the game print 'exit': 6\n",
      "You've got it! It took you 6 tries!\n"
     ]
    }
   ],
   "source": [
    "import random\n",
    "\n",
    "number = random.randrange(1, 10)\n",
    "guess = 0\n",
    "count = 0\n",
    "\n",
    "while guess != number and guess != \"exit\":\n",
    "    guess = input(\"Please guess a number between 1 and 9. When you want to end the game print 'exit': \")\n",
    "\n",
    "    if guess == \"exit\":\n",
    "        print(\"Game Over\")\n",
    "        break\n",
    "\n",
    "    guess = int(guess)\n",
    "    count += 1\n",
    "    if guess not in range(1, 10):\n",
    "        print(\"You have to guess a number between 1 and 9!\")\n",
    "    elif guess < number:\n",
    "        print(\"You've guessed too low!\")\n",
    "    elif guess > number:\n",
    "        print(\"You've guessed too high!\")\n",
    "    else:\n",
    "        if count == 1:\n",
    "            print(\"You rock! You've got it at the first try!\")\n",
    "        elif count <= 3:\n",
    "            print(\"Well done! You've got it in just {} tries\".format(count))\n",
    "        elif count > 3:\n",
    "            print(\"You've got it! It took you {} tries!\".format(count))\n"
   ]
  },
  {
   "cell_type": "markdown",
   "metadata": {},
   "source": [
    "### 7.Write a program that asks the user for two numbers and prints Close if the numbers are within .001 of each other and Not close otherwise.\n"
   ]
  },
  {
   "cell_type": "code",
   "execution_count": 17,
   "metadata": {},
   "outputs": [
    {
     "name": "stdout",
     "output_type": "stream",
     "text": [
      "Enter the first number: 10\n",
      "Enter the second number: 9.999\n",
      "Close\n"
     ]
    }
   ],
   "source": [
    "num1 = float(input(\"Enter the first number: \"))\n",
    "num2 = float(input(\"Enter the second number: \"))\n",
    "\n",
    "if abs(num1 - num2) <= 0.001:\n",
    "   print(\"Close\")\n",
    "else:\n",
    "   print(\"Not close\")\n"
   ]
  },
  {
   "cell_type": "markdown",
   "metadata": {},
   "source": [
    "### 8. Write a program that asks the user to enter a word and prints out whether that word contains any vowels.\n"
   ]
  },
  {
   "cell_type": "code",
   "execution_count": 19,
   "metadata": {},
   "outputs": [
    {
     "name": "stdout",
     "output_type": "stream",
     "text": [
      "enter your name :Phani\n",
      "Phani is vowel\n"
     ]
    }
   ],
   "source": [
    "\n",
    "vowels = {\"a\", \"e\", \"i\", \"o\", \"u\", \"A\", \"E\", \"I\", \"O\", \"U\"}\n",
    "pk=input('enter your name :')\n",
    "if any(char in vowels for char in pk):\n",
    "    print('{} is vowel'.format(pk))\n",
    "else:\n",
    "    print('{} is consonant'.format(pk))\n"
   ]
  },
  {
   "cell_type": "markdown",
   "metadata": {},
   "source": [
    "### 9.Write a program that asks the user to enter two strings of the same length. The program should then check to see if the strings are of the same length. If they are not, the program should print an appropriate message and exit. If they are of the same length, the program should alternate the characters of the two strings. For example, if the user enters abcde and ABCDE the program should print out AaBbCcDdEe\n"
   ]
  },
  {
   "cell_type": "code",
   "execution_count": 21,
   "metadata": {},
   "outputs": [
    {
     "name": "stdout",
     "output_type": "stream",
     "text": [
      "string a:Phani\n",
      "string b:Kumar\n",
      "the output of given strings is : PKhuamnair\n"
     ]
    }
   ],
   "source": [
    "\n",
    "a = input(\"string a:\")\n",
    "b = input(\"string b:\")\n",
    "\n",
    "s= \"\"\n",
    "if len(a) != len(b):\n",
    "    print(\"Not same length!\")\n",
    "else:\n",
    "    for i,k in zip(a,b):\n",
    "        s += i+k\n",
    "    print('the output of given strings is :',s)\n"
   ]
  },
  {
   "cell_type": "markdown",
   "metadata": {},
   "source": [
    "### 10.Write a program that asks the user for a large integer and inserts commas into it according to the standard American convention for commas in large numbers. For instance, if the user enters 1000000, the output should be 1,000,000.\n",
    "\n"
   ]
  },
  {
   "cell_type": "code",
   "execution_count": 25,
   "metadata": {},
   "outputs": [
    {
     "name": "stdout",
     "output_type": "stream",
     "text": [
      "1,000,000\n"
     ]
    }
   ],
   "source": [
    "\n",
    "def place_value(number): \n",
    "    return (\"{:,}\".format(number)) \n",
    "  \n",
    "print(place_value(1000000))"
   ]
  },
  {
   "cell_type": "markdown",
   "metadata": {},
   "source": [
    "### 11.In algebraic expression the symbol for multiplication is often let out, as in 3x+4y or 3(x+5). Computers prefer those expressions to include the multiplication symbol, like 3*x+4*y or 3*(x+5). Write a python program that asks the user for an algebraic expression and then insert multiplication symbols where appropriate.\n"
   ]
  },
  {
   "cell_type": "code",
   "execution_count": null,
   "metadata": {},
   "outputs": [],
   "source": []
  },
  {
   "cell_type": "markdown",
   "metadata": {},
   "source": [
    "## 12) Write a program that generates a list of 20 random numbers between 1 and 100\n",
    " \n",
    "* (a) Print the list.\n",
    "* (b) Print the average of the elements in the list.\n",
    "* (c) Print the largest and smallest values in the list.\n",
    " \n",
    "* (d) Print the second largest and second smallest entries in the list\n",
    "* (e) Print how many even numbers are in the list\n",
    "\n"
   ]
  },
  {
   "cell_type": "code",
   "execution_count": 26,
   "metadata": {},
   "outputs": [
    {
     "name": "stdout",
     "output_type": "stream",
     "text": [
      "Enter number of elements:20\n",
      "Randomised list is:  [28, 45, 93, 94, 11, 68, 21, 29, 88, 91, 54, 14, 66, 33, 61, 97, 61, 17, 4, 2]\n"
     ]
    }
   ],
   "source": [
    "# (a) Print the list. \n",
    "import random\n",
    "a=[]\n",
    "n=int(input(\"Enter number of elements:\"))\n",
    "for j in range(n):\n",
    "    a.append(random.randint(1,100))\n",
    "print('Randomised list is: ',a)\n",
    " \n",
    " \n"
   ]
  },
  {
   "cell_type": "code",
   "execution_count": 28,
   "metadata": {},
   "outputs": [
    {
     "name": "stdout",
     "output_type": "stream",
     "text": [
      "Enter number of elements:20\n",
      "[37, 88, 46, 31, 77, 6, 20, 39, 1, 88, 91, 34, 97, 65, 28, 57, 17, 64, 26, 48]\n",
      "Average of list is:  48.0\n"
     ]
    }
   ],
   "source": [
    "# b) To generate a ls a list of 20 random numbers between 1 and 100, and Print the average of the elements in the list.\n",
    "  \n",
    " \n",
    "import random\n",
    "a=[]\n",
    "n=int(input(\"Enter number of elements:\"))\n",
    "for j in range(n):\n",
    "    a.append(random.randint(1,100))\n",
    "    avg=sum(a)/len(a)\n",
    "print(a)\n",
    "print('Average of list is: ',avg)\n"
   ]
  },
  {
   "cell_type": "code",
   "execution_count": 33,
   "metadata": {},
   "outputs": [
    {
     "name": "stdout",
     "output_type": "stream",
     "text": [
      "Enter number of elements:20\n",
      "Randomised list is:  [76, 24, 7, 89, 43, 29, 73, 89, 47, 90, 44, 53, 16, 55, 96, 53, 14, 36, 63, 27]\n",
      "largest value in the list is:  96\n",
      "smallest value in the list is:  7\n"
     ]
    }
   ],
   "source": [
    " # c)Write a program that generates a list of 20 random numbers between 1 and 100 and find the largest and smallest values in the list.\n",
    "  \n",
    "import random\n",
    "a=[]\n",
    "n=int(input(\"Enter number of elements:\"))\n",
    "for j in range(n):\n",
    "    a.append(random.randint(1,100))\n",
    "print('Randomised list is: ',a)\n",
    " \n",
    "print('largest value in the list is: ',max(a))\n",
    "print('smallest value in the list is: ',min(a))\n",
    " \n"
   ]
  },
  {
   "cell_type": "code",
   "execution_count": 34,
   "metadata": {},
   "outputs": [
    {
     "name": "stdout",
     "output_type": "stream",
     "text": [
      "Enter number of elements:20\n",
      "Randomised list is:  [55, 37, 6, 13, 33, 63, 40, 43, 82, 4, 74, 24, 36, 45, 29, 67, 96, 33, 28, 86]\n",
      "Second Largest element is: 86\n",
      "Second Smallest element is: 6\n"
     ]
    }
   ],
   "source": [
    "# d) Write a program that generates a list of 20 random numbers between 1 and 100 and find the second largest and second smallest entries in the list.\n",
    " \n",
    "\n",
    " \n",
    "def find_len(list1): \n",
    "    length = len(list1) \n",
    "    list1.sort() \n",
    "    print(\"Second Largest element is:\", list1[length-2]) \n",
    "    print(\"Second Smallest element is:\", list1[1]) \n",
    "    \n",
    "import random\n",
    "a=[]\n",
    "n=int(input(\"Enter number of elements:\"))\n",
    "for j in range(n):\n",
    "    a.append(random.randint(1,100))\n",
    "print('Randomised list is: ',a)\n",
    "b=a.copy()\n",
    "find_len(b)\n"
   ]
  },
  {
   "cell_type": "code",
   "execution_count": 37,
   "metadata": {},
   "outputs": [
    {
     "name": "stdout",
     "output_type": "stream",
     "text": [
      "Enter number of elements:20\n",
      "Randomised list is:  [74, 24, 7, 95, 78, 34, 63, 39, 61, 30, 62, 63, 75, 85, 7, 17, 79, 80, 49, 83]\n",
      "\n",
      "74 \n",
      "24 \n",
      "78 \n",
      "34 \n",
      "30 \n",
      "62 \n",
      "80 \n",
      "Number of even numbers : 7\n"
     ]
    }
   ],
   "source": [
    "# e) Write a program that generates a list of 20 random numbers between 1 and 100 and find  how many even numbers are in the list\n",
    " \n",
    " \n",
    "import random\n",
    "a=[]\n",
    "n=int(input(\"Enter number of elements:\"))\n",
    "for j in range(n):\n",
    "    a.append(random.randint(1,100))\n",
    "print('Randomised list is: ',a)\n",
    "# Python program to print Even Numbers in a List \n",
    " \n",
    "count_even = 0\n",
    " \n",
    "# iterating each number in list \n",
    "for num in a: \n",
    "    \n",
    " \n",
    "    # checking condition \n",
    "    if num % 2 == 0: \n",
    "        count_even+=1\n",
    "        print()\n",
    "        print(num, end = \" \") \n",
    "print()\n",
    "print(\"Number of even numbers :\",count_even)\n"
   ]
  },
  {
   "cell_type": "markdown",
   "metadata": {},
   "source": [
    "### 13) Write a program that asks the user for an integer and creates a list factors of that integer\n",
    " \n"
   ]
  },
  {
   "cell_type": "code",
   "execution_count": 40,
   "metadata": {},
   "outputs": [
    {
     "name": "stdout",
     "output_type": "stream",
     "text": [
      "Enter the number to get the list of its factors :50\n",
      "The factors of 50 are:\n",
      "[1, 2, 5, 10, 25, 50]\n"
     ]
    }
   ],
   "source": [
    "\n",
    "# Python Program to find the factors of a number\n",
    " \n",
    "# This function computes the factor of the argument passed\n",
    "a=[]\n",
    "def print_factors(x):\n",
    "   print(\"The factors of\",x,\"are:\")\n",
    "   for i in range(1, x + 1):\n",
    "       if x % i == 0:\n",
    "           a.append(i)\n",
    " \n",
    "num = int(input('Enter the number to get the list of its factors :'))\n",
    " \n",
    "print_factors(num)\n",
    "print(a)\n"
   ]
  },
  {
   "cell_type": "markdown",
   "metadata": {},
   "source": [
    "### 14.Write a program that generates 100 random integers that are either 0 or 1. Then find the longest run of zeros, the largest number of zeros in a row. For instance, the longest run of zeros in [1,0,1,1,0,0,0,0,1,0,0] is 4.\n"
   ]
  },
  {
   "cell_type": "code",
   "execution_count": 57,
   "metadata": {},
   "outputs": [
    {
     "name": "stdout",
     "output_type": "stream",
     "text": [
      "The maximum element of the list is : 4\n"
     ]
    }
   ],
   "source": [
    "# importing functools for reduce() \n",
    "import functools \n",
    "\n",
    "# initializing list \n",
    "inputString = \"1,0,1,1,0,0,0,0,1,0,0\"\n",
    "\n",
    "#remove commas and split result into an array using 1 as the delimiter\n",
    "inputString = inputString.replace(\",\", \"\")\n",
    "resultArr = inputString.split(\"1\");\n",
    "\n",
    "# using reduce to compute maximum element from resulting array list \n",
    "longestString = (functools.reduce(lambda a,b : a if a >= b else b,resultArr)) \n",
    "\n",
    "#output the result\n",
    "print (\"The maximum element of the list is : \",end=\"\") \n",
    "print (len(longestString)) "
   ]
  },
  {
   "cell_type": "code",
   "execution_count": 74,
   "metadata": {},
   "outputs": [],
   "source": [
    "# # python code to demonstrate working of reduce() \n",
    "\n",
    "# # importing functools for reduce() \n",
    "# import functools \n",
    "\n",
    "# # initializing list \n",
    "# lis = [ 1 , 3, 5, 6, 2, ] \n",
    "\n",
    "# # using reduce to compute sum of list \n",
    "# print (\"The sum of the list elements is : \",end=\"\") \n",
    "# print (functools.reduce(lambda a,b : a+b,lis)) \n",
    "\n",
    "# # using reduce to compute maximum element from list \n",
    "# print (\"The maximum element of the list is : \",end=\"\") \n",
    "# print (functools.reduce(lambda a,b : a if a > b else b,lis)) \n"
   ]
  },
  {
   "cell_type": "code",
   "execution_count": 73,
   "metadata": {},
   "outputs": [
    {
     "name": "stdout",
     "output_type": "stream",
     "text": [
      "[0, 1, 0, 1, 1, 0, 0, 1, 0, 1, 0, 1, 0, 1, 1, 1, 0, 0, 0, 1, 1, 1, 0, 0, 1, 1, 1, 0, 0, 0, 0, 1, 1, 0, 1, 0, 1, 0, 1, 0, 0, 0, 1, 1, 1, 1, 1, 1, 1, 1, 0, 0, 1, 0, 1, 1, 0, 0, 1, 0, 1, 1, 0, 1, 0, 1, 1, 1, 0, 0, 0, 0, 0, 1, 1, 0, 0, 1, 0, 0, 0, 1, 0, 0, 1, 0, 0, 1, 0, 0, 1, 1, 0, 1, 0, 1, 0, 0, 1, 0]\n",
      "5\n"
     ]
    }
   ],
   "source": [
    "\n",
    "import random\n",
    " \n",
    "l = []\n",
    " \n",
    "def my_list():\n",
    "    for j in range(0,100):\n",
    "        x = random.randint(0,1)\n",
    "        l.append(x)\n",
    "    print (l)\n",
    "    return l\n",
    " \n",
    "def largest_row_of_zeros(l):\n",
    " \n",
    "    c = 0\n",
    "    max_count = 0\n",
    " \n",
    "    for j in l:\n",
    "        if j == 0:\n",
    "            c += 1\n",
    "        else:\n",
    "            if c > max_count:\n",
    "                max_count = c\n",
    "            c = 0\n",
    "    return max_count\n",
    " \n",
    "l = my_list()\n",
    "print(largest_row_of_zeros(l))\n"
   ]
  },
  {
   "cell_type": "markdown",
   "metadata": {},
   "source": [
    "### 15.Write a program that removes any repeated items from a list so that each item appears at most once. For instance, the list [1,1,2,3,4,3,0,0] would become [1,2,3,4,0].\n"
   ]
  },
  {
   "cell_type": "code",
   "execution_count": 76,
   "metadata": {},
   "outputs": [
    {
     "name": "stdout",
     "output_type": "stream",
     "text": [
      "The original list is : [1, 3, 5, 6, 3, 5, 6, 1]\n",
      "The list after removing duplicates : [1, 3, 5, 6]\n"
     ]
    }
   ],
   "source": [
    "\n",
    "# initializing list \n",
    "test_list = [1, 3, 5, 6, 3, 5, 6, 1] \n",
    "print (\"The original list is : \" + str(test_list)) \n",
    "\n",
    "# using naive method \n",
    "# to remove duplicated \n",
    "# from list \n",
    "res = [] \n",
    "for i in test_list: \n",
    "    if i not in res: \n",
    "        res.append(i) \n",
    "\n",
    "# printing list after removal \n",
    "print (\"The list after removing duplicates : \" + str(res))\n"
   ]
  },
  {
   "cell_type": "code",
   "execution_count": 78,
   "metadata": {},
   "outputs": [
    {
     "data": {
      "text/plain": [
       "[1, 3, 5, 6]"
      ]
     },
     "execution_count": 78,
     "metadata": {},
     "output_type": "execute_result"
    }
   ],
   "source": [
    "list(set(test_list))"
   ]
  },
  {
   "cell_type": "markdown",
   "metadata": {},
   "source": [
    "### 16 ) Write a program that asks the user to enter a length in feet. The program should then give the user the option to convert from feet into inches, yards, miles, millimeters, centimeters, meters, or kilometers. Say if the user enters a 1, then the program converts to inches, if they enter a 2, then the program converts to yards, etc. While this can be done with if statements, it is much shorter with lists and it is also easier to add new conversions if you use lists.\n",
    " \n"
   ]
  },
  {
   "cell_type": "code",
   "execution_count": 80,
   "metadata": {},
   "outputs": [
    {
     "name": "stdout",
     "output_type": "stream",
     "text": [
      "Enter a length in feet: 5\n",
      " Choose 1 to convert into inches,\n",
      "          choose 2 to convert into yards,\n",
      "          choose 3 to convert into miles,\n",
      "          choose 4 to convert into millimeters,\n",
      "          choose 5 to convert into centimeters,\n",
      "          choose 6 to convert into meters,\n",
      "          choose 7 to convert into kilometers\n",
      "> 5\n",
      "152.4\n"
     ]
    }
   ],
   "source": [
    "feet = int(input(\"Enter a length in feet: \"))\n",
    "print(\"\"\" Choose 1 to convert into inches,\n",
    "          choose 2 to convert into yards,\n",
    "          choose 3 to convert into miles,\n",
    "          choose 4 to convert into millimeters,\n",
    "          choose 5 to convert into centimeters,\n",
    "          choose 6 to convert into meters,\n",
    "          choose 7 to convert into kilometers\"\"\")\n",
    "integer = int(input(\"> \"))\n",
    " \n",
    "inches = feet * 12\n",
    "yards = feet * 0.33333\n",
    "miles = feet * 0.000189393939\n",
    "millimeters = feet * 304.8\n",
    "centimeters = feet * 30.48\n",
    "meters = feet * 0.3048\n",
    "kilometers = feet * 0.0003048\n",
    " \n",
    "convert = [\n",
    "               feet,\n",
    "               inches,\n",
    "               yards,\n",
    "               miles,\n",
    "               millimeters,\n",
    "               centimeters,\n",
    "               meters,\n",
    "               kilometers\n",
    "               ]\n",
    " \n",
    "print(convert[integer])\n"
   ]
  },
  {
   "cell_type": "markdown",
   "metadata": {},
   "source": [
    "### 17) Write a function called sum_digits that is given an integer num and returns the sum of the digits of num.\n",
    " \n",
    " \n"
   ]
  },
  {
   "cell_type": "code",
   "execution_count": 81,
   "metadata": {},
   "outputs": [
    {
     "name": "stdout",
     "output_type": "stream",
     "text": [
      "15\n"
     ]
    }
   ],
   "source": [
    " \n",
    "def sum_digits(n):\n",
    "    print(sum(int(n) for n in str(n)))\n",
    "sum_digits(12345)\n"
   ]
  },
  {
   "cell_type": "code",
   "execution_count": 90,
   "metadata": {},
   "outputs": [
    {
     "data": {
      "text/plain": [
       "6"
      ]
     },
     "execution_count": 90,
     "metadata": {},
     "output_type": "execute_result"
    }
   ],
   "source": [
    "int(list(str(sum([1,2,3])))[0])"
   ]
  },
  {
   "cell_type": "markdown",
   "metadata": {},
   "source": [
    "### 18) Write a function called first_diff that is given two strings and returns the ﬁrst location in which the strings differ. If the strings are identical, it should return -1.\n",
    " \n"
   ]
  },
  {
   "cell_type": "code",
   "execution_count": 95,
   "metadata": {},
   "outputs": [
    {
     "name": "stdout",
     "output_type": "stream",
     "text": [
      "The location of the string same /: -1\n",
      "The location of the string same /: -1\n",
      "The location of the string same /: -1\n",
      "The location of string differnt at: 3\n",
      "The location of string differnt at: 4\n",
      "The location of string differnt at: 5\n"
     ]
    }
   ],
   "source": [
    " \n",
    "def first_diff (string1 , string2):\n",
    "    x=string1.split()\n",
    "    y=string2.split()\n",
    "    if len(x)<len(y):\n",
    "        length=len(y)\n",
    "    else:\n",
    "        length=len(y)\n",
    "    for i in range(length):\n",
    "        if x[int(i)]==y[int(i)]:\n",
    "            print(\"The location of the string same /: -1\")\n",
    "        else:\n",
    "            b=x[i]\n",
    "            print(\"The location of string differnt at:\",x.index(b))\n",
    "string1='Hello you are learning python now'\n",
    "string2='Hello you are good in learning'\n",
    "first_diff (string1 , string2)\n"
   ]
  },
  {
   "cell_type": "markdown",
   "metadata": {},
   "source": [
    "### 19) Write a function called number_of factors that takes an integer and returns how many factors the number has.\n",
    " \n"
   ]
  },
  {
   "cell_type": "code",
   "execution_count": 96,
   "metadata": {},
   "outputs": [
    {
     "name": "stdout",
     "output_type": "stream",
     "text": [
      "the factors are : 1\n",
      "the factors are : 2\n",
      "the factors are : 3\n",
      "the factors are : 4\n",
      "the factors are : 6\n"
     ]
    }
   ],
   "source": [
    "\n",
    " \n",
    "def number_of_factors(n):\n",
    "    for i in range(1,n):\n",
    "        if n%i==0:\n",
    "            print('the factors are :',i)\n",
    "number_of_factors(12)\n"
   ]
  },
  {
   "cell_type": "markdown",
   "metadata": {},
   "source": [
    "### 20) Write a function called is_sorted that is given a list and returns True if the list is sorted and False otherwise.\n",
    " \n",
    "\n"
   ]
  },
  {
   "cell_type": "code",
   "execution_count": 97,
   "metadata": {},
   "outputs": [
    {
     "data": {
      "text/plain": [
       "True"
      ]
     },
     "execution_count": 97,
     "metadata": {},
     "output_type": "execute_result"
    }
   ],
   "source": [
    "def is_sorted(stuff):\n",
    "    for index, item in enumerate(stuff):\n",
    "        try:\n",
    "            if item > stuff[index + 1]:\n",
    "                return False\n",
    "        except IndexError:\n",
    "            return True\n",
    "is_sorted([1,20,200])\n",
    " "
   ]
  },
  {
   "cell_type": "code",
   "execution_count": 98,
   "metadata": {},
   "outputs": [
    {
     "name": "stdout",
     "output_type": "stream",
     "text": [
      "0 p\n",
      "1 h\n",
      "2 a\n",
      "3 n\n",
      "4 i\n"
     ]
    }
   ],
   "source": [
    "# for i,j in enumerate('phani'):\n",
    "#     print(i,j)"
   ]
  },
  {
   "cell_type": "code",
   "execution_count": 101,
   "metadata": {},
   "outputs": [
    {
     "name": "stdout",
     "output_type": "stream",
     "text": [
      "False\n"
     ]
    }
   ],
   "source": [
    "# If input is string format:\n",
    " \n",
    "def is_sorted(string):\n",
    "    y=list(string)\n",
    "    if y==sorted(string):\n",
    "        print('True')\n",
    "    else:\n",
    "        print('False')\n",
    "is_sorted('Phani')\n"
   ]
  },
  {
   "cell_type": "markdown",
   "metadata": {},
   "source": [
    "### 21) Write a function called root that is given a number x and an integer n and returns x^1/n function definition, set the default value of n to 2.\n",
    " \n"
   ]
  },
  {
   "cell_type": "code",
   "execution_count": 104,
   "metadata": {},
   "outputs": [
    {
     "data": {
      "text/plain": [
       "1.4142135623730951"
      ]
     },
     "execution_count": 104,
     "metadata": {},
     "output_type": "execute_result"
    }
   ],
   "source": [
    "def root(n):\n",
    "    return (n**0.5)\n",
    "root(2)\n",
    " \n"
   ]
  },
  {
   "cell_type": "markdown",
   "metadata": {},
   "source": [
    "### 22) Write a function called primes that is given a number n and returns a list of the first n Primes. Let the default value of n be 100\n"
   ]
  },
  {
   "cell_type": "code",
   "execution_count": 105,
   "metadata": {},
   "outputs": [
    {
     "name": "stdout",
     "output_type": "stream",
     "text": [
      "[2, 3, 5, 7, 11, 13, 17, 19, 23, 29, 31, 37, 41, 43, 47, 53, 59, 61, 67, 71, 73, 79, 83, 89, 97, 101, 103, 107, 109, 113, 127, 131, 137, 139, 149, 151, 157, 163, 167, 173, 179, 181, 191, 193, 197, 199, 211, 223, 227, 229, 233, 239, 241, 251, 257, 263, 269, 271, 277, 281, 283, 293, 307, 311, 313, 317, 331, 337, 347, 349, 353, 359, 367, 373, 379, 383, 389, 397, 401, 409, 419, 421, 431, 433, 439, 443, 449, 457, 461, 463, 467, 479, 487, 491, 499, 503, 509, 521, 523, 541]\n"
     ]
    }
   ],
   "source": [
    " \n",
    "def generate_n_primes(N):\n",
    "        primes  = []\n",
    "        chkthis = 2\n",
    "        while len(primes) < N:\n",
    "            ptest    = [chkthis for i in primes if chkthis%i == 0]\n",
    "            primes  += [] if ptest else [chkthis]\n",
    "            chkthis += 1\n",
    "        return primes\n",
    " \n",
    "print (generate_n_primes(100))\n"
   ]
  },
  {
   "cell_type": "code",
   "execution_count": null,
   "metadata": {},
   "outputs": [],
   "source": []
  },
  {
   "cell_type": "code",
   "execution_count": 109,
   "metadata": {},
   "outputs": [],
   "source": [
    "def primes_upto(limit):\n",
    "    prime = [True] * limit\n",
    "    for n in range(2, limit):\n",
    "        if prime[n]:\n",
    "            yield n # n is a prime\n",
    "            for c in range(n*n, limit, n):\n",
    "                prime[c] = False # mark composites"
   ]
  },
  {
   "cell_type": "code",
   "execution_count": 111,
   "metadata": {},
   "outputs": [
    {
     "name": "stdout",
     "output_type": "stream",
     "text": [
      "[2, 3, 5, 7, 11, 13, 17, 19, 23, 29, 31, 37, 41, 43, 47, 53, 59, 61, 67, 71, 73, 79, 83, 89, 97, 101, 103, 107, 109, 113, 127, 131, 137, 139, 149, 151, 157, 163, 167, 173, 179, 181, 191, 193, 197, 199, 211, 223, 227, 229, 233, 239, 241, 251, 257, 263, 269, 271, 277, 281, 283, 293, 307, 311, 313, 317, 331, 337, 347, 349, 353, 359, 367, 373, 379, 383, 389, 397, 401, 409, 419, 421, 431, 433, 439, 443, 449, 457, 461, 463, 467, 479, 487, 491, 499, 503, 509, 521, 523, 541]\n"
     ]
    }
   ],
   "source": [
    "print(list(primes_upto(542)))"
   ]
  },
  {
   "cell_type": "markdown",
   "metadata": {},
   "source": [
    "### 23) write a function called merge that takes two already sorted lists of possible different lengths and merges them into a single list.\n",
    " \n",
    "* a) Do this using sort method\n",
    " \n"
   ]
  },
  {
   "cell_type": "code",
   "execution_count": 112,
   "metadata": {},
   "outputs": [
    {
     "name": "stdout",
     "output_type": "stream",
     "text": [
      "Array after merging\n",
      "1 2 3 4 5 6 7 8 "
     ]
    }
   ],
   "source": [
    " \n",
    "# Python program to merge \n",
    "# two sorted arrays \n",
    " \n",
    "# Merge arr1[0..n1-1] and \n",
    "# arr2[0..n2-1] into \n",
    "# arr3[0..n1+n2-1] \n",
    "def mergeArrays(arr1, arr2, n1, n2): \n",
    "\tarr3 = [None] * (n1 + n2) \n",
    "\ti = 0\n",
    "\tj = 0\n",
    "\tk = 0\n",
    " \n",
    "\t# Traverse both array \n",
    "\twhile i < n1 and j < n2: \n",
    "\t\n",
    "\t\t# Check if current element \n",
    "\t\t# of first array is smaller \n",
    "\t\t# than current element of \n",
    "\t\t# second array. If yes, \n",
    "\t\t# store first array element \n",
    "\t\t# and increment first array \n",
    "\t\t# index. Otherwise do same \n",
    "\t\t# with second array \n",
    "\t\tif arr1[i] < arr2[j]: \n",
    "\t\t\tarr3[k] = arr1[i] \n",
    "\t\t\tk = k + 1\n",
    "\t\t\ti = i + 1\n",
    "\t\telse: \n",
    "\t\t\tarr3[k] = arr2[j] \n",
    "\t\t\tk = k + 1\n",
    "\t\t\tj = j + 1\n",
    "\t\n",
    " \n",
    "\t# Store remaining elements \n",
    "\t# of first array \n",
    "\twhile i < n1: \n",
    "\t\tarr3[k] = arr1[i]; \n",
    "\t\tk = k + 1\n",
    "\t\ti = i + 1\n",
    " \n",
    "\t# Store remaining elements \n",
    "\t# of second array \n",
    "\twhile j < n2: \n",
    "\t\tarr3[k] = arr2[j]; \n",
    "\t\tk = k + 1\n",
    "\t\tj = j + 1\n",
    "\tprint(\"Array after merging\") \n",
    "\tfor i in range(n1 + n2): \n",
    "\t\tprint(str(arr3[i]), end = \" \") \n",
    " \n",
    "# Driver code \n",
    "arr1 = [1, 3, 5, 7] \n",
    "n1 = len(arr1) \n",
    " \n",
    "arr2 = [2, 4, 6, 8] \n",
    "n2 = len(arr2) \n",
    "mergeArrays(arr1, arr2, n1, n2); \n"
   ]
  },
  {
   "cell_type": "markdown",
   "metadata": {},
   "source": [
    "### 23b)Do this with out using sort method\n",
    "\n"
   ]
  },
  {
   "cell_type": "code",
   "execution_count": 113,
   "metadata": {},
   "outputs": [
    {
     "name": "stdout",
     "output_type": "stream",
     "text": [
      "Enter size of table 115\n",
      "Enter size of table 223\n",
      "[1, 10, 20, 24, 25, 31, 34, 40, 46, 54, 56, 83, 85, 86, 97]\n",
      "------------------------------------\n",
      "[6, 9, 13, 14, 15, 21, 23, 23, 27, 30, 36, 42, 45, 52, 59, 61, 61, 69, 74, 77, 84, 90, 94]\n",
      "------------------------------------\n",
      "[1, 6, 9, 10, 13, 14, 15, 20, 21, 23, 23, 24, 25, 27, 30, 31, 34, 36, 40, 42, 45, 46, 52, 54, 56, 59, 61, 61, 69, 74, 77, 83, 84, 85, 86, 90, 94, 97]\n"
     ]
    }
   ],
   "source": [
    "import random\n",
    " \n",
    "n=int(input(\"Enter size of table 1\")); #size of list 1\n",
    "m=int(input(\"Enter size of table 2\")); # size of list 2\n",
    "tb1=[random.randrange(1,101,1) for _ in range(n)] # filling the list with random\n",
    "tb2=[random.randrange(1,101,1) for _ in range(m)] # numbers between 1 and 100\n",
    "tb1.sort(); #sort the list 1 \n",
    "tb2.sort(); # sort the list 2\n",
    "fus=[]; # creat an empty list\n",
    "print(tb1); # print the list 1\n",
    "print('------------------------------------');\n",
    "print(tb2); # print the list 2\n",
    "print('------------------------------------');\n",
    "i=0;j=0;  # varialbles to cross the list\n",
    "while(i<n and j<m):\n",
    "    if(tb1[i]<tb2[j]):\n",
    "        fus.append(tb1[i]); \n",
    "        i+=1;\n",
    "    else:\n",
    "        fus.append(tb2[j]);\n",
    "        j+=1;\n",
    " \n",
    "if(i<n):\n",
    "    fus+=tb1[i:n];\n",
    "if(j<m):\n",
    "    fus+=tb2[j:m];\n",
    " \n",
    "print(fus);\n",
    " \n",
    " \n"
   ]
  },
  {
   "cell_type": "markdown",
   "metadata": {},
   "source": [
    "### 23A) if data is string:\n",
    " \n"
   ]
  },
  {
   "cell_type": "code",
   "execution_count": 114,
   "metadata": {},
   "outputs": [
    {
     "name": "stdout",
     "output_type": "stream",
     "text": [
      "['1', '2', '3', '4', '5', 'a', 'h', 'i', 'n', 'p']\n"
     ]
    }
   ],
   "source": [
    " \n",
    " \n",
    "def merge(string1,string2):\n",
    "    a=string1+string2\n",
    "    print(sorted(a))\n",
    " \n",
    "merge('phani','54321')\n"
   ]
  },
  {
   "cell_type": "markdown",
   "metadata": {},
   "source": [
    "### 24) write a program that asks the user for a word and finds all the smaller words that can be made from the letters of that word. The number of occurrences of the letter in the user's word can’t exceed the number of occurrence of the letter in the user’s word.\n"
   ]
  },
  {
   "cell_type": "code",
   "execution_count": null,
   "metadata": {},
   "outputs": [],
   "source": []
  },
  {
   "cell_type": "markdown",
   "metadata": {},
   "source": [
    "### 25) Write a program that reads the file consisting of email addresses, each on its own line. Your program should print out a string consisting of those email addresses separated by semicolons.\n",
    " \n"
   ]
  },
  {
   "cell_type": "code",
   "execution_count": 117,
   "metadata": {},
   "outputs": [
    {
     "name": "stdout",
     "output_type": "stream",
     "text": [
      "4 emails collected!\n",
      "['siginamsettyphani@gmail.com ; phanisiginamsettyphani@gmail.com ; pk@gmail.com ; cbadhcbhchswdbvhbdvhjbyr3yr87y3r939fuw9fu@gmaijdbuvhudhuv.com']\n",
      "['siginamsettyphani@gmail.com ; phanisiginamsettyphani@gmail.com ; pk@gmail.com ; cbadhcbhchswdbvhbdvhjbyr3yr87y3r939fuw9fu@gmaijdbuvhudhuv.com']\n",
      "['siginamsettyphani@gmail.com ; phanisiginamsettyphani@gmail.com ; pk@gmail.com ; cbadhcbhchswdbvhbdvhjbyr3yr87y3r939fuw9fu@gmaijdbuvhudhuv.com']\n",
      "['siginamsettyphani@gmail.com ; phanisiginamsettyphani@gmail.com ; pk@gmail.com ; cbadhcbhchswdbvhbdvhjbyr3yr87y3r939fuw9fu@gmaijdbuvhudhuv.com']\n"
     ]
    }
   ],
   "source": [
    " \n",
    "import re\n",
    " \n",
    "fileToRead = 'emails.txt'\n",
    "fileToWrite = 'emailExtracted.txt'\n",
    " \n",
    " \n",
    "delimiterInFile = [',', ';']\n",
    " \n",
    "def validateEmail(strEmail):\n",
    "    # .* Zero or more characters of any type. \n",
    "    if re.match(\"(.*)@(.*).(.*)\", strEmail):\n",
    "        return True\n",
    "    return False\n",
    " \n",
    "def writeFile(listData):\n",
    "    file = open(fileToWrite, 'w+')\n",
    "    strData = \"\"\n",
    "    for item in listData:\n",
    "        strData = strData+item+'\\n'\n",
    "    file.write(strData)\n",
    " \n",
    "listEmail = []\n",
    "file = open(fileToRead, 'r') \n",
    "listLine = file.readlines()\n",
    "for itemLine in listLine:\n",
    "    item =str(itemLine)\n",
    "    for delimeter in delimiterInFile:\n",
    "        item = item.replace(str(delimeter),' ')\n",
    "     \n",
    "    wordList = item.split()\n",
    "    for word in wordList:\n",
    "        if(validateEmail(word)):\n",
    "            listEmail.append(word)\n",
    " \n",
    "if listEmail:\n",
    "    uniqEmail = set(listEmail)\n",
    "    print(len(uniqEmail),\"emails collected!\")\n",
    "    writeFile(uniqEmail)\n",
    "else:\n",
    "    print(\"No email found.\")\n",
    "    \n",
    "a=listEmail    \n",
    "for i in a[::-1]:\n",
    "    print(' ; '.join(a).split(','))\n",
    " \n"
   ]
  },
  {
   "cell_type": "markdown",
   "metadata": {},
   "source": [
    "### 26) Write a program that reads the list of temperatures from a file called temps.txt. converts those temperatures to Fahrenheit, and writes the results to a file called ftemps.txt.\n",
    " \n"
   ]
  },
  {
   "cell_type": "code",
   "execution_count": 121,
   "metadata": {},
   "outputs": [],
   "source": [
    " \n",
    "file1=open('ftemps.txt','w')\n",
    "temp=[int(line.strip()) for line in open('temps.txt','r')]\n",
    "for t in temp:\n",
    "    print(t*9/5+32,file=file1)\n",
    "file1.close()"
   ]
  },
  {
   "cell_type": "markdown",
   "metadata": {},
   "source": [
    "### 27) Write a class called Product . The class should have fields called name, amount, and price, holding the product’s name, the number of items of that product in stock , and the regular price of the product. There should be a method get_price  that recieves the number of items to be bought and returns the cost of the buying that many items, where the regular price is charged for orders of less than 10 items , a 10% discount is applied for orders of between 10 and 99 items, and a 20% discount is applied for orders of 100 or more items. There should also be a method called make_purchase that recives the number of items to be bought and decreases amount by that much. \n",
    "\n"
   ]
  },
  {
   "cell_type": "code",
   "execution_count": 122,
   "metadata": {},
   "outputs": [
    {
     "name": "stdout",
     "output_type": "stream",
     "text": [
      "Digit amount of items\n",
      "100\n",
      "Digit price of items\n",
      "5\n",
      "Digit amount of items to buy\n",
      "3\n",
      "Digit price of items\n",
      "2\n",
      "Final costs =  400.0\n",
      "Number of elements to buy400\n",
      "Elements to buy= 397\n"
     ]
    }
   ],
   "source": [
    "\n",
    "\n",
    "class Product:\n",
    "\n",
    "  def __init__(self,amount,price):\n",
    "    self.amount=amount\n",
    "    self.price=price\n",
    "\n",
    "  def get_price(self):\n",
    "    while self.amount>=0:\n",
    "      if self.amount<10:\n",
    "        return self.amount*self.price\n",
    "      elif 10<=self.amount<99:\n",
    "        return 0.9*self.amount*self.price\n",
    "      else:\n",
    "        return 0.8*self.amount*self.price\n",
    "\n",
    "  def make_purchase(self):\n",
    "    return int(input('Number of elements to buy'))-self.amount\n",
    "\n",
    "costs=Product(int(input('Digit amount of items\\n')),int(input('Digit price of items\\n')))\n",
    "purchases=Product(int(input('Digit amount of items to buy\\n')),int(input('Digit price of items\\n')))\n",
    "print('Final costs = ',costs.get_price())\n",
    "print('Elements to buy=',purchases.make_purchase())\n"
   ]
  },
  {
   "cell_type": "markdown",
   "metadata": {},
   "source": [
    "### 28) Write a class called Time whose only filed is a time in seconds. It should have a method called convert_to_minutes that returns the string of the minutes and seconds formatted as in the following example: if seconds is 230 , the method should return ‘5:50’. It should also have a method called convert_to_hours that returns the string of hours, minutes and seconds formatted analogously to the previous method.\n"
   ]
  },
  {
   "cell_type": "code",
   "execution_count": null,
   "metadata": {},
   "outputs": [],
   "source": []
  },
  {
   "cell_type": "markdown",
   "metadata": {},
   "source": [
    "### 30) Write a Python class to implement pow(x,n).\n",
    " \n"
   ]
  },
  {
   "cell_type": "code",
   "execution_count": 123,
   "metadata": {},
   "outputs": [
    {
     "name": "stdout",
     "output_type": "stream",
     "text": [
      "0.125\n",
      "243\n",
      "32\n",
      "1\n"
     ]
    }
   ],
   "source": [
    " \n",
    "class py_solution:\n",
    "   def pow(self, x, n):\n",
    "        if x==0 or x==1 or n==1:\n",
    "            return x \n",
    " \n",
    "        if x==-1:\n",
    "            if n%2 ==0:\n",
    "                return 1\n",
    "            else:\n",
    "                return -1\n",
    "        if n==0:\n",
    "            return 1\n",
    "        if n<0:\n",
    "            return 1/self.pow(x,-n)\n",
    "        val = self.pow(x,n//2)\n",
    "        if n%2 ==0:\n",
    "            return val*val\n",
    "        return val*val*x\n",
    " \n",
    "print(py_solution().pow(2, -3));\n",
    "print(py_solution().pow(3, 5));\n",
    "print(py_solution().pow(2, 5));\n",
    "print(py_solution().pow(100, 0));\n"
   ]
  },
  {
   "cell_type": "markdown",
   "metadata": {},
   "source": [
    "### 31) Write a Python class to reverse the a string word by word.\n",
    " \n"
   ]
  },
  {
   "cell_type": "code",
   "execution_count": 125,
   "metadata": {},
   "outputs": [
    {
     "name": "stdout",
     "output_type": "stream",
     "text": [
      "Phani Welcome\n"
     ]
    }
   ],
   "source": [
    " \n",
    "class py_solution:\n",
    "    def reverse_words(self, s):\n",
    "        return ' '.join(reversed(s.split()))\n",
    " \n",
    " \n",
    "print(py_solution().reverse_words('Welcome  Phani'))\n"
   ]
  },
  {
   "cell_type": "markdown",
   "metadata": {},
   "source": [
    "### 32) Write a Python program that opens a file dialog that allows you to select a text file. The program then displays the contents of the file in a textbox.\n",
    " \n"
   ]
  },
  {
   "cell_type": "code",
   "execution_count": 1,
   "metadata": {},
   "outputs": [
    {
     "name": "stdout",
     "output_type": "stream",
     "text": [
      "C:/Users/KIRAN/Desktop/Learning/Dashboard/MLAlgos/data.txt\n",
      "Code is like humor. When you have to explain it, it’b'Code is like humor. When you have to explain it, its bad.\n"
     ]
    }
   ],
   "source": [
    "from tkinter import *\n",
    "from tkinter import filedialog\n",
    " \n",
    "root=Tk()\n",
    "root.fileName=filedialog.askopenfilename(filetypes=(('python stuff','.py'),('All files',\"*.*\")))\n",
    "print(root.fileName)\n",
    "root.title(root.fileName)\n",
    " \n",
    "text1=open(root.fileName).read()\n",
    "print(text1)\n",
    " \n",
    " \n",
    "T=Text(root,height=15,width=60)\n",
    "T.pack()\n",
    "T.insert(END,text1)\n",
    "root.mainloop()\n"
   ]
  },
  {
   "cell_type": "markdown",
   "metadata": {},
   "source": [
    "### 33) Write a Python program to demonstrate Try/expect/else.\n",
    " \n"
   ]
  },
  {
   "cell_type": "code",
   "execution_count": 2,
   "metadata": {},
   "outputs": [
    {
     "name": "stdout",
     "output_type": "stream",
     "text": [
      "Enter a number: 5\n",
      "Not an even number!\n"
     ]
    }
   ],
   "source": [
    "# program to print the reciprocal of even numbers\n",
    " \n",
    "try:\n",
    "    num = int(input(\"Enter a number: \"))\n",
    "    assert num % 2 == 0\n",
    "except:\n",
    "    print(\"Not an even number!\")\n",
    "else:\n",
    "    reciprocal = 1/num\n",
    "    print(reciprocal)\n"
   ]
  },
  {
   "cell_type": "markdown",
   "metadata": {},
   "source": [
    "### 34) Write a Python program to demonstrate try/finally and with/as .\n",
    " \n"
   ]
  },
  {
   "cell_type": "code",
   "execution_count": 3,
   "metadata": {},
   "outputs": [
    {
     "name": "stdout",
     "output_type": "stream",
     "text": [
      "5\n",
      "This is always executed\n"
     ]
    }
   ],
   "source": [
    " \n",
    "# Python program to demonstrate finally \n",
    " \n",
    "try: \n",
    "\tk = 5//1 # No exception raised \n",
    "\tprint(k) \n",
    " \n",
    "# intends to handle zerodivision exception\t \n",
    "except ZeroDivisionError: \n",
    "\tprint(\"Can't divide by zero\") \n",
    "\t\n",
    "finally: \n",
    "\t# this block is always executed \n",
    "\t# regardless of exception generation. \n",
    "\tprint('This is always executed')\n"
   ]
  },
  {
   "cell_type": "code",
   "execution_count": 4,
   "metadata": {},
   "outputs": [],
   "source": [
    "# 1) without using with statement \n",
    "file = open('file_path', 'w') \n",
    "file.write('Dhanekula College !') \n",
    "file.close() \n",
    " \n",
    "# 2) without using with statement \n",
    "file = open('file_path', 'w') \n",
    "try: \n",
    "\tfile.write('Dhanekula Colleng') \n",
    "finally: \n",
    "\tfile.close() \n",
    "# using with statement \n",
    "with open('file_path', 'w') as file: \n",
    "\tfile.write('Dhanekula College !')\n"
   ]
  },
  {
   "cell_type": "code",
   "execution_count": null,
   "metadata": {},
   "outputs": [],
   "source": []
  }
 ],
 "metadata": {
  "kernelspec": {
   "display_name": "Python 3",
   "language": "python",
   "name": "python3"
  },
  "language_info": {
   "codemirror_mode": {
    "name": "ipython",
    "version": 3
   },
   "file_extension": ".py",
   "mimetype": "text/x-python",
   "name": "python",
   "nbconvert_exporter": "python",
   "pygments_lexer": "ipython3",
   "version": "3.7.4"
  }
 },
 "nbformat": 4,
 "nbformat_minor": 2
}
