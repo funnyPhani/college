{
 "cells": [
  {
   "cell_type": "code",
   "execution_count": null,
   "metadata": {},
   "outputs": [],
   "source": []
  },
  {
   "cell_type": "markdown",
   "metadata": {},
   "source": [
    "# 1a) Running instructions in Interactive interpreter and a Python Script "
   ]
  },
  {
   "cell_type": "code",
   "execution_count": null,
   "metadata": {},
   "outputs": [],
   "source": [
    "# interactive mode\n",
    ">>> if 5 > 10:\n",
    "...     print(\"5 is greater than 10\")\n",
    "... else:\n",
    "...     print(\"5 is less than 10\")\n"
   ]
  },
  {
   "cell_type": "code",
   "execution_count": 1,
   "metadata": {},
   "outputs": [
    {
     "name": "stdout",
     "output_type": "stream",
     "text": [
      "Enter weight in Kg to Convert into pounds:50\n",
      "50.0  Kilograms = 110.23  Pounds\n"
     ]
    }
   ],
   "source": [
    "#python script\n",
    "\n",
    "kilo_grams = float(input('Enter weight in Kg to Convert into pounds:'))\n",
    "pounds = kilo_grams * 2.2046\n",
    "print(kilo_grams,' Kilograms =', pounds,' Pounds')"
   ]
  },
  {
   "cell_type": "markdown",
   "metadata": {},
   "source": [
    "# 1b)  Write a program to purposefully raise Indentation Error and Correct it \n"
   ]
  },
  {
   "cell_type": "code",
   "execution_count": 29,
   "metadata": {},
   "outputs": [
    {
     "ename": "IndentationError",
     "evalue": "expected an indented block (<ipython-input-29-3db177847588>, line 2)",
     "output_type": "error",
     "traceback": [
      "\u001b[1;36m  File \u001b[1;32m\"<ipython-input-29-3db177847588>\"\u001b[1;36m, line \u001b[1;32m2\u001b[0m\n\u001b[1;33m    print(i)\u001b[0m\n\u001b[1;37m        ^\u001b[0m\n\u001b[1;31mIndentationError\u001b[0m\u001b[1;31m:\u001b[0m expected an indented block\n"
     ]
    }
   ],
   "source": [
    "for i in  range(1,5):\n",
    "print(i)"
   ]
  },
  {
   "cell_type": "code",
   "execution_count": 30,
   "metadata": {},
   "outputs": [
    {
     "name": "stdout",
     "output_type": "stream",
     "text": [
      "1\n",
      "2\n",
      "3\n",
      "4\n"
     ]
    }
   ],
   "source": [
    "for i in  range(1,5):\n",
    "    print(i)"
   ]
  },
  {
   "cell_type": "code",
   "execution_count": 29,
   "metadata": {},
   "outputs": [
    {
     "ename": "IndentationError",
     "evalue": "expected an indented block (<ipython-input-29-273cbfb1115f>, line 4)",
     "output_type": "error",
     "traceback": [
      "\u001b[1;36m  File \u001b[1;32m\"<ipython-input-29-273cbfb1115f>\"\u001b[1;36m, line \u001b[1;32m4\u001b[0m\n\u001b[1;33m    print(a)\u001b[0m\n\u001b[1;37m        ^\u001b[0m\n\u001b[1;31mIndentationError\u001b[0m\u001b[1;31m:\u001b[0m expected an indented block\n"
     ]
    }
   ],
   "source": [
    "a=0\n",
    "b=10\n",
    "while a<=b:\n",
    "print(a)\n",
    "a=a+1"
   ]
  },
  {
   "cell_type": "code",
   "execution_count": 31,
   "metadata": {},
   "outputs": [
    {
     "name": "stdout",
     "output_type": "stream",
     "text": [
      "0\n",
      "1\n",
      "2\n",
      "3\n",
      "4\n",
      "5\n",
      "6\n",
      "7\n",
      "8\n",
      "9\n"
     ]
    }
   ],
   "source": [
    "a=0\n",
    "b=10\n",
    "while a<b:\n",
    "    print(a)\n",
    "    a=a+1"
   ]
  },
  {
   "cell_type": "markdown",
   "metadata": {},
   "source": [
    "## 2a) a) Write a program to compute distance between two points taking input from the user (Pythagorean Theorem) "
   ]
  },
  {
   "cell_type": "code",
   "execution_count": 22,
   "metadata": {},
   "outputs": [
    {
     "name": "stdout",
     "output_type": "stream",
     "text": [
      "enter first coordinate : 10,20\n",
      "enter second coordinate : 15,19\n",
      "distance between  10,20 and 15,19 is 5.0990195135927845\n"
     ]
    }
   ],
   "source": [
    "\n",
    "import math\n",
    "\n",
    "a=input(\"enter first coordinate : \")\n",
    "\n",
    "p1 = a.split(\",\")\n",
    "\n",
    "b=input(\"enter second coordinate : \")\n",
    "\n",
    "p2 = b.split(\",\")\n",
    "\n",
    "distance = math.sqrt( ((int(p1[0])-int(p2[0]))**2)+((int(p1[1])-int(p2[1]))**2) )\n",
    "\n",
    "print(\"distance between \", a,\"and\", b, \"is\",distance) "
   ]
  },
  {
   "cell_type": "markdown",
   "metadata": {},
   "source": [
    "# 2b)  Write a program add.py that takes 2 numbers as command line arguments and prints its sum. \n"
   ]
  },
  {
   "cell_type": "code",
   "execution_count": null,
   "metadata": {},
   "outputs": [],
   "source": [
    "import sys\n",
    "x=int(sys.argv[1])\n",
    "y=int(sys.argv[2])\n",
    "z=int(sys.argv[3])\n",
    "\n",
    "sum=x+y+z\n",
    "print(\"The addition is :\",sum)\n",
    " ## if you want to run save the file as add.py and run python add.py 1 5 8"
   ]
  },
  {
   "cell_type": "markdown",
   "metadata": {},
   "source": [
    "# 3a) Write a Program for checking whether the given number is a even number or not. "
   ]
  },
  {
   "cell_type": "code",
   "execution_count": 35,
   "metadata": {},
   "outputs": [
    {
     "name": "stdout",
     "output_type": "stream",
     "text": [
      "enter number :5\n",
      "odd number\n"
     ]
    }
   ],
   "source": [
    "a=int(input('enter number :'))\n",
    "if a%2==0:\n",
    "    print('even number')\n",
    "else:\n",
    "    print('odd number')"
   ]
  },
  {
   "cell_type": "markdown",
   "metadata": {},
   "source": [
    "# 3b) Using a for loop, write a program that prints out the decimal equivalents of 1/2, 1/3, 1/4, . . . , 1/10"
   ]
  },
  {
   "cell_type": "code",
   "execution_count": 48,
   "metadata": {},
   "outputs": [
    {
     "name": "stdout",
     "output_type": "stream",
     "text": [
      "1/ 2 = 0.5\n",
      "1/ 3 = 0.3333333333333333\n",
      "1/ 4 = 0.25\n",
      "1/ 5 = 0.2\n",
      "1/ 6 = 0.16666666666666666\n",
      "1/ 7 = 0.14285714285714285\n",
      "1/ 8 = 0.125\n",
      "1/ 9 = 0.1111111111111111\n",
      "1/ 10 = 0.1\n"
     ]
    }
   ],
   "source": [
    "for i in range (2,11):\n",
    "  print(\"1/\",i,\"=\",1/i)"
   ]
  },
  {
   "cell_type": "markdown",
   "metadata": {},
   "source": [
    "# 3c)Write a program using a for loop that loops over a sequence. What is sequence ? "
   ]
  },
  {
   "cell_type": "code",
   "execution_count": 40,
   "metadata": {},
   "outputs": [
    {
     "name": "stdout",
     "output_type": "stream",
     "text": [
      "The sum is 48\n"
     ]
    }
   ],
   "source": [
    "# Program to find the sum of all numbers stored in a list\n",
    "\n",
    "# List of numbers\n",
    "numbers = [6, 5, 3, 8, 4, 2, 5, 4, 11]\n",
    "\n",
    "# variable to store the sum\n",
    "sum = 0\n",
    "\n",
    "# iterate over the list\n",
    "for val in numbers:\n",
    "\tsum = sum+val\n",
    "\n",
    "print(\"The sum is\", sum)"
   ]
  },
  {
   "cell_type": "code",
   "execution_count": 49,
   "metadata": {},
   "outputs": [
    {
     "name": "stdout",
     "output_type": "stream",
     "text": [
      "how do u do\n",
      "h\n",
      "o\n",
      "w\n",
      " \n",
      "d\n",
      "o\n",
      " \n",
      "u\n",
      " \n",
      "d\n",
      "o\n"
     ]
    }
   ],
   "source": [
    "a=input()\n",
    "for i in a:\n",
    "    print(i)"
   ]
  },
  {
   "cell_type": "markdown",
   "metadata": {},
   "source": [
    "# 3d) Write a program using a while loop that asks the user for a number, and prints a countdown from that number to zero"
   ]
  },
  {
   "cell_type": "code",
   "execution_count": 51,
   "metadata": {},
   "outputs": [
    {
     "name": "stdout",
     "output_type": "stream",
     "text": [
      "Enter your number10\n",
      "10\n",
      "9\n",
      "8\n",
      "7\n",
      "6\n",
      "5\n",
      "4\n",
      "3\n",
      "2\n",
      "1\n",
      "0\n"
     ]
    }
   ],
   "source": [
    "num=int(input(\"Enter your number\"))\n",
    "\n",
    "while(num>=0):\n",
    "\n",
    "    print(num)\n",
    "\n",
    "    num=num-1"
   ]
  },
  {
   "cell_type": "code",
   "execution_count": 28,
   "metadata": {},
   "outputs": [
    {
     "name": "stdout",
     "output_type": "stream",
     "text": [
      "5\n",
      "4\n",
      "3\n",
      "2\n"
     ]
    }
   ],
   "source": [
    "for i in range(5,1,-1):\n",
    "    print(i)"
   ]
  },
  {
   "cell_type": "markdown",
   "metadata": {},
   "source": [
    "# 4a)  Find the sum of all the primes below two million."
   ]
  },
  {
   "cell_type": "code",
   "execution_count": null,
   "metadata": {},
   "outputs": [],
   "source": [
    "sum=0\n",
    "for i in range (2,2000001):\n",
    "   c=0\n",
    "   for j in range(1,i+1):\n",
    "      if i%j==0 :\n",
    "        c=c+1\n",
    "        if c==2 :\n",
    "          sum=sum+i\n",
    "print(\"Sum of prime numbers :\",sum)\n",
    "   "
   ]
  },
  {
   "cell_type": "markdown",
   "metadata": {},
   "source": [
    "# 4b) ) Each new term in the Fibonacci sequence is generated by adding the previous two terms. By starting 1with 1 and 2, the first 10 terms will be:"
   ]
  },
  {
   "cell_type": "code",
   "execution_count": 48,
   "metadata": {},
   "outputs": [
    {
     "name": "stdout",
     "output_type": "stream",
     "text": [
      "How many terms? 10\n",
      "Fibonacci sequence:\n",
      "1\n",
      "2\n",
      "3\n",
      "5\n",
      "8\n",
      "13\n",
      "21\n",
      "34\n",
      "55\n",
      "89\n"
     ]
    }
   ],
   "source": [
    "# Program to display the Fibonacci sequence up to n-th term\n",
    "\n",
    "nterms = int(input(\"How many terms? \"))\n",
    "\n",
    "# first two terms\n",
    "n1, n2 = 1, 2\n",
    "count = 0\n",
    "\n",
    "# check if the number of terms is valid\n",
    "if nterms <= 0:\n",
    "   print(\"Please enter a positive integer\")\n",
    "elif nterms == 1:\n",
    "   print(\"Fibonacci sequence upto\",nterms,\":\")\n",
    "   print(n1)\n",
    "else:\n",
    "   print(\"Fibonacci sequence:\")\n",
    "   while count < nterms:\n",
    "       print(n1)\n",
    "       nth = n1 + n2\n",
    "       # update values\n",
    "       n1 = n2\n",
    "       n2 = nth\n",
    "       count += 1"
   ]
  },
  {
   "cell_type": "code",
   "execution_count": 50,
   "metadata": {},
   "outputs": [
    {
     "name": "stdout",
     "output_type": "stream",
     "text": [
      "Fibonacci sequence:\n",
      "0\n",
      "1\n",
      "1\n",
      "2\n",
      "3\n",
      "5\n",
      "8\n",
      "13\n",
      "21\n",
      "34\n",
      "55\n",
      "89\n",
      "144\n",
      "233\n",
      "377\n"
     ]
    }
   ],
   "source": [
    "# Python program to display the Fibonacci sequence\n",
    "\n",
    "def recur_fibo(n):\n",
    "   if n <= 1:\n",
    "       return n\n",
    "   else:\n",
    "       return(recur_fibo(n-1) + recur_fibo(n-2))\n",
    "\n",
    "nterms = 15\n",
    "\n",
    "# check if the number of terms is valid\n",
    "if nterms <= 0:\n",
    "   print(\"Plese enter a positive integer\")\n",
    "else:\n",
    "   print(\"Fibonacci sequence:\")\n",
    "   for i in range(nterms):\n",
    "       print(recur_fibo(i))"
   ]
  },
  {
   "cell_type": "markdown",
   "metadata": {},
   "source": [
    "# 4d) By considering the terms in the Fibonacci sequence whose values do not exceed four million, find the sum of the even-valued terms."
   ]
  },
  {
   "cell_type": "code",
   "execution_count": 4,
   "metadata": {},
   "outputs": [
    {
     "name": "stdout",
     "output_type": "stream",
     "text": [
      "4613732\n"
     ]
    }
   ],
   "source": [
    "\n",
    "\n",
    "prev, cur = 0, 1\n",
    "total = 0\n",
    "while True:\n",
    "    prev, cur = cur, prev + cur\n",
    "    if cur >= 4000000:\n",
    "        break\n",
    "    if cur % 2 == 0:\n",
    "        total += cur\n",
    "print(total)"
   ]
  },
  {
   "cell_type": "markdown",
   "metadata": {},
   "source": [
    "# 5a) Write a program to count the numbers of characters in the string and store them in a dictionary data structure"
   ]
  },
  {
   "cell_type": "code",
   "execution_count": 9,
   "metadata": {},
   "outputs": [
    {
     "name": "stdout",
     "output_type": "stream",
     "text": [
      "enter string : phani kumar\n",
      "{'p': 1, 'h': 1, 'a': 2, 'n': 1, 'i': 1, ' ': 1, 'k': 1, 'u': 1, 'm': 1, 'r': 1}\n"
     ]
    }
   ],
   "source": [
    "str=input(\"enter string : \")\n",
    "\n",
    "f = {} \n",
    "\n",
    "for i in str: \n",
    "\n",
    "    if i in f: \n",
    "\n",
    "        f[i] += 1\n",
    "\n",
    "    else: \n",
    "\n",
    "        f[i] = 1\n",
    "\n",
    "print(f)"
   ]
  },
  {
   "cell_type": "markdown",
   "metadata": {},
   "source": [
    "# 5b) Write a program to use split and join methods in the string and trace a birthday with a dictionary data structure"
   ]
  },
  {
   "cell_type": "code",
   "execution_count": 12,
   "metadata": {},
   "outputs": [
    {
     "name": "stdout",
     "output_type": "stream",
     "text": [
      "Enter date of birth:\n",
      "23/10/1996\n",
      "{'birthday': '23-10-1996'}\n",
      "23-10-1996\n"
     ]
    }
   ],
   "source": [
    "bdaystr=input(\"Enter date of birth:\\n\")\n",
    "bdaylist=bdaystr.split(\"/\")\n",
    "bday='-'.join(bdaylist)\n",
    "bdaydict={\"birthday\":bday}\n",
    "print(bdaydict)\n",
    "if 'birthday' in bdaydict:\n",
    "    print(bdaydict['birthday'])"
   ]
  },
  {
   "cell_type": "markdown",
   "metadata": {},
   "source": [
    "# 6a) Write a program combine_lists that combines these lists into a dictionary"
   ]
  },
  {
   "cell_type": "code",
   "execution_count": 2,
   "metadata": {},
   "outputs": [
    {
     "name": "stdout",
     "output_type": "stream",
     "text": [
      "Original key list is : ['I', 'love', 'Python']\n",
      "Original value list is : [1, 4, 3]\n",
      "Resultant dictionary is : {'I': 1, 'love': 4, 'Python': 3}\n"
     ]
    }
   ],
   "source": [
    "\n",
    "\n",
    "# initializing lists \n",
    "test_keys = [\"I\", \"love\", \"Python\"] \n",
    "test_values = [1, 4, 3] \n",
    "\n",
    "# Printing original keys-value lists \n",
    "print (\"Original key list is : \" + str(test_keys)) \n",
    "print (\"Original value list is : \" + str(test_values)) \n",
    "\n",
    "# using naive method \n",
    "# to convert lists to dictionary \n",
    "res = {} \n",
    "for key in test_keys: \n",
    "    for value in test_values: \n",
    "        res[key] = value \n",
    "        test_values.remove(value) \n",
    "        break\n",
    "\n",
    "# Printing resultant dictionary \n",
    "print (\"Resultant dictionary is : \" + str(res)) \n"
   ]
  },
  {
   "cell_type": "code",
   "execution_count": 25,
   "metadata": {},
   "outputs": [
    {
     "name": "stdout",
     "output_type": "stream",
     "text": [
      "['I', 'Love', 'Python', 1, 4, 3]\n",
      "{1: ['I', 'Love', 'Python'], 2: [1, 4, 3], 'combine_list': ['I', 'Love', 'Python', 1, 4, 3]}\n"
     ]
    }
   ],
   "source": [
    "l=['I','Love','Python']\n",
    "k=[1,4,3]\n",
    "m=[]\n",
    "m.extend(l);\n",
    "m.extend(k);\n",
    "print(m)\n",
    "d={1:l,2:k,'combine_list':m}\n",
    "print(d)"
   ]
  },
  {
   "cell_type": "markdown",
   "metadata": {},
   "source": [
    "# 6b) Write a program to count frequency of characters in a given file. Can you use character frequency to tell whether the given file is a Python program file, C program file or a text file?"
   ]
  },
  {
   "cell_type": "code",
   "execution_count": 4,
   "metadata": {},
   "outputs": [
    {
     "name": "stdout",
     "output_type": "stream",
     "text": [
      "Counter({' ': 31,\n",
      "         'E': 21,\n",
      "         'S': 15,\n",
      "         'R': 13,\n",
      "         'I': 13,\n",
      "         'O': 12,\n",
      "         'N': 12,\n",
      "         'A': 11,\n",
      "         'C': 10,\n",
      "         'T': 9,\n",
      "         'U': 8,\n",
      "         'D': 8,\n",
      "         'L': 8,\n",
      "         'F': 4,\n",
      "         'H': 4,\n",
      "         'G': 3,\n",
      "         'W': 3,\n",
      "         'M': 3,\n",
      "         '0': 3,\n",
      "         'P': 2,\n",
      "         'V': 2,\n",
      "         ',': 2,\n",
      "         'K': 2,\n",
      "         'Y': 1,\n",
      "         '1': 1,\n",
      "         '(': 1,\n",
      "         ')': 1,\n",
      "         '2': 1,\n",
      "         '.': 1})\n",
      "it is a text file\n"
     ]
    }
   ],
   "source": [
    "import collections\n",
    "\n",
    "import pprint\n",
    "\n",
    "file_input = \"File1.txt\"\n",
    "\n",
    "with open(file_input, 'r') as info:\n",
    "\n",
    "  count = collections.Counter(info.read().upper())\n",
    "\n",
    "  value = pprint.pformat(count)\n",
    "\n",
    "print(value)\n",
    "\n",
    "a=file_input.split(\".\")\n",
    "\n",
    "if a[1]==\"txt\":\n",
    "\n",
    "    print(\"it is a text file\")\n",
    "\n",
    "elif a[1]==\"cpp\":\n",
    "\n",
    "    print(\"it is a c++ file\")\n",
    "\n",
    "else:\n",
    "\n",
    "    print(\"it is a c file\")"
   ]
  },
  {
   "cell_type": "code",
   "execution_count": 5,
   "metadata": {},
   "outputs": [],
   "source": [
    "# import pandas as pd\n",
    "# with open('file.txt') as f:\n",
    "#     pk=f.read().lower()\n",
    "# print(pk)\n",
    "# a=pk.split()\n",
    "# print(a)\n",
    "# df=pd.DataFrame(a,columns=['data'])\n",
    "# df.data.value_counts()"
   ]
  },
  {
   "cell_type": "markdown",
   "metadata": {},
   "source": [
    "# 7a)Write a program to print each line of a file in reverse order. "
   ]
  },
  {
   "cell_type": "code",
   "execution_count": 30,
   "metadata": {},
   "outputs": [],
   "source": [
    "# Open the file in write mode\n",
    "f1 = open(\"output1.txt\", \"w\")\n",
    "\n",
    "\n",
    "with open(\"file.txt\", \"r\") as myfile:\n",
    "    data = myfile.read()\n",
    "\n",
    "\n",
    "data_1 = data[::-1]\n",
    "\n",
    "\n",
    "f1.write(data_1)\n",
    "\n",
    "f1.close()\n"
   ]
  },
  {
   "cell_type": "markdown",
   "metadata": {},
   "source": [
    "# 7b) b) Write a program to compute the number of characters, words and lines in a file. \n"
   ]
  },
  {
   "cell_type": "code",
   "execution_count": 31,
   "metadata": {},
   "outputs": [
    {
     "name": "stdout",
     "output_type": "stream",
     "text": [
      "The no.of chars is 59\n",
      " The no.of words is 6\n",
      " The no.of lines is 3\n"
     ]
    }
   ],
   "source": [
    "k=open('output1.txt','r')\n",
    "char,wc,lc=0,0,0\n",
    "for line in k:\n",
    " for k in range(0,len(line)):\n",
    "     char +=1\n",
    "     if(line[k]==' '):\n",
    "         wc+=1\n",
    "     if(line[k]=='\\n'):\n",
    "         wc,lc=wc+1,lc+1 \n",
    "print(\"The no.of chars is %d\\n The no.of words is %d\\n The no.of lines is %d\"%(char,wc,lc)) "
   ]
  },
  {
   "cell_type": "markdown",
   "metadata": {},
   "source": [
    "# 8a) Write a function ball_collide that takes two balls as parameters and computes if they are colliding. Your function should return a Boolean representing whether or not the balls are colliding.\n",
    "Hint: Represent a ball on a plane as a tuple of (x, y, r), r being the radius\n",
    "If (distance between two balls centers) <= (sum of their radii) then (they are colliding)"
   ]
  },
  {
   "cell_type": "code",
   "execution_count": 32,
   "metadata": {},
   "outputs": [
    {
     "name": "stdout",
     "output_type": "stream",
     "text": [
      "Distance b/w two balls: 2.8284271247461903\n",
      "Collision point 1.4142135623730951\n",
      "Sum of radious 6\n",
      "They are Colliding\n",
      "True\n"
     ]
    }
   ],
   "source": [
    "import math\n",
    "def ball_collide(x1,y1,r1,x2,y2,r2):\n",
    " dist=math.sqrt((x2-x1)**2+(y2-y1)**2);\n",
    " print(\"Distance b/w two balls:\",dist)\n",
    " center=dist/2;\n",
    " print(\"Collision point\",center);\n",
    " r=r1+r2;\n",
    " print(\"Sum of radious\",r)\n",
    " if(center<=r):\n",
    "     print(\"They are Colliding\")\n",
    "     return True;\n",
    " else:\n",
    "     print(\"Not Colliding\")\n",
    "     return False;\n",
    "\n",
    "c=ball_collide(4,4,3,2,2,3)\n",
    "print(c)"
   ]
  },
  {
   "cell_type": "markdown",
   "metadata": {},
   "source": [
    "# 8b) Find mean, median, mode for the given set of numbers in a list."
   ]
  },
  {
   "cell_type": "code",
   "execution_count": 33,
   "metadata": {},
   "outputs": [
    {
     "name": "stdout",
     "output_type": "stream",
     "text": [
      "Mean 19.9\n",
      "Median 13.5\n",
      "Mode 18\n"
     ]
    }
   ],
   "source": [
    "from statistics import mean,median,mode\n",
    "l = [15, 18, 2, 36, 12, 78, 5, 6, 9,18]\n",
    "print(\"Mean\",mean(l))\n",
    "print(\"Median\",median(l))\n",
    "print(\"Mode\",mode(l)) "
   ]
  },
  {
   "cell_type": "markdown",
   "metadata": {},
   "source": [
    "# 9a) Write a function nearly_equal to test whether two strings are nearly equal. Two strings a and b are nearly equal when a can be generated by a single mutation on b."
   ]
  },
  {
   "cell_type": "code",
   "execution_count": 34,
   "metadata": {},
   "outputs": [
    {
     "name": "stdout",
     "output_type": "stream",
     "text": [
      "Both Strings are similar\n",
      "a is mutation on b\n"
     ]
    }
   ],
   "source": [
    "from difflib import SequenceMatcher\n",
    "def Nearly_Equal(a,b):\n",
    " return SequenceMatcher(None,a,b).ratio();\n",
    "a=\"khit\"\n",
    "b=\"khitc\"\n",
    "c=Nearly_Equal(a,b)\n",
    "if(c*100>80):\n",
    " print(\"Both Strings are similar\")\n",
    " print(\"a is mutation on b\") \n",
    "else:\n",
    " print(\"Both Strings are Different\") "
   ]
  },
  {
   "cell_type": "code",
   "execution_count": 35,
   "metadata": {},
   "outputs": [
    {
     "name": "stdout",
     "output_type": "stream",
     "text": [
      "Enter first string: phani\n",
      "Enter second string: phanindra\n",
      "\n",
      "Strings are not equal.\n",
      "phani != phanindra\n"
     ]
    }
   ],
   "source": [
    "string1 = input(\"Enter first string: \")\n",
    "\n",
    "string2 = input(\"Enter second string: \")\n",
    "\n",
    "if string1 == string2:\n",
    "\n",
    "    print(\"\\nBoth strings are equal to each other.\")\n",
    "\n",
    "    print(string1,\"==\",string2);\n",
    "\n",
    "else:\n",
    "\n",
    "    print(\"\\nStrings are not equal.\")\n",
    "\n",
    "    print(string1,\"!=\",string2); "
   ]
  },
  {
   "cell_type": "markdown",
   "metadata": {},
   "source": [
    "# 9b) Write a function dups to find all duplicates in the list."
   ]
  },
  {
   "cell_type": "code",
   "execution_count": 41,
   "metadata": {},
   "outputs": [
    {
     "name": "stdout",
     "output_type": "stream",
     "text": [
      "[8, 64, 16, 32, 4, 24]\n",
      "There are no duplicates in list\n",
      "[2, 2, 3, 6, 78, 65, 4, 4, 5]\n",
      "There are duplicates in list\n"
     ]
    },
    {
     "data": {
      "text/plain": [
       "True"
      ]
     },
     "execution_count": 41,
     "metadata": {},
     "output_type": "execute_result"
    }
   ],
   "source": [
    "def FindDuplicates(list):\n",
    "\n",
    " for i in list:\n",
    "     count = list.count(i)\n",
    "     if count > 1:\n",
    "         print ('There are duplicates in list')\n",
    "         return True\n",
    " print ('There are no duplicates in list' )\n",
    " return False\n",
    "\n",
    "a = [8, 64, 16, 32, 4, 24]\n",
    "b = [2,2,3,6,78,65,4,4,5]\n",
    "print(a)\n",
    "FindDuplicates(a)\n",
    "print(b)\n",
    "FindDuplicates(b) "
   ]
  },
  {
   "cell_type": "markdown",
   "metadata": {},
   "source": [
    "# 9c) Write a function unique to find all the unique elements of a list"
   ]
  },
  {
   "cell_type": "code",
   "execution_count": 43,
   "metadata": {},
   "outputs": [
    {
     "name": "stdout",
     "output_type": "stream",
     "text": [
      "[8, 64, 16, 32, 4, 24]\n",
      "There are unique elements in list\n",
      "[2, 2, 3, 6, 78, 65, 4, 4, 5]\n",
      "There are no unique elements in list\n"
     ]
    },
    {
     "data": {
      "text/plain": [
       "True"
      ]
     },
     "execution_count": 43,
     "metadata": {},
     "output_type": "execute_result"
    }
   ],
   "source": [
    "def FindUnique(list):\n",
    " unique = set(list)\n",
    " for i in unique:\n",
    "    count = list.count(i)\n",
    "    if count > 1:\n",
    "        print ('There are no unique elements in list')\n",
    "        return True\n",
    " print ('There are unique elements in list' )\n",
    " return False\n",
    "\n",
    "a = [8, 64, 16, 32, 4, 24]\n",
    "b = [2,2,3,6,78,65,4,4,5]\n",
    "print(a)\n",
    "FindUnique(a)\n",
    "print(b)\n",
    "FindUnique(b) "
   ]
  },
  {
   "cell_type": "code",
   "execution_count": 44,
   "metadata": {},
   "outputs": [
    {
     "data": {
      "text/plain": [
       "{2, 3, 4, 5, 6, 65, 78}"
      ]
     },
     "execution_count": 44,
     "metadata": {},
     "output_type": "execute_result"
    }
   ],
   "source": [
    "b = [2,2,3,6,78,65,4,4,5]\n",
    "set(b)"
   ]
  },
  {
   "cell_type": "markdown",
   "metadata": {},
   "source": [
    "# 10a) Write a function cumulative_product to compute cumulative product of a list of numbers."
   ]
  },
  {
   "cell_type": "code",
   "execution_count": 50,
   "metadata": {},
   "outputs": [
    {
     "name": "stdout",
     "output_type": "stream",
     "text": [
      "1\n",
      "2\n",
      "6\n",
      "24\n",
      "120\n",
      "720\n",
      "5040\n",
      "40320\n",
      "362880\n",
      "3628800\n"
     ]
    }
   ],
   "source": [
    "def product(list):\n",
    " p =1\n",
    " for i in list:\n",
    "     p *= i\n",
    "     print(p)\n",
    " return p\n",
    "arr= [1,2,3,4,5,6,7,8,9,10]\n",
    "c=product(arr) "
   ]
  },
  {
   "cell_type": "markdown",
   "metadata": {},
   "source": [
    "# 10b. Write a function reverse to reverse a list. Without using the reverse function. \n"
   ]
  },
  {
   "cell_type": "code",
   "execution_count": 52,
   "metadata": {},
   "outputs": [
    {
     "name": "stdout",
     "output_type": "stream",
     "text": [
      "[5, 'Phani', 4, 3, 2, 1]\n"
     ]
    }
   ],
   "source": [
    "l = [1,2,3,4,'Phani',5]\n",
    "print (l[::-1]) \n"
   ]
  },
  {
   "cell_type": "markdown",
   "metadata": {},
   "source": [
    "# 10c) Write function to compute gcd, lcm of two numbers. Each function shouldn’t exceed one line."
   ]
  },
  {
   "cell_type": "code",
   "execution_count": 58,
   "metadata": {},
   "outputs": [],
   "source": [
    "# import warnings\n",
    "# warnings.filterwarnings('ignore')"
   ]
  },
  {
   "cell_type": "code",
   "execution_count": 70,
   "metadata": {},
   "outputs": [
    {
     "name": "stdout",
     "output_type": "stream",
     "text": [
      "Enter n1 value:8\n",
      "Enter n2 value:14\n",
      "GCD value is: 2\n",
      "LCM value is: 56\n"
     ]
    }
   ],
   "source": [
    "import fractions\n",
    "n1 = int(input(\"Enter n1 value:\"))\n",
    "n2 = int(input(\"Enter n2 value:\"))\n",
    "gcd = fractions.gcd(n1, n2)\n",
    "print(\"GCD value is:\",gcd)\n",
    "def lcm(n, m):\n",
    " return n * m / gcd\n",
    "\n",
    "print(\"LCM value is:\",int(lcm(n1,n2))) "
   ]
  },
  {
   "cell_type": "markdown",
   "metadata": {},
   "source": [
    "# 11a) Write a program that defines a matrix and prints "
   ]
  },
  {
   "cell_type": "code",
   "execution_count": 64,
   "metadata": {},
   "outputs": [
    {
     "name": "stdout",
     "output_type": "stream",
     "text": [
      "Enter the number of rows:2\n",
      "Enter the number of columns:2\n",
      "Enter the entries rowwise:\n",
      "1\n",
      "2\n",
      "3\n",
      "4\n",
      "1 2 \n",
      "3 4 \n"
     ]
    }
   ],
   "source": [
    "# A basic code for matrix input from user \n",
    "\n",
    "R = int(input(\"Enter the number of rows:\")) \n",
    "C = int(input(\"Enter the number of columns:\")) \n",
    "\n",
    "# Initialize matrix \n",
    "matrix = [] \n",
    "print(\"Enter the entries rowwise:\") \n",
    "\n",
    "# For user input \n",
    "for i in range(R):\t\t # A for loop for row entries \n",
    "\ta =[] \n",
    "\tfor j in range(C):\t # A for loop for column entries \n",
    "\t\ta.append(int(input())) \n",
    "\tmatrix.append(a) \n",
    "\n",
    "# For printing the matrix \n",
    "for i in range(R): \n",
    "\tfor j in range(C): \n",
    "\t\tprint(matrix[i][j], end = \" \") \n",
    "\tprint()\n"
   ]
  },
  {
   "cell_type": "code",
   "execution_count": 59,
   "metadata": {},
   "outputs": [
    {
     "name": "stdout",
     "output_type": "stream",
     "text": [
      "Enter No of Rows for 1st Matrix:3\n",
      "Enter No of column for 1nd Matrix:3\n",
      "Enter No of Rows for 2st Matrix:3\n",
      "Enter No of column for 2nd Matrix:3\n",
      "('Enter value for X[', 0, '][', 0, ']:')1\n",
      "('Enter value for X[', 0, '][', 1, ']:')2\n",
      "('Enter value for X[', 0, '][', 2, ']:')3\n",
      "('Enter value for X[', 1, '][', 0, ']:')4\n",
      "('Enter value for X[', 1, '][', 1, ']:')5\n",
      "('Enter value for X[', 1, '][', 2, ']:')6\n",
      "('Enter value for X[', 2, '][', 0, ']:')7\n",
      "('Enter value for X[', 2, '][', 1, ']:')8\n",
      "('Enter value for X[', 2, '][', 2, ']:')9\n",
      "('Enter value for Y[', 0, '][', 0, ']:')10\n",
      "('Enter value for Y[', 0, '][', 1, ']:')11\n",
      "('Enter value for Y[', 0, '][', 2, ']:')12\n",
      "('Enter value for Y[', 1, '][', 0, ']:')13\n",
      "('Enter value for Y[', 1, '][', 1, ']:')14\n",
      "('Enter value for Y[', 1, '][', 2, ']:')15\n",
      "('Enter value for Y[', 2, '][', 0, ']:')16\n",
      "('Enter value for Y[', 2, '][', 1, ']:')17\n",
      "('Enter value for Y[', 2, '][', 2, ']:')18\n",
      "1st Matrix X: [[1, 2, 3], [4, 5, 6], [7, 8, 9]]\n",
      "2st Matrix Y: [[10, 11, 12], [13, 14, 15], [16, 17, 18]]\n"
     ]
    }
   ],
   "source": [
    "row=int(input(\"Enter No of Rows for 1st Matrix:\"))\n",
    "column=int(input(\"Enter No of column for 1nd Matrix:\"))\n",
    "row1=int(input(\"Enter No of Rows for 2st Matrix:\"))\n",
    "column1=int(input(\"Enter No of column for 2nd Matrix:\"))\n",
    "X = [[int(input((\"Enter value for X[\",i,\"][\",j,\"]:\"))) for j\n",
    "in range(column)] for i in range(row)]\n",
    "Y = [[int(input((\"Enter value for Y[\",i,\"][\",j,\"]:\"))) for j\n",
    "in range(column1)] for i in range(row1)] \n",
    "print(\"1st Matrix X:\",X)\n",
    "print(\"2st Matrix Y:\",Y) "
   ]
  },
  {
   "cell_type": "markdown",
   "metadata": {},
   "source": [
    "# 11b) Write a program to perform addition of two square matrices "
   ]
  },
  {
   "cell_type": "code",
   "execution_count": 67,
   "metadata": {},
   "outputs": [
    {
     "name": "stdout",
     "output_type": "stream",
     "text": [
      "[17, 15, 4]\n",
      "[10, 12, 9]\n",
      "[11, 13, 18]\n"
     ]
    }
   ],
   "source": [
    "# Program to add two matrices using nested loop\n",
    "\n",
    "X = [[12,7,3],\n",
    "    [4 ,5,6],\n",
    "    [7 ,8,9]]\n",
    "\n",
    "Y = [[5,8,1],\n",
    "    [6,7,3],\n",
    "    [4,5,9]]\n",
    "\n",
    "result = [[0,0,0],\n",
    "         [0,0,0],\n",
    "         [0,0,0]]\n",
    "\n",
    "# iterate through rows\n",
    "for i in range(len(X)):\n",
    "   # iterate through columns\n",
    "   for j in range(len(X[0])):\n",
    "       result[i][j] = X[i][j] + Y[i][j]\n",
    "\n",
    "for r in result:\n",
    "   print(r)"
   ]
  },
  {
   "cell_type": "code",
   "execution_count": null,
   "metadata": {},
   "outputs": [],
   "source": []
  },
  {
   "cell_type": "code",
   "execution_count": 64,
   "metadata": {},
   "outputs": [
    {
     "name": "stdout",
     "output_type": "stream",
     "text": [
      "Enter No of Rows for 1st Matrix:2\n",
      "Enter No of column for 1nd Matrix:2\n",
      "Enter No of Rows for 2st Matrix:2\n",
      "Enter No of column for 2nd Matrix:2\n",
      "('Enter value for X[', 0, '][', 0, ']:')1\n",
      "('Enter value for X[', 0, '][', 1, ']:')2\n",
      "('Enter value for X[', 1, '][', 0, ']:')3\n",
      "('Enter value for X[', 1, '][', 1, ']:')4\n",
      "('Enter value for Y[', 0, '][', 0, ']:')5\n",
      "('Enter value for Y[', 0, '][', 1, ']:')6\n",
      "('Enter value for Y[', 1, '][', 0, ']:')7\n",
      "('Enter value for Y[', 1, '][', 1, ']:')8\n",
      "1st Matrix X: [[1, 2], [3, 4]]\n",
      "2st Matrix Y: [[5, 6], [7, 8]]\n",
      "[[6, 8], [10, 12]]\n"
     ]
    }
   ],
   "source": [
    "row=int(input(\"Enter No of Rows for 1st Matrix:\"))\n",
    "column=int(input(\"Enter No of column for 1nd Matrix:\"))\n",
    "row1=int(input(\"Enter No of Rows for 2st Matrix:\"))\n",
    "column1=int(input(\"Enter No of column for 2nd Matrix:\"))\n",
    "X = [[int(input((\"Enter value for X[\",i,\"][\",j,\"]:\"))) for j\n",
    "in range(column)] for i in range(row)]\n",
    "Y = [[int(input((\"Enter value for Y[\",i,\"][\",j,\"]:\"))) for j\n",
    "in range(column1)] for i in range(row1)]\n",
    "print(\"1st Matrix X:\",X)\n",
    "print(\"2st Matrix Y:\",Y)\n",
    "if (row==row1 and column==column1): \n",
    "    \n",
    "    result = [[X[i][j] + Y[i][j] for j in range(len(X))] for i in range(len(X[0]))]\n",
    "    print(result)\n",
    "else:\n",
    " print(\"Adition 2 Matrix not Possible\") "
   ]
  },
  {
   "cell_type": "markdown",
   "metadata": {},
   "source": [
    "# 11 c) Write a program to perform multiplication of two square matrices "
   ]
  },
  {
   "cell_type": "code",
   "execution_count": 68,
   "metadata": {},
   "outputs": [
    {
     "name": "stdout",
     "output_type": "stream",
     "text": [
      "10 10 10 10 \n",
      "20 20 20 20 \n",
      "30 30 30 30 \n",
      "40 40 40 40 \n"
     ]
    }
   ],
   "source": [
    "# 4x4 matrix multiplication using Python3\n",
    "# Function definition\n",
    "def matrix_multiplication(M, N):\n",
    "\t# List to store matrix multiplication result\n",
    "\tR = [[0, 0, 0, 0], \n",
    "\t\t[0, 0, 0, 0], \n",
    "\t\t[0, 0, 0, 0],\n",
    "\t\t[0, 0, 0, 0]] \n",
    "\n",
    "\tfor i in range(0, 4): \n",
    "\t\tfor j in range(0, 4):\n",
    "\t\t\tfor k in range(0, 4): \n",
    "\t\t\t\tR[i][j] += M[i][k] * N[k][j] \n",
    "\n",
    "\tfor i in range(0, 4): \n",
    "\t\tfor j in range(0, 4): \n",
    "\t\t\t# if we use print(), by default cursor moves to next line each time, \n",
    "\t\t\t# Now we can explicitly define ending character or sequence passing\n",
    "\t\t\t# second parameter as end =\"<character or string>\"\n",
    "\t\t\t# syntax: print(<variable or value to print>, end =\"<ending with>\")\n",
    "\t\t\t# Here space (\" \") is used to print a gape after printing \n",
    "\t\t\t# each element of R\n",
    "\t\t\tprint(R[i][j], end =\" \")\n",
    "\t\tprint(\"\\n\", end =\"\")\n",
    "\n",
    "# First matrix. M is a list\n",
    "M = [[1, 1, 1, 1], \n",
    "\t[2, 2, 2, 2], \n",
    "\t[3, 3, 3, 3],\n",
    "\t[4, 4, 4, 4]]\n",
    "\n",
    "# Second matrix. N is a list\n",
    "N = [[1, 1, 1, 1], \n",
    "\t[2, 2, 2, 2], \n",
    "\t[3, 3, 3, 3],\n",
    "\t[4, 4, 4, 4]] \n",
    "\t\n",
    "# Call matrix_multiplication function\n",
    "matrix_multiplication(M, N)\n",
    "\n",
    "# This code is contributed by Santanu\n"
   ]
  },
  {
   "cell_type": "code",
   "execution_count": 66,
   "metadata": {},
   "outputs": [
    {
     "name": "stdout",
     "output_type": "stream",
     "text": [
      "Enter No of Rows for 1st Matrix:2\n",
      "Enter No of column for 1nd Matrix:2\n",
      "Enter No of Rows for 2st Matrix:2\n",
      "Enter No of column for 2nd Matrix:2\n",
      "('Enter value for X[', 0, '][', 0, ']:')1\n",
      "('Enter value for X[', 0, '][', 1, ']:')2\n",
      "('Enter value for X[', 1, '][', 0, ']:')3\n",
      "('Enter value for X[', 1, '][', 1, ']:')4\n",
      "('Enter value for Y[', 0, '][', 0, ']:')5\n",
      "('Enter value for Y[', 0, '][', 1, ']:')6\n",
      "('Enter value for Y[', 1, '][', 0, ']:')7\n",
      "('Enter value for Y[', 1, '][', 1, ']:')8\n",
      "result [[0, 0], [0, 0]]\n",
      "1st Matrix X: [[1, 2], [3, 4]]\n",
      "2st Matrix Y: [[5, 6], [7, 8]]\n",
      "[19, 22]\n",
      "[43, 50]\n"
     ]
    }
   ],
   "source": [
    "row=int(input(\"Enter No of Rows for 1st Matrix:\"))\n",
    "column=int(input(\"Enter No of column for 1nd Matrix:\"))\n",
    "row1=int(input(\"Enter No of Rows for 2st Matrix:\"))\n",
    "column1=int(input(\"Enter No of column for 2nd Matrix:\"))\n",
    "if(column==row1):\n",
    " X = [[int(input((\"Enter value for X[\",i,\"][\",j,\"]:\"))) for j in range(column)] for i in range(row)]\n",
    " Y = [[int(input((\"Enter value for Y[\",i,\"][\",j,\"]:\"))) for j in range(column1)] for i in range(row1)]\n",
    " result = [[0 for j in range(column1)] for i in range(row)]\n",
    " print(\"result\",result)\n",
    " print(\"1st Matrix X:\",X)\n",
    " print(\"2st Matrix Y:\",Y)\n",
    " for i in range(len(X)):\n",
    "     for j in range(len(Y[0])):\n",
    "         for k in range(len(Y)):\n",
    "             result[i][j] += X[i][k] * Y[k][j]\n",
    " for r in result:\n",
    "     print(r) \n",
    "else:\n",
    " print(\"Multiplication is not possible\") "
   ]
  },
  {
   "cell_type": "markdown",
   "metadata": {},
   "source": [
    "# 12a) Install packages requests, flask and explore them. using (pip) 1"
   ]
  },
  {
   "cell_type": "code",
   "execution_count": null,
   "metadata": {},
   "outputs": [],
   "source": [
    "!pip install flask \n",
    "!pip install requests\n"
   ]
  },
  {
   "cell_type": "code",
   "execution_count": null,
   "metadata": {},
   "outputs": [],
   "source": [
    "# Importing flask module in the project is mandatory \n",
    "# An object of Flask class is our WSGI application. \n",
    "from flask import Flask,render_template\n",
    "\n",
    " \n",
    "app = Flask(__name__) \n",
    "\n",
    "\n",
    "@app.route('/flask') \n",
    "# ‘/’ URL is bound with hello_world() function. \n",
    "def hello_world(): \n",
    "\treturn 'Hello World'\n",
    "\n",
    "@app.route('/pk') \n",
    "# ‘/’ URL is bound with hello_world() function. \n",
    "def pk(): \n",
    "\treturn '<h1>Hello Phani</h1>'\n",
    "\n",
    "@app.route(\"/<name>\")\n",
    "def user(name):\n",
    "    return f\"Hello {name}!\" \n",
    "\n",
    "\n",
    "@app.route('/') \n",
    "# ‘/’ URL is bound with hello_world() function. \n",
    "def pk1(): \n",
    "\treturn render_template('abcd.html')\n",
    "\n",
    "# main driver function \n",
    "if __name__ == '__main__': \n",
    "\n",
    "\t# run() method of Flask class runs the application \n",
    "\t# on the local development server. \n",
    "\tapp.run(debug=True) \n",
    " "
   ]
  },
  {
   "cell_type": "markdown",
   "metadata": {},
   "source": [
    "# 12b) Write a script that imports requests and fetch content from the page. Eg. (Wiki)"
   ]
  },
  {
   "cell_type": "code",
   "execution_count": 73,
   "metadata": {},
   "outputs": [
    {
     "name": "stdout",
     "output_type": "stream",
     "text": [
      "Web scraping\n"
     ]
    }
   ],
   "source": [
    "import requests\n",
    "from bs4 import BeautifulSoup\n",
    "\n",
    "response = requests.get(url=\"https://en.wikipedia.org/wiki/Web_scraping\",)\n",
    "soup = BeautifulSoup(response.content, 'html.parser')\n",
    "\n",
    "title = soup.find(id=\"firstHeading\")\n",
    "print(title.string)"
   ]
  },
  {
   "cell_type": "code",
   "execution_count": 84,
   "metadata": {},
   "outputs": [
    {
     "name": "stdout",
     "output_type": "stream",
     "text": [
      "enter an article name : like data science , machine learning...Machine_learning\n",
      "Machine learning (ML) is the study of computer algorithms that improve automatically through experience.[1] It is seen as a subset of artificial intelligence. Machine learning algorithms build a model based on sample data, known as \"training data\", in order to make predictions or decisions without being explicitly programmed to do so.[2] Machine learning algorithms are used in a wide variety of applications, such as email filtering and computer vision, where it is difficult or unfeasible to develop conventional algorithms to perform the needed tasks.\n",
      "\n",
      "A subset of machine learning is closely related to computational statistics, which focuses on making predictions using computers; but not all machine learning is statistical learning. The study of mathematical optimization delivers methods, theory and application domains to the field of machine learning. Data mining is a related field of study, focusing on exploratory data analysis through unsupervised learning.[4][5] In its application across business problems, machine learning is also referred to as predictive analytics.\n",
      "\n",
      "Machine learning involves computers discovering how they can perform tasks without being explicitly programmed to do so. It involves computers learning from data provided so that they carry out certain tasks. For simple tasks assigned to computers, it is possible to program algorithms telling the machine how to execute all steps required to solve the problem at hand; on the computer's part, no learning is needed. For more advanced tasks, it can be challenging for a human to manually create the needed algorithms. In practice, it can turn out to be more effective to help the machine develop its own algorithm, rather than having human programmers specify every needed step.[6]\n",
      "\n",
      "The discipline of machine learning employs various approaches to teach computers to accomplish tasks where no fully satisfactory algorithm is available. In cases where vast numbers of potential answers exist, one approach is to label some of the correct answers as valid. This can then be used as training data for the computer to improve the algorithm(s) it uses to determine correct answers. For example, to train a system for the task of digital character recognition, the MNIST dataset of handwritten digits has often been used.[6]\n",
      "\n",
      "\n",
      "Machine learning approaches are traditionally divided into three broad categories, depending on the nature of the \"signal\" or \"feedback\" available to the learning system:\n",
      "\n",
      "Other approaches have been developed which don't fit neatly into this three-fold categorisation, and sometimes more than one is used by the same machine learning system. For example topic modeling, dimensionality reduction or meta learning.[7]\n",
      "\n",
      "As of 2020, deep learning has become the dominant approach for much ongoing work in the field of machine learning.[6]\n",
      "\n",
      "The term machine learning was coined in 1959 by Arthur Samuel, an American IBMer and pioneer in the field of computer gaming and artificial intelligence.[8][9] A representative book of the machine learning research during the 1960s was the Nilsson's book on Learning Machines, dealing mostly with machine learning for pattern classification.[10] Interest related to pattern recognition continued into the 1970s, as described by Duda and Hart in 1973.[11] In 1981 a report was given on using teaching strategies so that a neural network learns to recognize 40 characters (26 letters, 10 digits, and 4 special symbols) from a computer terminal.[12]\n",
      "\n",
      "Tom M. Mitchell provided a widely quoted, more formal definition of the algorithms studied in the machine learning field: \"A computer program is said to learn from experience E with respect to some class of tasks T and performance measure P if its performance at tasks in T, as measured by P,  improves with experience E.\"[13] This definition of the tasks in which machine learning is concerned offers a fundamentally operational definition rather than defining the field in cognitive terms. This follows Alan Turing's proposal in his paper \"Computing Machinery and Intelligence\", in which the question \"Can machines think?\" is replaced with the question \"Can machines do what we (as thinking entities) can do?\".[14]\n",
      "\n",
      "Modern day machine learning has two objectives, one is to classify data based on models which have been developed, the other purpose is to make predictions for future outcomes based on these models. A hypothetical algorithm specific to classifying data may use computer vision of moles coupled with supervised learning in order to train it to classify the cancerous moles. Where as, a machine learning algoritihim for stock trading may inform the trader of future potential predictions.[15]\n",
      "\n",
      "As a scientific endeavor, machine learning grew out of the quest for artificial intelligence. In the early days of AI as an academic discipline, some researchers were interested in having machines learn from data. They attempted to approach the problem with various symbolic methods, as well as what was then termed \"neural networks\"; these were mostly perceptrons and other models that were later found to be reinventions of the generalized linear models of statistics.[18] Probabilistic reasoning was also employed, especially in automated medical diagnosis.[19]:488\n",
      "\n",
      "However, an increasing emphasis on the logical, knowledge-based approach caused a rift between AI and machine learning. Probabilistic systems were plagued by theoretical and practical problems of data acquisition and representation.[19]:488 By 1980, expert systems had come to dominate AI, and statistics was out of favor.[20] Work on symbolic/knowledge-based learning did continue within AI, leading to inductive logic programming, but the more statistical line of research was now outside the field of AI proper, in pattern recognition and information retrieval.[19]:708–710; 755 Neural networks research had been abandoned by AI and computer science around the same time. This line, too, was continued outside the AI/CS field, as \"connectionism\", by researchers from other disciplines including Hopfield, Rumelhart and Hinton. Their main success came in the mid-1980s with the reinvention of backpropagation.[19]:25\n",
      "\n",
      "Machine learning (ML), reorganized as a separate field, started to flourish in the 1990s. The field changed its goal from achieving artificial intelligence to tackling solvable problems of a practical nature. It shifted focus away from the symbolic approaches it had inherited from AI, and toward methods and models borrowed from statistics and probability theory.[20]\n",
      "\n",
      "As of 2020, many sources continue to assert that machine learning remains a subfield of AI.[21][22][16] The main disagreement is whether all of ML is part of AI, as this would mean that anyone using ML could claim they are using AI. Others have the view that not all of ML is part of AI[23][24][25] where only an 'intelligent' subset of ML is part of AI.[26]\n",
      "\n",
      "The question to what is the difference between ML and AI is answered by Judea Pearl in The Book of Why.[27] Accordingly ML learns and predicts based on passive observations, whereas AI implies an agent  interacting with the environment to learn and take actions that maximize its chance of successfully achieving its goals.[30]\n",
      "\n",
      "Machine learning and data mining often employ the same methods and overlap significantly, but while machine learning focuses on prediction, based on known properties learned from the training data, data mining focuses on the discovery of (previously) unknown properties in the data (this is the analysis step of knowledge discovery in databases). Data mining uses many machine learning methods, but with different goals; on the other hand, machine learning also employs data mining methods as \"unsupervised learning\" or as a preprocessing step to improve learner accuracy. Much of the confusion between these two research communities (which do often have separate conferences and separate journals, ECML PKDD being a major exception) comes from the basic assumptions they work with: in machine learning, performance is usually evaluated with respect to the ability to reproduce known knowledge, while in knowledge discovery and data mining (KDD) the key task is the discovery of previously unknown knowledge. Evaluated with respect to known knowledge, an uninformed (unsupervised) method will easily be outperformed by other supervised methods, while in a typical KDD task, supervised methods cannot be used due to the unavailability of training data.\n",
      "\n",
      "Machine learning also has intimate ties to optimization: many learning problems are formulated as minimization of some loss function on a training set of examples. Loss functions express the discrepancy between the predictions of the model being trained and the actual problem instances (for example, in classification, one wants to assign a label to instances, and models are trained to correctly predict the pre-assigned labels of a set of examples).[31]\n",
      "\n",
      "The difference between optimization and machine learning arises from the goal of generalization: while optimization algorithms can minimize the loss on a training set, machine learning is concerned with minimizing the loss on unseen samples. Characterizing the generalization of various learning algorithms is an active topic of current research, especially for deep learning algorithms.\n",
      "\n",
      "Machine learning and statistics are closely related fields in terms of methods, but distinct in their principal goal: statistics draws population inferences from a sample, while machine learning finds generalizable predictive patterns.[32] According to Michael I. Jordan, the ideas of machine learning, from methodological principles to theoretical tools, have had a long pre-history in statistics.[33] He also suggested the term data science as a placeholder to call the overall field.[33]\n",
      "\n",
      "Leo Breiman distinguished two statistical modeling paradigms: data model and algorithmic model,[34] wherein \"algorithmic model\" means more or less the machine learning algorithms like Random forest.\n",
      "\n",
      "Some statisticians have adopted methods from machine learning, leading to a combined field that they call statistical learning.[35]\n",
      "\n",
      "A core objective of a learner is to generalize from its experience.[3][36] Generalization in this context is the ability of a learning machine to perform accurately on new, unseen examples/tasks after having experienced a learning data set. The training examples come from some generally unknown probability distribution (considered representative of the space of occurrences) and the learner has to build a general model about this space that enables it to produce sufficiently accurate predictions in new cases.\n",
      "\n",
      "The computational analysis of machine learning algorithms and their performance is a branch of theoretical computer science known as computational learning theory. Because training sets are finite and the future is uncertain, learning theory usually does not yield guarantees of the performance of algorithms. Instead, probabilistic bounds on the performance are quite common. The bias–variance decomposition is one way to quantify generalization error.\n",
      "\n",
      "For the best performance in the context of generalization, the complexity of the hypothesis should match the complexity of the function underlying the data. If the hypothesis is less complex than the function, then the model has under fitted the data. If the complexity of the model is increased in response, then the training error decreases. But if the hypothesis is too complex, then the model is subject to overfitting and generalization will be poorer.[37]\n",
      "\n",
      "In addition to performance bounds, learning theorists study the time complexity and feasibility of learning. In computational learning theory, a computation is considered feasible if it can be done in polynomial time. There are two kinds of time complexity results. Positive results show that a certain class of functions can be learned in polynomial time. Negative results show that certain classes cannot be learned in polynomial time.\n",
      "\n",
      "The types of machine learning algorithms differ in their approach, the type of data they input and output, and the type of task or problem that they are intended to solve.\n",
      "\n",
      "Supervised learning algorithms build a mathematical model of a set of data that contains both the inputs and the desired outputs.[38] The data is known as training data, and consists of a set of training examples. Each training example has one or more inputs and the desired output, also known as a supervisory signal.  In the mathematical model, each training example is represented by an array or vector, sometimes called a feature vector, and the training data is represented by a matrix. Through iterative optimization of an objective function, supervised learning algorithms learn a function that can be used to predict the output associated with new inputs.[39] An optimal function will allow the algorithm to correctly determine the output for inputs that were not a part of the training data. An algorithm that improves the accuracy of its outputs or predictions over time is said to have learned to perform that task.[13]\n",
      "\n",
      "Types of supervised learning algorithms include active learning, classification and regression.[40] Classification algorithms are used when the outputs are restricted to a limited set of values, and regression algorithms are used when the outputs may have any numerical value within a range. As an example, for a classification algorithm that filters emails, the input would be an incoming email, and the output would be the name of the folder in which to file the email.\n",
      "\n",
      "Similarity learning is an area of supervised machine learning closely related to regression and classification, but the goal is to learn from examples using a similarity function that measures how similar or related two objects are. It has applications in ranking, recommendation systems, visual identity tracking, face verification, and speaker verification.\n",
      "\n",
      "Unsupervised learning algorithms take a set of data that contains only inputs, and find structure in the data, like grouping or clustering of data points. The algorithms, therefore, learn from test data that has not been labeled, classified or categorized. Instead of responding to feedback, unsupervised learning algorithms identify commonalities in the data and react based on the presence or absence of such commonalities in each new piece of data. A central application of unsupervised learning is in the field of density estimation in statistics, such as finding the probability density function.[41] Though unsupervised learning encompasses other domains involving summarizing and explaining data features.\n",
      "\n",
      "Cluster analysis is the assignment of a set of observations into subsets (called clusters) so that observations within the same cluster are similar according to one or more predesignated criteria, while observations drawn from different clusters are dissimilar. Different clustering techniques make different assumptions on the structure of the data, often defined by some similarity metric and evaluated, for example, by internal compactness, or the similarity between members of the same cluster, and separation, the difference between clusters. Other methods are based on estimated density and graph connectivity.\n",
      "\n",
      "Semi-supervised learning falls between unsupervised learning (without any labeled training data) and supervised learning (with completely labeled training data). Some of the training examples are missing training labels,  yet many machine-learning researchers have found that unlabeled data, when used in conjunction with a small amount of labeled data, can produce a considerable improvement in learning accuracy.\n",
      "\n",
      "In weakly supervised learning, the training labels are noisy, limited, or imprecise; however, these labels are often cheaper to obtain, resulting in larger effective training sets.[42]\n",
      "\n",
      "Reinforcement learning is an area of machine learning concerned with how software agents ought to take actions in an environment so as to maximize some notion of cumulative reward. Due to its generality, the field is studied in many other disciplines, such as game theory, control theory, operations research, information theory, simulation-based optimization, multi-agent systems, swarm intelligence, statistics and genetic algorithms. In machine learning, the environment is typically represented as a Markov decision process (MDP). Many reinforcement learning algorithms use dynamic programming techniques.[43] Reinforcement learning algorithms do not assume knowledge of an exact mathematical model of the MDP, and are used when exact models are infeasible. Reinforcement learning algorithms are used in autonomous vehicles or in learning to play a game against a human opponent.\n",
      "\n",
      "Self-learning as a machine learning paradigm was introduced in 1982 along with a neural network capable of self-learning named crossbar adaptive array (CAA).[44] It is a learning with no external rewards and no external teacher advice. The CAA self-learning algorithm computes, in a crossbar fashion, both decisions about actions and emotions (feelings) about consequence situations. The system is driven by the interaction between cognition and emotion.[45]\n",
      "The self-learning algorithm updates a memory matrix W =||w(a,s)|| such that in each iteration executes the following machine learning routine: \n",
      "\n",
      "It is a system with only one input, situation s, and only one output, action (or behavior) a. There is neither a separate reinforcement input nor an advice input from the environment. The backpropagated value (secondary reinforcement) is the emotion toward the consequence situation. The CAA exists in two environments, one is the behavioral environment where it behaves, and the other is the genetic environment, wherefrom it initially and only once receives initial emotions about situations to be encountered in the behavioral environment. After receiving the genome (species) vector from the genetic environment, the CAA learns a goal-seeking behavior, in an environment that contains both desirable and undesirable situations.[46]\n",
      "\n",
      "Several learning algorithms aim at discovering better representations of the inputs provided during training.[47] Classic examples include principal components analysis and cluster analysis. Feature learning algorithms, also called representation learning algorithms, often attempt to preserve the information in their input but also transform it in a way that makes it useful, often as a pre-processing step before performing classification or predictions. This technique allows reconstruction of the inputs coming from the unknown data-generating distribution, while not being necessarily faithful to configurations that are implausible under that distribution. This replaces manual feature engineering, and allows a machine to both learn the features and use them to perform a specific task.\n",
      "\n",
      "Feature learning can be either supervised or unsupervised. In supervised feature learning, features are learned using labeled input data. Examples include artificial neural networks, multilayer perceptrons, and supervised dictionary learning. In unsupervised feature learning, features are learned with unlabeled input data.  Examples include dictionary learning, independent component analysis, autoencoders, matrix factorization[48] and various forms of clustering.[49][50][51]\n",
      "\n",
      "Manifold learning algorithms attempt to do so under the constraint that the learned representation is low-dimensional. Sparse coding algorithms attempt to do so under the constraint that the learned representation is sparse, meaning that the mathematical model has many zeros. Multilinear subspace learning algorithms aim to learn low-dimensional representations directly from tensor representations for multidimensional data, without reshaping them into higher-dimensional vectors.[52] Deep learning algorithms discover multiple levels of representation, or a hierarchy of features, with higher-level, more abstract features defined in terms of (or generating) lower-level features. It has been argued that an intelligent machine is one that learns a representation that disentangles the underlying factors of variation that explain the observed data.[53]\n",
      "\n",
      "Feature learning is motivated by the fact that machine learning tasks such as classification often require input that is mathematically and computationally convenient to process. However, real-world data such as images, video, and sensory data has not yielded to attempts to algorithmically define specific features. An alternative is to discover such features or representations thorough examination, without relying on explicit algorithms.\n",
      "\n",
      "Sparse dictionary learning is a feature learning method where a training example is represented as a linear combination of basis functions, and is assumed to be a sparse matrix. The method is strongly NP-hard and difficult to solve approximately.[54] A popular heuristic method for sparse dictionary learning is the K-SVD algorithm. Sparse dictionary learning has been applied in several contexts. In classification, the problem is to determine the class to which a previously unseen training example belongs. For a dictionary where each class has already been built, a new training example is associated with the class that is best sparsely represented by the corresponding dictionary. Sparse dictionary learning has also been applied in image de-noising. The key idea is that a clean image patch can be sparsely represented by an image dictionary, but the noise cannot.[55]\n",
      "\n",
      "In data mining, anomaly detection, also known as outlier detection, is the identification of rare items, events or observations which raise suspicions by differing significantly from the majority of the data.[56] Typically, the anomalous items represent an issue such as bank fraud, a structural defect, medical problems or errors in a text. Anomalies are referred to as outliers, novelties, noise, deviations and exceptions.[57]\n",
      "\n",
      "In particular, in the context of abuse and network intrusion detection, the interesting objects are often not rare objects, but unexpected bursts of inactivity. This pattern does not adhere to the common statistical definition of an outlier as a rare object, and many outlier detection methods (in particular, unsupervised algorithms) will fail on such data unless it has been aggregated appropriately. Instead, a cluster analysis algorithm may be able to detect the micro-clusters formed by these patterns.[58]\n",
      "\n",
      "Three broad categories of anomaly detection techniques exist.[59] Unsupervised anomaly detection techniques detect anomalies in an unlabeled test data set under the assumption that the majority of the instances in the data set are normal, by looking for instances that seem to fit least to the remainder of the data set. Supervised anomaly detection techniques require a data set that has been labeled as \"normal\" and \"abnormal\" and involves training a classifier (the key difference to many other statistical classification problems is the inherently unbalanced nature of outlier detection). Semi-supervised anomaly detection techniques construct a model representing normal behavior from a given normal training data set and then test the likelihood of a test instance to be generated by the model.\n",
      "\n",
      "In developmental robotics, robot learning algorithms generate their own sequences of learning experiences, also known as a curriculum, to cumulatively acquire new skills through self-guided exploration and social interaction with humans. These robots use guidance mechanisms such as active learning, maturation, motor synergies and imitation.\n",
      "\n",
      "Association rule learning is a rule-based machine learning method for discovering relationships between variables in large databases. It is intended to identify strong rules discovered in databases using some measure of \"interestingness\".[60]\n",
      "\n",
      "Rule-based machine learning is a general term for any machine learning method that identifies, learns, or evolves \"rules\" to store, manipulate or apply knowledge. The defining characteristic of a rule-based machine learning algorithm is the identification and utilization of a set of relational rules that collectively represent the knowledge captured by the system. This is in contrast to other machine learning algorithms that commonly identify a singular model that can be universally applied to any instance in order to make a prediction.[61] Rule-based machine learning approaches include learning classifier systems, association rule learning, and artificial immune systems.\n",
      "\n",
      "Based on the concept of strong rules, Rakesh Agrawal, Tomasz Imieliński and Arun Swami introduced association rules for discovering regularities between products in large-scale transaction data recorded by point-of-sale (POS) systems in supermarkets.[62] For example, the rule \n",
      "\n",
      "\n",
      "\n",
      "{\n",
      "\n",
      "o\n",
      "n\n",
      "i\n",
      "o\n",
      "n\n",
      "s\n",
      ",\n",
      "p\n",
      "o\n",
      "t\n",
      "a\n",
      "t\n",
      "o\n",
      "e\n",
      "s\n",
      "\n",
      "}\n",
      "⇒\n",
      "{\n",
      "\n",
      "b\n",
      "u\n",
      "r\n",
      "g\n",
      "e\n",
      "r\n",
      "\n",
      "}\n",
      "\n",
      "\n",
      "{\\displaystyle \\{\\mathrm {onions,potatoes} \\}\\Rightarrow \\{\\mathrm {burger} \\}}\n",
      "\n",
      " found in the sales data of a supermarket would indicate that if a customer buys onions and potatoes together, they are likely to also buy hamburger meat. Such information can be used as the basis for decisions about marketing activities such as promotional pricing or product placements. In addition to market basket analysis, association rules are employed today in application areas including Web usage mining, intrusion detection, continuous production, and bioinformatics. In contrast with sequence mining, association rule learning typically does not consider the order of items either within a transaction or across transactions.\n",
      "\n",
      "Learning classifier systems (LCS) are a family of rule-based machine learning algorithms that combine a discovery component, typically a genetic algorithm, with a learning component, performing either supervised learning, reinforcement learning, or unsupervised learning. They seek to identify a set of context-dependent rules that collectively store and apply knowledge in a piecewise manner in order to make predictions.[63]\n",
      "\n",
      "Inductive logic programming (ILP) is an approach to rule-learning using logic programming as a uniform representation for input examples, background knowledge, and hypotheses. Given an encoding of the known background knowledge and a set of examples represented as a logical database of facts, an ILP system will derive a hypothesized logic program that entails all positive and no negative examples. Inductive programming is a related field that considers any kind of programming language for representing hypotheses (and not only logic programming), such as functional programs.\n",
      "\n",
      "Inductive logic programming is particularly useful in bioinformatics and natural language processing. Gordon Plotkin and Ehud Shapiro laid the initial theoretical foundation for inductive machine learning in a logical setting.[64][65][66] Shapiro built their first implementation (Model Inference System) in 1981: a Prolog program that inductively inferred logic programs from positive and negative examples.[67] The term inductive here refers to philosophical induction, suggesting a theory to explain observed facts, rather than mathematical induction, proving a property for all members of a well-ordered set.\n",
      "\n",
      "Performing machine learning involves creating a model, which is trained on some training data and then can process additional data to make predictions. Various types of models have been used and researched for machine learning systems.\n",
      "\n",
      "Artificial neural networks (ANNs), or connectionist systems, are computing systems vaguely inspired by the biological neural networks that constitute animal brains. Such systems \"learn\" to perform tasks by considering examples, generally without being programmed with any task-specific rules.\n",
      "\n",
      "An ANN is a model based on a collection of connected units or nodes called \"artificial neurons\", which loosely model the neurons in a biological brain. Each connection, like the synapses in a biological brain, can transmit information, a \"signal\", from one artificial neuron to another. An artificial neuron that receives a signal can process it and then signal additional artificial neurons connected to it. In common ANN implementations, the signal at a connection between artificial neurons is a real number, and the output of each artificial neuron is computed by some non-linear function of the sum of its inputs. The connections between artificial neurons are called \"edges\". Artificial neurons and edges typically have a weight that adjusts as learning proceeds. The weight increases or decreases the strength of the signal at a connection. Artificial neurons may have a threshold such that the signal is only sent if the aggregate signal crosses that threshold. Typically, artificial neurons are aggregated into layers. Different layers may perform different kinds of transformations on their inputs. Signals travel from the first layer (the input layer) to the last layer (the output layer), possibly after traversing the layers multiple times.\n",
      "\n",
      "The original goal of the ANN approach was to solve problems in the same way that a human brain would. However, over time, attention moved to performing specific tasks, leading to deviations from biology. Artificial neural networks have been used on a variety of tasks, including computer vision, speech recognition, machine translation, social network filtering, playing board and video games and medical diagnosis.\n",
      "\n",
      "Deep learning consists of multiple hidden layers in an artificial neural network. This approach tries to model the way the human brain processes light and sound into vision and hearing. Some successful applications of deep learning are computer vision and speech recognition.[68]\n",
      "\n",
      "Decision tree learning uses a decision tree as a predictive model to go from observations about an item (represented in the branches) to conclusions about the item's target value (represented in the leaves). It is one of the predictive modeling approaches used in statistics, data mining, and machine learning. Tree models where the target variable can take a discrete set of values are called classification trees; in these tree structures, leaves represent class labels and branches represent conjunctions of features that lead to those class labels. Decision trees where the target variable can take continuous values (typically real numbers) are called regression trees. In decision analysis, a decision tree can be used to visually and explicitly represent decisions and decision making. In data mining, a decision tree describes data, but the resulting classification tree can be an input for decision making.\n",
      "\n",
      "Support vector machines (SVMs), also known as support vector networks, are a set of related supervised learning methods used for classification and regression. Given a set of training examples, each marked as belonging to one of two categories, an SVM training algorithm builds a model that predicts whether a new example falls into one category or the other.[69]  An SVM training algorithm is a non-probabilistic, binary, linear classifier, although methods such as Platt scaling exist to use SVM in a probabilistic classification setting. In addition to performing linear classification, SVMs can efficiently perform a non-linear classification using what is called the kernel trick, implicitly mapping their inputs into high-dimensional feature spaces.\n",
      "\n",
      "Regression analysis encompasses a large variety of statistical methods to estimate the relationship between input variables and their associated features. Its most common form is linear regression, where a single line is drawn to best fit the given data according to a mathematical criterion such as ordinary least squares. The latter is often extended by regularization (mathematics) methods to mitigate overfitting and bias, as in ridge regression. When dealing with non-linear problems, go-to models include polynomial regression (for example, used for trendline fitting in Microsoft Excel[70]), logistic regression (often used in statistical classification) or even kernel regression, which introduces non-linearity by taking advantage of the kernel trick to implicitly map input variables to higher-dimensional space.\n",
      "\n",
      "A Bayesian network, belief network, or directed acyclic graphical model is a probabilistic graphical model that represents a set of random variables and their conditional independence with a directed acyclic graph (DAG). For example, a Bayesian network could represent the probabilistic relationships between diseases and symptoms. Given symptoms, the network can be used to compute the probabilities of the presence of various diseases. Efficient algorithms exist that perform inference and learning. Bayesian networks that model sequences of variables, like speech signals or protein sequences, are called dynamic Bayesian networks. Generalizations of Bayesian networks that can represent and solve decision problems under uncertainty are called influence diagrams.\n",
      "\n",
      "A genetic algorithm (GA) is a search algorithm and heuristic technique that mimics the process of natural selection, using methods such as mutation and crossover to generate new genotypes in the hope of finding good solutions to a given problem. In machine learning, genetic algorithms were used in the 1980s and 1990s.[71][72] Conversely, machine learning techniques have been used to improve the performance of genetic and evolutionary algorithms.[73]\n",
      "\n",
      "Usually, machine learning models require a lot of data in order for them to perform well. Usually, when training a machine learning model, one needs to collect a large, representative sample of data from a training set. Data from the training set can be as varied as a corpus of text, a collection of images, and data collected from individual users of a service. Overfitting is something to watch out for when training a machine learning model. Trained models derived from biased data can result in skewed or undesired predictions. Algorithmic bias is a potential result from data not fully prepared for training.\n",
      "\n",
      "Federated learning is an adapted form of distributed artificial intelligence to training machine learning models that decentralizes the training process, allowing for users' privacy to be maintained by not needing to send their data to a centralized server. This also increases efficiency by decentralizing the training process to many devices. For example, Gboard uses federated machine learning to train search query prediction models on users' mobile phones without having to send individual searches back to Google.[74]\n",
      "\n",
      "There are many applications for machine learning, including:\n",
      "\n",
      "In 2006, the media-services provider Netflix held the first \"Netflix Prize\" competition to find a program to better predict user preferences and improve the accuracy of its existing Cinematch movie recommendation algorithm by at least 10%.  A joint team made up of researchers from AT&T Labs-Research in collaboration with the teams Big Chaos and Pragmatic Theory built an ensemble model to win the Grand Prize in 2009 for $1 million.[76] Shortly after the prize was awarded, Netflix realized that viewers' ratings were not the best indicators of their viewing patterns (\"everything is a recommendation\") and they changed their recommendation engine accordingly.[77] In 2010 The Wall Street Journal wrote about the firm Rebellion Research and their use of machine learning to predict the financial crisis.[78] In 2012, co-founder of Sun Microsystems, Vinod Khosla, predicted that 80% of medical doctors' jobs would be lost in the next two decades to automated machine learning medical diagnostic software.[79] In 2014, it was reported that a machine learning algorithm had been applied in the field of art history to study fine art paintings and that it may have revealed previously unrecognized influences among artists.[80] In 2019 Springer Nature published the first research book created using machine learning.[81]\n",
      "\n",
      "Machine Learning based Mobile Applications:\n",
      "\n",
      "Mobile applications based on machine learning are reshaping and affecting many aspects of our lives.\n",
      "\n",
      "Although machine learning has been transformative in some fields, machine-learning programs often fail to deliver expected results.[87][88][89] Reasons for this are numerous: lack of (suitable) data, lack of access to the data, data bias, privacy problems, badly chosen tasks and algorithms, wrong tools and people, lack of resources, and evaluation problems.[90]\n",
      "\n",
      "In 2018, a self-driving car from Uber failed to detect a pedestrian, who was killed after a collision.[91] Attempts to use machine learning in healthcare with the IBM Watson system failed to deliver even after years of time and billions of dollars invested.[92][93]\n",
      "\n",
      "Machine learning has been used as a strategy to update the evidence related to systematic review and increased reviewer burden related to the growth of biomedical literature. While it has improved with training sets, it has not yet developed sufficiently to reduce the workload burden without limiting the necessary sensitivity for the findings research themselves.[94]\n",
      "\n",
      "Machine learning approaches in particular can suffer from different data biases. A machine learning system trained on current customers only may not be able to predict the needs of new customer groups that are not represented in the training data. When trained on man-made data, machine learning is likely to pick up the same constitutional and unconscious biases already present in society.[95] Language models learned from data have been shown to contain human-like biases.[96][97] Machine learning systems used for criminal risk assessment have been found to be biased against black people.[98][99] In 2015, Google photos would often tag black people as gorillas,[100] and in 2018 this still was not well resolved, but Google reportedly was still using the workaround to remove all gorillas from the training data, and thus was not able to recognize real gorillas at all.[101] Similar issues with recognizing non-white people have been found in many other systems.[102] In 2016, Microsoft tested a chatbot that learned from Twitter, and it quickly picked up racist and sexist language.[103] Because of such challenges, the effective use of machine learning may take longer to be adopted in other domains.[104] Concern for fairness in machine learning, that is, reducing bias in machine learning and propelling its use for human good is increasingly expressed by artificial intelligence scientists, including Fei-Fei Li, who reminds engineers that \"There’s nothing artificial about AI...It’s inspired by people, it’s created by people, and—most importantly—it impacts people. It is a powerful tool we are only just beginning to understand, and that is a profound responsibility.”[105]\n",
      "\n",
      "Classification of machine learning models can be validated by accuracy estimation techniques like the holdout method, which splits the data in a training and test set (conventionally 2/3 training set and 1/3 test set designation) and evaluates the performance of the training model on the test set. In comparison, the K-fold-cross-validation method randomly partitions the data into K subsets and then K experiments are performed each respectively considering 1 subset for evaluation and the remaining K-1 subsets for training the model. In addition to the holdout and cross-validation methods, bootstrap, which samples n instances with replacement from the dataset, can be used to assess model accuracy.[106]\n",
      "\n",
      "In addition to overall accuracy, investigators frequently report sensitivity and specificity meaning True Positive Rate (TPR) and True Negative Rate (TNR) respectively. Similarly, investigators sometimes report the false positive rate (FPR) as well as the false negative rate (FNR). However, these rates are ratios that fail to reveal their numerators and denominators. The total operating characteristic (TOC) is an effective method to express a model's diagnostic ability. TOC shows the numerators and denominators of the previously mentioned rates, thus TOC provides more information than the commonly used receiver operating characteristic (ROC) and ROC's associated area under the curve (AUC).[107]\n",
      "\n",
      "Machine learning poses a host of ethical questions. Systems which are trained on datasets collected with biases may exhibit these biases upon use (algorithmic bias), thus digitizing cultural prejudices.[108] For example, using job hiring data from a firm with racist hiring policies may lead to a machine learning system duplicating the bias by scoring job applicants against similarity to previous successful applicants.[109][110] Responsible collection of data and documentation of algorithmic rules used by a system thus is a critical part of machine learning.\n",
      "\n",
      "The evolvement of AI systems raises a lot questions in the realm of ethics and morality. AI can be well equipped in making decisions in certain fields such technical and scientific which rely\n",
      "heavily on data and historical information. These decisions rely on objectivity and logical reasoning.[111] Because human languages contain biases, machines trained on language corpora will necessarily also learn these biases.[112][113]\n",
      "\n",
      "Other forms of ethical challenges, not related to personal biases, are more seen in health care. There are concerns among health care professionals that these systems might not be designed in the public's interest but as income-generating machines. This is especially true in the United States where there is a long-standing ethical dilemma of improving health care, but also increasing profits. For example, the algorithms could be designed to provide patients with unnecessary tests or medication in which the algorithm's proprietary owners hold stakes. There is huge potential for machine learning in health care to provide professionals a great tool to diagnose, medicate, and even plan recovery paths for patients, but this will not happen until the personal biases mentioned previously, and these \"greed\" biases are addressed.[114]\n",
      "\n",
      "Since the 2010s, advances in both machine learning algorithms and computer hardware have led to more efficient methods for training deep neural networks (a particular narrow subdomain of machine learning) that contain many layers of non-linear hidden units.[115] By 2019, graphic processing units (GPUs), often with AI-specific enhancements, had displaced CPUs as the dominant method of training large-scale commercial cloud AI.[116] OpenAI estimated the hardware compute used in the largest deep learning projects from AlexNet (2012) to AlphaZero (2017), and found a 300,000-fold increase in the amount of compute required, with a doubling-time trendline of 3.4 months.[117][118]\n",
      "\n",
      "Software suites containing a variety of machine learning algorithms include the following:\n",
      "\n"
     ]
    }
   ],
   "source": [
    "import requests\n",
    "from bs4 import BeautifulSoup\n",
    "import random\n",
    "data=input('enter an article name : like data science , machine learning...')\n",
    "url='https://en.wikipedia.org/wiki/{}'.format(data)\n",
    "req=requests.get(url).content\n",
    "soup=BeautifulSoup(req,'html.parser')\n",
    "p=soup.find_all('p')\n",
    "for i in p:\n",
    "    print(i.text)"
   ]
  },
  {
   "cell_type": "markdown",
   "metadata": {},
   "source": [
    "# 13a) Class variables and instance variable and illustration of the self variable \n",
    "* i) Robot"
   ]
  },
  {
   "cell_type": "code",
   "execution_count": 71,
   "metadata": {},
   "outputs": [
    {
     "name": "stdout",
     "output_type": "stream",
     "text": [
      "(Initializing R2-D2)\n",
      "Greetings, my masters call me R2-D2.\n",
      "We have 1 robots.\n",
      "(Initializing C-3PO)\n",
      "Greetings, my masters call me C-3PO.\n",
      "We have 2 robots.\n",
      "\n",
      "Robots can do some work here.\n",
      "\n",
      "Robots have finished their work. So let's destroy them.\n",
      "R2-D2 is being destroyed!\n",
      "There are still 1 robots working.\n",
      "C-3PO is being destroyed!\n",
      "C-3PO was the last one.\n",
      "We have 0 robots.\n"
     ]
    }
   ],
   "source": [
    "#!/usr/bin/python\n",
    "# Filename: objvar.py\n",
    "\n",
    "class Robot:\n",
    "    '''Represents a robot, with a name.'''\n",
    "\n",
    "    # A class variable, counting the number of robots\n",
    "    population = 0\n",
    "\n",
    "    def __init__(self, name):\n",
    "        '''Initializes the data.'''\n",
    "        self.name = name\n",
    "        print('(Initializing {0})'.format(self.name))\n",
    "\n",
    "        # When this person is created, the robot\n",
    "        # adds to the population\n",
    "        Robot.population += 1\n",
    "\n",
    "    def __del__(self):\n",
    "        '''I am dying.'''\n",
    "        print('{0} is being destroyed!'.format(self.name))\n",
    "\n",
    "        Robot.population -= 1\n",
    "\n",
    "        if Robot.population == 0:\n",
    "            print('{0} was the last one.'.format(self.name))\n",
    "        else:\n",
    "            print('There are still {0:d} robots working.'.format(Robot.population))\n",
    "\n",
    "    def sayHi(self):\n",
    "        '''Greeting by the robot.\n",
    "\n",
    "        Yeah, they can do that.'''\n",
    "        print('Greetings, my masters call me {0}.'.format(self.name))\n",
    "\n",
    "    def howMany():\n",
    "        '''Prints the current population.'''\n",
    "        print('We have {0:d} robots.'.format(Robot.population))\n",
    "    howMany = staticmethod(howMany)\n",
    "\n",
    "droid1 = Robot('R2-D2')\n",
    "droid1.sayHi()\n",
    "Robot.howMany()\n",
    "\n",
    "droid2 = Robot('C-3PO')\n",
    "droid2.sayHi()\n",
    "Robot.howMany()\n",
    "\n",
    "print(\"\\nRobots can do some work here.\\n\")\n",
    "\n",
    "print(\"Robots have finished their work. So let's destroy them.\")\n",
    "del droid1\n",
    "del droid2\n",
    "\n",
    "Robot.howMany()"
   ]
  },
  {
   "cell_type": "markdown",
   "metadata": {},
   "source": [
    "# 13b) Class variables and instance variable and illustration of the self variable\n",
    "* ATM"
   ]
  },
  {
   "cell_type": "code",
   "execution_count": null,
   "metadata": {},
   "outputs": [
    {
     "name": "stdout",
     "output_type": "stream",
     "text": [
      "Welcome to the SBI ATM Machine \n",
      "--------------------------------\n",
      "Please enter your pin number123\n",
      "Your Card Number is:XXXX XXXX XXXX 1337\n",
      "Would you like to deposit/withdraw/Check Balance?\n",
      "\n",
      "        1) Balance\n",
      "        2) Withdraw\n",
      "        3) Deposit\n",
      "        4) Quit\n",
      "        \n",
      "Please enter your choice:1\n",
      "Balance: 5000\n",
      "Your Card Number is:XXXX XXXX XXXX 1337\n",
      "Would you like to deposit/withdraw/Check Balance?\n",
      "\n",
      "        1) Balance\n",
      "        2) Withdraw\n",
      "        3) Deposit\n",
      "        4) Quit\n",
      "        \n",
      "Please enter your choice:3\n",
      "Please Enter Desired amount: 5000\n",
      "Your transaction is successfull\n",
      "Balance: 10000\n",
      "Your Card Number is:XXXX XXXX XXXX 1337\n",
      "Would you like to deposit/withdraw/Check Balance?\n",
      "\n",
      "        1) Balance\n",
      "        2) Withdraw\n",
      "        3) Deposit\n",
      "        4) Quit\n",
      "        \n",
      "Please enter your choice:2\n"
     ]
    }
   ],
   "source": [
    "class Bank:\n",
    "    \n",
    "    Account_type = \"Savings\"\n",
    "    location = \"Guntur\"\n",
    "    def __init__(self, name, Account_Number,balance):\n",
    "        self.name = name\n",
    "        self.Account_Number = Account_Number\n",
    "        self.balance=balance\n",
    "        self.Account_type=Bank.Account_type\n",
    "        self.location=Bank.location \n",
    "    def __repr__(self):\n",
    "        \n",
    "        print (\"Welcome to the SBI ATM Machine \")\n",
    "        print(\"--------------------------------\")\n",
    "        account_pin = int(input(\"Please enter your pin number\"))\n",
    "        if(account_pin==123):\n",
    "            Account(self)\n",
    "        else:\n",
    "            print(\"Pin Incorrect. Please try again\")\n",
    "            Error(self)\n",
    "        return \",\".join([self.name,self.Account_Number]) \n",
    "    \n",
    "    \n",
    "def Error(self):\n",
    "    account_pin = int(input(\"Please enter your pin number \"))\n",
    "    if(account_pin==123):\n",
    "        Account(self)\n",
    "    else:\n",
    "        print(\"Pin Incorrect. Please try again\")\n",
    "        Error(self) \n",
    "    \n",
    "def Account(self):\n",
    "    print (\"Your Card Number is:XXXX XXXX XXXX 1337\")\n",
    "    print (\"Would you like to deposit/withdraw/Check Balance?\")\n",
    "    print(\"\"\"\n",
    "        1) Balance\n",
    "        2) Withdraw\n",
    "        3) Deposit\n",
    "        4) Quit\n",
    "        \"\"\") \n",
    "    \n",
    "    option=int(input(\"Please enter your choice:\"))\n",
    "    if(option==1):\n",
    "        Balance(self)\n",
    "    elif(option==2):\n",
    "        Withdraw(self)\n",
    "    elif(option==3):\n",
    "        Deposit(self)\n",
    "    elif(option==4):\n",
    "        exit() \n",
    "                \n",
    "def Balance(self):\n",
    "    print(\"Balance:\",self.balance)\n",
    "    Account(self)\n",
    "\n",
    "def Withdraw(self):\n",
    "    \n",
    "    w=int(input(\"Please Enter Desired amount: \"))\n",
    "    if(self.balance>0 and self.balance>=w):\n",
    "        \n",
    "        self.balance=self.balance-w\n",
    "        print(\"Your transaction is successfull\")\n",
    "        print(\"your Balance:\",self.balance)\n",
    "        print(\"\")\n",
    "    else:\n",
    "        print(\"Your transaction is cancelled due to\")\n",
    "        print(\"Amount is not sufficient in your account\")\n",
    "        Account(self) \n",
    "                \n",
    "                \n",
    "                \n",
    "def Deposit(self):\n",
    "    \n",
    "    d=int(input(\"Please Enter Desired amount: \"))\n",
    "    self.balance=self.balance+d\n",
    "    print(\"Your transaction is successfull\")\n",
    "    print(\"Balance:\",self.balance)\n",
    "    Account(self)\n",
    "def Exit():\n",
    "    print (\"Exit\")\n",
    "t1 = Bank('mahesh', 1453210145,5000)\n",
    "print (t1) "
   ]
  },
  {
   "cell_type": "markdown",
   "metadata": {},
   "source": [
    "# 14a. Write a GUI for an Expression Calculator using tk."
   ]
  },
  {
   "cell_type": "code",
   "execution_count": 3,
   "metadata": {},
   "outputs": [
    {
     "name": "stdout",
     "output_type": "stream",
     "text": [
      "Second Value : 67\n"
     ]
    }
   ],
   "source": [
    "import tkinter as tk\n",
    "from tkinter import *\n",
    "root = Tk()\n",
    "buttons = {}\n",
    "signVal = ''\n",
    "firstVal = 1\n",
    "root.title('Calculator')\n",
    "root.attributes(\"-toolwindow\", 1) \n",
    "def createNumbers():\n",
    "    \n",
    "    \n",
    "    global buttons\n",
    "    buttonNum = 0\n",
    "    for b in range( 2 ):\n",
    "        \n",
    "        for b2 in range( 5 ):\n",
    "            \n",
    "             button = Button(frame2, text = buttonNum, font =\"Courier 9\", width = 7, bd = 3 )\n",
    "             button.grid(row=b, column=b2)\n",
    "             buttons[ button ] = buttonNum\n",
    "             buttonNum += 1\n",
    "             button.bind( \"<Button-1>\", makeChoice )\n",
    "\n",
    "                \n",
    "                \n",
    "                \n",
    "def operators():\n",
    "    \n",
    "    \n",
    "    button = Button(frame2, text = '+', font = \"Courier 9\",width = 5, bd = 3, command = lambda : operation('+') )\n",
    "    button.grid(row=2, column=0)\n",
    "    button = Button(frame2, text = '-', font = \"Courier 9\",\n",
    "    width = 5, bd = 3, command = lambda : operation('-') )\n",
    "    button.grid(row=2, column=1)\n",
    "    button = Button(frame2, text = '*', font = \"Courier 9\",\n",
    "    width = 5, bd = 3, command = lambda : operation('*') )\n",
    "    button.grid(row=2, column=2)\n",
    "    button = Button(frame2, text = '/', font = \"Courier 9\",\n",
    "    width = 5, bd = 3, command = lambda : operation('/') )\n",
    "    button.grid(row=2, column=3)\n",
    "    button = Button(frame2, text = '=', font = \"Courier 9\",\n",
    "    width = 5, bd = 3, command = lambda : excutionPart('=') )\n",
    "    button.grid(row=2, column=4)\n",
    "    button = Button(frame2, text = 'Clear', font = \"Courier 9\", width = 5, bd = 3, command = lambda : clearAll('clear') )\n",
    "    button.grid(row=3, column=0) \n",
    "def makeChoice( event ):\n",
    "    global buttons\n",
    "    if (v.get() is None) or (len(v.get()) == 0):\n",
    "        \n",
    "         v.set(buttons[ event.widget ])\n",
    "    else:\n",
    "         v.set(str(v.get())+str(buttons[ event.widget ]))\n",
    "def operation(value):\n",
    "    \n",
    "    try:\n",
    "        \n",
    "        global signVal\n",
    "        global firstVal\n",
    "        signVal = value\n",
    "        if not isinstance(v.get(), int):\n",
    "            \n",
    "            firstVal = int(v.get())\n",
    "        else:\n",
    "            tkMessageBox.showerror(\"Error\",\"Wrong Formate\")\n",
    "            print (\"First Value :\", firstVal)\n",
    "            v.set('')\n",
    "    except TypeError:\n",
    "        tkMessageBox.showerror(\"Error\",\"Wrong Formate\") \n",
    "\n",
    "def excutionPart(ex):\n",
    "    \n",
    "    print (\"Second Value :\", str(v.get()))\n",
    "    if signVal is '+':\n",
    "        \n",
    "        v.set(int(firstVal)+int(v.get()))\n",
    "    elif signVal is '-':\n",
    "        v.set(int(firstVal)-int(v.get()))\n",
    "    elif signVal is '*':\n",
    "        v.set(int(firstVal)*int(v.get()))\n",
    "    elif signVal is '/':\n",
    "        v.set(int(firstVal)/int(v.get()))\n",
    "    else:\n",
    "        v.set('')\n",
    "        print (\"Result is :\", str(v.get())) \n",
    "def clearAll(val):\n",
    "    \n",
    "    v.set('')\n",
    "frame1 = Frame(root)\n",
    "frame1.pack(side = TOP)\n",
    "#Bottom Frame\n",
    "frame2 = Frame(root)\n",
    "frame2.pack(side = BOTTOM)\n",
    "v = StringVar()\n",
    "e = Entry(frame1, textvariable=v, width = 3)\n",
    "e.pack(side = LEFT)\n",
    "createNumbers()\n",
    "operators()\n",
    "root.mainloop() \n"
   ]
  },
  {
   "cell_type": "markdown",
   "metadata": {},
   "source": [
    "# 14b. Write a program to implement the following figures using turtle "
   ]
  },
  {
   "cell_type": "code",
   "execution_count": 4,
   "metadata": {},
   "outputs": [],
   "source": [
    "import turtle, random \n",
    "colors =[\"red\",\"green\",\"blue\",\"orange\",\"purple\",\"pink\",\"yellow\"]\n",
    "painter = turtle.Turtle()\n",
    "painter.pensize(3)\n",
    "for i in range(10):\n",
    "    \n",
    "    color = random.choice(colors)\n",
    "    painter.pencolor(color)\n",
    "    painter.circle(100)\n",
    "    painter.right(30)\n",
    "    painter.left(60)\n",
    "    painter.setposition(0, 0)"
   ]
  },
  {
   "cell_type": "code",
   "execution_count": null,
   "metadata": {},
   "outputs": [],
   "source": [
    "import turtle\n",
    "window = turtle.Screen()\n",
    "window.bgcolor(\"lightgreen\")\n",
    "painter = turtle.Turtle()\n",
    "painter.fillcolor('blue') \n",
    "painter.pencolor('blue')\n",
    "painter.pensize(3)\n",
    "def drawsq(t, s):\n",
    "    \n",
    "    for i in range(4):\n",
    "        \n",
    "        t.forward(s)\n",
    "        t.left(90)\n",
    "for i in range(1,180):\n",
    "    \n",
    "    painter.left(18)\n",
    "    drawsq(painter, 200) "
   ]
  },
  {
   "cell_type": "markdown",
   "metadata": {},
   "source": [
    "# 15a. Write a test-case to check the function even_numbers which return True on passing a list of all even numbers 1"
   ]
  },
  {
   "cell_type": "code",
   "execution_count": 10,
   "metadata": {},
   "outputs": [
    {
     "name": "stderr",
     "output_type": "stream",
     "text": [
      "E\n",
      "======================================================================\n",
      "ERROR: C:\\Users\\KIRAN\\AppData\\Roaming\\jupyter\\runtime\\kernel-20a970c1-b15a-4991-ab85-dca1e2bbf28f (unittest.loader._FailedTest)\n",
      "----------------------------------------------------------------------\n",
      "AttributeError: module '__main__' has no attribute 'C:\\Users\\KIRAN\\AppData\\Roaming\\jupyter\\runtime\\kernel-20a970c1-b15a-4991-ab85-dca1e2bbf28f'\n",
      "\n",
      "----------------------------------------------------------------------\n",
      "Ran 1 test in 0.002s\n",
      "\n",
      "FAILED (errors=1)\n"
     ]
    },
    {
     "ename": "SystemExit",
     "evalue": "True",
     "output_type": "error",
     "traceback": [
      "An exception has occurred, use %tb to see the full traceback.\n",
      "\u001b[1;31mSystemExit\u001b[0m\u001b[1;31m:\u001b[0m True\n"
     ]
    }
   ],
   "source": [
    "import unittest\n",
    "import warnings\n",
    "warnings.filterwarnings('ignore')\n",
    "def even_numbers(ls):\n",
    "    \n",
    "    i=0\n",
    "    for i in range(len(ls)):\n",
    "        \n",
    "        if ls[i]%2 == 0:\n",
    "            \n",
    "            i=i+1\n",
    "        else:\n",
    "            return False\n",
    "    return True; \n",
    "class Test(unittest.TestCase):\n",
    "    def test_even_numbers(self):\n",
    "        ls=[2,4,6,8,12]\n",
    "        print( even_numbers(ls))\n",
    "        self.assertEqual(True, even_numbers(ls))\n",
    "\n",
    "unittest.main() "
   ]
  },
  {
   "cell_type": "markdown",
   "metadata": {},
   "source": [
    "# 15b) Write a test-case to check the function reverse_string which returns the reversed string"
   ]
  },
  {
   "cell_type": "code",
   "execution_count": 16,
   "metadata": {},
   "outputs": [
    {
     "name": "stderr",
     "output_type": "stream",
     "text": [
      "E\n",
      "======================================================================\n",
      "ERROR: C:\\Users\\KIRAN\\AppData\\Roaming\\jupyter\\runtime\\kernel-20a970c1-b15a-4991-ab85-dca1e2bbf28f (unittest.loader._FailedTest)\n",
      "----------------------------------------------------------------------\n",
      "AttributeError: module '__main__' has no attribute 'C:\\Users\\KIRAN\\AppData\\Roaming\\jupyter\\runtime\\kernel-20a970c1-b15a-4991-ab85-dca1e2bbf28f'\n",
      "\n",
      "----------------------------------------------------------------------\n",
      "Ran 1 test in 0.001s\n",
      "\n",
      "FAILED (errors=1)\n"
     ]
    },
    {
     "ename": "SystemExit",
     "evalue": "True",
     "output_type": "error",
     "traceback": [
      "An exception has occurred, use %tb to see the full traceback.\n",
      "\u001b[1;31mSystemExit\u001b[0m\u001b[1;31m:\u001b[0m True\n"
     ]
    }
   ],
   "source": [
    "import unittest\n",
    "def reverse(s):\n",
    "    \n",
    "    return s[::-1]\n",
    "class Test(unittest.TestCase):\n",
    "    def test_reverse(self):\n",
    "        s=\"mahesh\"\n",
    "        print( reverse(s))\n",
    "        self.assertEqual(\"hseham\", reverse(s))\n",
    "\n",
    "unittest.main() "
   ]
  },
  {
   "cell_type": "markdown",
   "metadata": {},
   "source": [
    "# 16a) Build any one classical data structure."
   ]
  },
  {
   "cell_type": "code",
   "execution_count": 34,
   "metadata": {},
   "outputs": [
    {
     "name": "stdout",
     "output_type": "stream",
     "text": [
      "---------------------------------\n",
      "Implementation of Stack in Python\n",
      "---------------------------------\n",
      "Menu items\n",
      "1. View the stack\n",
      "2. Push item into stack\n",
      "3. Pop item out of stack\n",
      "4. Get the size of stack\n",
      "5. Get the top item in stack\n",
      "6. Quit the program\n",
      "Enter the option: 1\n",
      "No item in stack\n",
      "Enter the option: 2\n",
      "Enter the item to be inserted: 10\n",
      "Inserted item: 10\n",
      "Enter the option: 2\n",
      "Enter the item to be inserted: 20\n",
      "Inserted item: 20\n",
      "Enter the option: 4\n",
      "2\n",
      "Enter the option: 3\n",
      "Removed item : 20\n",
      "Enter the option: 2\n",
      "Enter the item to be inserted: 100\n",
      "Inserted item: 100\n",
      "Enter the option: 5\n",
      "100\n",
      "Enter the option: 6\n"
     ]
    }
   ],
   "source": [
    "class Stack:\n",
    "    \n",
    "    # initialize an empty list (stack)\n",
    "    def __init__(self):\n",
    "        self.mStack = []\n",
    "    # function to check if the stack is empty\n",
    "    def isEmpty(self):\n",
    "        \n",
    "        return self.mStack == []\n",
    "     # function to push (insert) item into the stack\n",
    "    def push(self, item):\n",
    "        self.mStack.append(item)\n",
    "        print( \"Inserted item: {}\".format(item))\n",
    "    # function to pop (remove) item out of the stack\n",
    "    def pop(self):\n",
    "        if self.isEmpty() == False:\n",
    "            \n",
    "            item = self.mStack.pop()\n",
    "            print( \"Removed item : {}\".format(item))\n",
    "        else:\n",
    "             print (\"No item in stack\")\n",
    " # function to view the items in the stack\n",
    "    def view(self):\n",
    "        \n",
    "        if self.isEmpty() == False:\n",
    "            for item in self.mStack:\n",
    "                print( item)\n",
    "        else:\n",
    "             print (\"No item in stack\")\n",
    " # function to get the length of stack \n",
    "# function to get the length of stack\n",
    "    def size(self):\n",
    "         return len(self.mStack)\n",
    " # function to get the top item in stack\n",
    "    def top(self):\n",
    "        if self.isEmpty() == False:\n",
    "            return self.mStack[len(self.mStack)-1]\n",
    "        else:\n",
    "            return \"No item in stack\" \n",
    "if __name__ == \"__main__\":\n",
    "    \n",
    "    # create an instance of the stack class\n",
    "    mStack = Stack()\n",
    "    print (\"---------------------------------\")\n",
    "    print( \"Implementation of Stack in Python\")\n",
    "    print (\"---------------------------------\")\n",
    "    print (\"Menu items\")\n",
    "    print (\"1. View the stack\")\n",
    "    print (\"2. Push item into stack\")\n",
    "    print (\"3. Pop item out of stack\")\n",
    "    print (\"4. Get the size of stack\")\n",
    "    print (\"5. Get the top item in stack\") \n",
    "    print (\"6. Quit the program\")\n",
    "    \n",
    "    \n",
    "    while True:\n",
    "        \n",
    "        user_input = int(input(\"Enter the option: \"))\n",
    "        if user_input == 1:\n",
    "            \n",
    "            mStack.view()\n",
    "        elif user_input == 2:\n",
    "            item = (input(\"Enter the item to be inserted: \"))\n",
    "            mStack.push(item)\n",
    "        elif user_input == 3:\n",
    "            mStack.pop()\n",
    "        elif user_input == 4:\n",
    "            print (mStack.size())\n",
    "        elif user_input == 5:\n",
    "            print (mStack.top())\n",
    "        elif user_input == 6:\n",
    "            break"
   ]
  },
  {
   "cell_type": "markdown",
   "metadata": {},
   "source": [
    "# 16b) Write a program to solve knapsack problem"
   ]
  },
  {
   "cell_type": "code",
   "execution_count": 35,
   "metadata": {},
   "outputs": [
    {
     "name": "stdout",
     "output_type": "stream",
     "text": [
      "9\n"
     ]
    }
   ],
   "source": [
    "def knapSack(W, wt, val, n):\n",
    "    \n",
    "    K = [[0 for x in range(W+1)] for x in range(n+1)]\n",
    "    for i in range(n+1):\n",
    "        \n",
    "        for w in range(W+1):\n",
    "            \n",
    "            if i==0 or w==0:\n",
    "                \n",
    "                K[i][w] = 0\n",
    "            elif wt[i-1] <= w:\n",
    "                K[i][w] = max(val[i-1] + K[i-1][w-wt[i-1]],\n",
    "                K[i-1][w])\n",
    "            else:\n",
    "                 K[i][w] = K[i-1][w]\n",
    "\n",
    "    return K[n][W]\n",
    "val = [5, 3, 4]\n",
    "wt = [3, 2, 1]\n",
    "W = 5\n",
    "n = len(val)\n",
    "print(knapSack(W, wt, val, n)) "
   ]
  },
  {
   "cell_type": "code",
   "execution_count": null,
   "metadata": {},
   "outputs": [],
   "source": []
  }
 ],
 "metadata": {
  "kernelspec": {
   "display_name": "Python 3",
   "language": "python",
   "name": "python3"
  },
  "language_info": {
   "codemirror_mode": {
    "name": "ipython",
    "version": 3
   },
   "file_extension": ".py",
   "mimetype": "text/x-python",
   "name": "python",
   "nbconvert_exporter": "python",
   "pygments_lexer": "ipython3",
   "version": "3.7.4"
  }
 },
 "nbformat": 4,
 "nbformat_minor": 2
}
